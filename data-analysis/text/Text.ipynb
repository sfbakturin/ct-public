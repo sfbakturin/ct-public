{
  "cells": [
    {
      "cell_type": "markdown",
      "metadata": {
        "id": "6n7KvmDxkk_j"
      },
      "source": [
        "# Лабораторная работа №4. Текст"
      ]
    },
    {
      "cell_type": "markdown",
      "metadata": {
        "id": "IIWH7satkk_o"
      },
      "source": [
        "**Работа выполнена**: Бактурин Савелий Филиппович M33331\n",
        "\n",
        "**Преподаватель**: Забашта Алексей."
      ]
    },
    {
      "cell_type": "markdown",
      "metadata": {
        "id": "wRAVCsiIkk_q"
      },
      "source": [
        "## Инициализация"
      ]
    },
    {
      "cell_type": "markdown",
      "metadata": {
        "id": "skgNM1KTkk_s"
      },
      "source": [
        "### Импорт библиотек"
      ]
    },
    {
      "cell_type": "code",
      "execution_count": 1,
      "metadata": {
        "id": "AJbucwwKkk_t"
      },
      "outputs": [],
      "source": [
        "import pandas\n",
        "import numpy\n",
        "import matplotlib\n",
        "import matplotlib.pyplot\n",
        "import sklearn\n",
        "import sklearn.preprocessing\n",
        "import sklearn.model_selection\n",
        "import sklearn.neighbors\n",
        "import sklearn.linear_model\n",
        "import sklearn.tree\n",
        "import sklearn.ensemble\n",
        "import sklearn.metrics\n",
        "import sklearn.feature_extraction\n",
        "import sklearn.feature_extraction.text\n",
        "import copy\n",
        "import itertools\n",
        "import collections\n",
        "import nltk\n",
        "import nltk.corpus\n",
        "import nltk.stem\n",
        "import youtokentome\n",
        "import os\n",
        "import tqdm"
      ]
    },
    {
      "cell_type": "markdown",
      "metadata": {
        "id": "QekZFVqLkk_v"
      },
      "source": [
        "#### Настройка библиотек"
      ]
    },
    {
      "cell_type": "code",
      "execution_count": 2,
      "metadata": {
        "id": "xeFNQjYJkk_w"
      },
      "outputs": [],
      "source": [
        "matplotlib.rcParams.update({'font.size': 17})"
      ]
    },
    {
      "cell_type": "markdown",
      "metadata": {
        "id": "-0hvCROrkk_y"
      },
      "source": [
        "### Установка константных значений"
      ]
    },
    {
      "cell_type": "code",
      "execution_count": 3,
      "metadata": {
        "id": "-tFaDrrakk_2"
      },
      "outputs": [],
      "source": [
        "from config import *"
      ]
    },
    {
      "cell_type": "markdown",
      "metadata": {
        "id": "W7DlNcCBkk_3"
      },
      "source": [
        "### Создание необходимых директорий"
      ]
    },
    {
      "cell_type": "code",
      "execution_count": 4,
      "metadata": {
        "id": "0PcHwYrtkk_4"
      },
      "outputs": [],
      "source": [
        "def mkpath(dirname, topic, name = None, ext = True):\n",
        "\tbase_path = os.path.join(dirname, topic)\n",
        "\tif name:\n",
        "\t\tpath = os.path.join(base_path, name.replace(\"/\", \"-\"))\n",
        "\telse:\n",
        "\t\treturn base_path\n",
        "\tif ext:\n",
        "\t\treturn path + \".txt\"\n",
        "\telse:\n",
        "\t\treturn path\n",
        "\n",
        "def mkpath_model(topic, name = None, ext = True):\n",
        "\treturn mkpath(DIR_DATASET, topic, name, ext)\n",
        "\n",
        "def mkpath_test(topic, name = None, ext = True):\n",
        "\treturn mkpath(DIR_TESTING, topic, name, ext)"
      ]
    },
    {
      "cell_type": "code",
      "execution_count": 5,
      "metadata": {
        "id": "y3UzR_XYkk_4"
      },
      "outputs": [],
      "source": [
        "if not os.path.exists(DIR_DATASET):\n",
        "\tos.mkdir(DIR_DATASET)\n",
        "\n",
        "if not os.path.exists(DIR_TESTING):\n",
        "\tos.mkdir(DIR_TESTING)\n",
        "\n",
        "for topic in DAT_TOPICS:\n",
        "\tpath = mkpath_model(topic)\n",
        "\tif not os.path.exists(path):\n",
        "\t\tos.mkdir(path)"
      ]
    },
    {
      "cell_type": "markdown",
      "metadata": {
        "id": "_M2UjIF6kk_6"
      },
      "source": [
        "### Загрузка данных"
      ]
    },
    {
      "cell_type": "code",
      "execution_count": 6,
      "metadata": {
        "id": "oPpffFf4kk_6"
      },
      "outputs": [],
      "source": [
        "def read_topic(topic, name, mkpath):\n",
        "\tfilename = mkpath(topic, name, False)\n",
        "\twith open(filename, \"r\") as f:\n",
        "\t\ttext = f.read()\n",
        "\ttable = { \"name\": name, \"topic\": topic, \"text\": text }\n",
        "\treturn table\n",
        "\n",
        "def read_model(topic, name):\n",
        "\treturn read_topic(topic, name, mkpath_model)\n",
        "\n",
        "def read_test(topic, name):\n",
        "\treturn read_topic(topic, name, mkpath_test)"
      ]
    },
    {
      "cell_type": "code",
      "execution_count": 7,
      "metadata": {
        "id": "7xeXMM_ckk_6"
      },
      "outputs": [],
      "source": [
        "base_table = { \"name\": [], \"topic\": [], \"text\": [] }\n",
        "topics = pandas.DataFrame(data = base_table)\n",
        "index = 0"
      ]
    },
    {
      "cell_type": "code",
      "execution_count": 8,
      "metadata": {
        "colab": {
          "base_uri": "https://localhost:8080/"
        },
        "id": "JtpJ9CSBkk_7",
        "outputId": "34c6f01c-78aa-454e-ddc6-fd7be3742d1d"
      },
      "outputs": [
        {
          "name": "stderr",
          "output_type": "stream",
          "text": [
            "100%|██████████| 1662/1662 [00:00<00:00, 4454.45it/s]\n",
            "100%|██████████| 446/446 [00:00<00:00, 3937.97it/s]\n",
            "100%|██████████| 1287/1287 [00:00<00:00, 3524.76it/s]\n",
            "100%|██████████| 2188/2188 [00:00<00:00, 2799.37it/s]\n",
            "100%|██████████| 433/433 [00:00<00:00, 2494.22it/s]\n",
            "100%|██████████| 864/864 [00:00<00:00, 2393.05it/s]\n",
            "100%|██████████| 1188/1188 [00:00<00:00, 2164.12it/s]\n",
            "100%|██████████| 7/7 [00:02<00:00,  2.56it/s]\n"
          ]
        }
      ],
      "source": [
        "for topic in tqdm.tqdm(os.listdir(DIR_DATASET)):\n",
        "\tfor name in tqdm.tqdm(os.listdir(mkpath_model(topic))):\n",
        "\t\ttopics = pandas.concat([topics, pandas.DataFrame(data = read_model(topic, name), index = [index])])\n",
        "\t\tindex += 1"
      ]
    },
    {
      "cell_type": "markdown",
      "metadata": {
        "id": "fH3E59UJkk_8"
      },
      "source": [
        "## Обзор данных"
      ]
    },
    {
      "cell_type": "markdown",
      "metadata": {
        "id": "kf8UsR3Nkk_9"
      },
      "source": [
        "### Размеченные данные"
      ]
    },
    {
      "cell_type": "code",
      "execution_count": 9,
      "metadata": {
        "colab": {
          "base_uri": "https://localhost:8080/",
          "height": 206
        },
        "id": "E0kvzbxtkk_9",
        "outputId": "29681948-0958-43da-f172-0b5dbe0d91e0"
      },
      "outputs": [
        {
          "data": {
            "text/html": [
              "<div>\n",
              "<style scoped>\n",
              "    .dataframe tbody tr th:only-of-type {\n",
              "        vertical-align: middle;\n",
              "    }\n",
              "\n",
              "    .dataframe tbody tr th {\n",
              "        vertical-align: top;\n",
              "    }\n",
              "\n",
              "    .dataframe thead th {\n",
              "        text-align: right;\n",
              "    }\n",
              "</style>\n",
              "<table border=\"1\" class=\"dataframe\">\n",
              "  <thead>\n",
              "    <tr style=\"text-align: right;\">\n",
              "      <th></th>\n",
              "      <th>name</th>\n",
              "      <th>topic</th>\n",
              "      <th>text</th>\n",
              "    </tr>\n",
              "  </thead>\n",
              "  <tbody>\n",
              "    <tr>\n",
              "      <th>0</th>\n",
              "      <td>Intercultural communication.txt</td>\n",
              "      <td>Culture</td>\n",
              "      <td>Intercultural communication is a discipline th...</td>\n",
              "    </tr>\n",
              "    <tr>\n",
              "      <th>1</th>\n",
              "      <td>Gen Z shake.txt</td>\n",
              "      <td>Culture</td>\n",
              "      <td>The millennial pause is a pause in speaking th...</td>\n",
              "    </tr>\n",
              "    <tr>\n",
              "      <th>2</th>\n",
              "      <td>Liminality.txt</td>\n",
              "      <td>Culture</td>\n",
              "      <td>In anthropology, liminality (from Latin  līmen...</td>\n",
              "    </tr>\n",
              "    <tr>\n",
              "      <th>3</th>\n",
              "      <td>Communitarianism.txt</td>\n",
              "      <td>Culture</td>\n",
              "      <td>Communitarianism is a philosophy that emphasiz...</td>\n",
              "    </tr>\n",
              "    <tr>\n",
              "      <th>4</th>\n",
              "      <td>Human ecosystem.txt</td>\n",
              "      <td>Culture</td>\n",
              "      <td>Human ecosystems are human-dominated ecosystem...</td>\n",
              "    </tr>\n",
              "  </tbody>\n",
              "</table>\n",
              "</div>"
            ],
            "text/plain": [
              "                              name    topic  \\\n",
              "0  Intercultural communication.txt  Culture   \n",
              "1                  Gen Z shake.txt  Culture   \n",
              "2                   Liminality.txt  Culture   \n",
              "3             Communitarianism.txt  Culture   \n",
              "4              Human ecosystem.txt  Culture   \n",
              "\n",
              "                                                text  \n",
              "0  Intercultural communication is a discipline th...  \n",
              "1  The millennial pause is a pause in speaking th...  \n",
              "2  In anthropology, liminality (from Latin  līmen...  \n",
              "3  Communitarianism is a philosophy that emphasiz...  \n",
              "4  Human ecosystems are human-dominated ecosystem...  "
            ]
          },
          "execution_count": 9,
          "metadata": {},
          "output_type": "execute_result"
        }
      ],
      "source": [
        "topics.head()"
      ]
    },
    {
      "cell_type": "code",
      "execution_count": 10,
      "metadata": {
        "colab": {
          "base_uri": "https://localhost:8080/",
          "height": 206
        },
        "id": "jBAlWGebkk_-",
        "outputId": "703d21bc-80b8-47ab-8ad2-3cc651b32c1a"
      },
      "outputs": [
        {
          "data": {
            "text/html": [
              "<div>\n",
              "<style scoped>\n",
              "    .dataframe tbody tr th:only-of-type {\n",
              "        vertical-align: middle;\n",
              "    }\n",
              "\n",
              "    .dataframe tbody tr th {\n",
              "        vertical-align: top;\n",
              "    }\n",
              "\n",
              "    .dataframe thead th {\n",
              "        text-align: right;\n",
              "    }\n",
              "</style>\n",
              "<table border=\"1\" class=\"dataframe\">\n",
              "  <thead>\n",
              "    <tr style=\"text-align: right;\">\n",
              "      <th></th>\n",
              "      <th>name</th>\n",
              "      <th>topic</th>\n",
              "      <th>text</th>\n",
              "    </tr>\n",
              "  </thead>\n",
              "  <tbody>\n",
              "    <tr>\n",
              "      <th>8063</th>\n",
              "      <td>Byron Moreno.txt</td>\n",
              "      <td>Sports</td>\n",
              "      <td>Byron Aldemar Moreno Ruales (born November 23,...</td>\n",
              "    </tr>\n",
              "    <tr>\n",
              "      <th>8064</th>\n",
              "      <td>Swingman.txt</td>\n",
              "      <td>Sports</td>\n",
              "      <td>A swingman is an athlete capable of playing mu...</td>\n",
              "    </tr>\n",
              "    <tr>\n",
              "      <th>8065</th>\n",
              "      <td>Tanking (sports).txt</td>\n",
              "      <td>Sports</td>\n",
              "      <td>Tanking in sports refers to the practice of in...</td>\n",
              "    </tr>\n",
              "    <tr>\n",
              "      <th>8066</th>\n",
              "      <td>Sport culture.txt</td>\n",
              "      <td>Sports</td>\n",
              "      <td>Sport pertains to any form of physical activit...</td>\n",
              "    </tr>\n",
              "    <tr>\n",
              "      <th>8067</th>\n",
              "      <td>History of ice hockey.txt</td>\n",
              "      <td>Sports</td>\n",
              "      <td>Ice hockey is believed to have evolved from si...</td>\n",
              "    </tr>\n",
              "  </tbody>\n",
              "</table>\n",
              "</div>"
            ],
            "text/plain": [
              "                           name   topic  \\\n",
              "8063           Byron Moreno.txt  Sports   \n",
              "8064               Swingman.txt  Sports   \n",
              "8065       Tanking (sports).txt  Sports   \n",
              "8066          Sport culture.txt  Sports   \n",
              "8067  History of ice hockey.txt  Sports   \n",
              "\n",
              "                                                   text  \n",
              "8063  Byron Aldemar Moreno Ruales (born November 23,...  \n",
              "8064  A swingman is an athlete capable of playing mu...  \n",
              "8065  Tanking in sports refers to the practice of in...  \n",
              "8066  Sport pertains to any form of physical activit...  \n",
              "8067  Ice hockey is believed to have evolved from si...  "
            ]
          },
          "execution_count": 10,
          "metadata": {},
          "output_type": "execute_result"
        }
      ],
      "source": [
        "topics.tail()"
      ]
    },
    {
      "cell_type": "markdown",
      "metadata": {
        "id": "QMyeo8eKkk_-"
      },
      "source": [
        "### Распределение количества слов в статьях"
      ]
    },
    {
      "cell_type": "code",
      "execution_count": 11,
      "metadata": {
        "colab": {
          "base_uri": "https://localhost:8080/",
          "height": 457
        },
        "id": "GnjCSUaRkk__",
        "outputId": "dac1181a-3636-4abb-e918-a0aae2e3db37"
      },
      "outputs": [
        {
          "data": {
            "text/plain": [
              "<Axes: >"
            ]
          },
          "execution_count": 11,
          "metadata": {},
          "output_type": "execute_result"
        },
        {
          "data": {
            "image/png": "[encoded data removed]",
            "text/plain": [
              "<Figure size 640x480 with 1 Axes>"
            ]
          },
          "metadata": {},
          "output_type": "display_data"
        }
      ],
      "source": [
        "topics_words_n = topics.text.apply(lambda txt: len(txt.split()))\n",
        "topics_words_n.hist(bins = 50)"
      ]
    },
    {
      "cell_type": "markdown",
      "metadata": {
        "id": "uDjSDj6xkk__"
      },
      "source": [
        "### Словарь"
      ]
    },
    {
      "cell_type": "code",
      "execution_count": 12,
      "metadata": {
        "id": "lnEUSj0NklAA"
      },
      "outputs": [],
      "source": [
        "def build_vocabulary(texts):\n",
        "\twords = list(itertools.chain.from_iterable([text.split() for text in texts]))\n",
        "\tvocab = collections.Counter(words)\n",
        "\treturn vocab"
      ]
    },
    {
      "cell_type": "code",
      "execution_count": 13,
      "metadata": {
        "id": "9UrHHfmQklAA"
      },
      "outputs": [],
      "source": [
        "texts = topics.text.tolist()\n",
        "vocabulary = build_vocabulary(texts)"
      ]
    },
    {
      "cell_type": "code",
      "execution_count": 14,
      "metadata": {
        "colab": {
          "base_uri": "https://localhost:8080/"
        },
        "id": "wgGa5tekklAB",
        "outputId": "c4e30887-19a3-4513-e2c0-d33648b57bf8"
      },
      "outputs": [
        {
          "data": {
            "text/plain": [
              "[('Intercultural', 6),\n",
              " ('communication', 177),\n",
              " ('is', 14428),\n",
              " ('a', 18571),\n",
              " ('discipline', 70),\n",
              " ('that', 5823),\n",
              " ('studies', 166),\n",
              " ('across', 198),\n",
              " ('different', 660),\n",
              " ('cultures', 132),\n",
              " ('and', 21692),\n",
              " ('social', 761),\n",
              " ('groups,', 48),\n",
              " ('or', 6755),\n",
              " ('how', 331),\n",
              " ('culture', 412),\n",
              " ('affects', 32),\n",
              " ('communication.', 11),\n",
              " ('It', 2314),\n",
              " ('describes', 133),\n",
              " ('the', 33999),\n",
              " ('wide', 113),\n",
              " ('range', 200),\n",
              " ('of', 25982),\n",
              " ('processes', 142),\n",
              " ('problems', 96),\n",
              " ('naturally', 31),\n",
              " ('appear', 51),\n",
              " ('within', 508),\n",
              " ('an', 3810)]"
            ]
          },
          "execution_count": 14,
          "metadata": {},
          "output_type": "execute_result"
        }
      ],
      "source": [
        "list(vocabulary.items())[:30]"
      ]
    },
    {
      "cell_type": "markdown",
      "metadata": {
        "id": "bC06rhWVklAB"
      },
      "source": [
        "## Предобработка данных"
      ]
    },
    {
      "cell_type": "markdown",
      "metadata": {
        "id": "rioPvF3zklAC"
      },
      "source": [
        "### Фильтрация слов"
      ]
    },
    {
      "cell_type": "markdown",
      "metadata": {
        "id": "kE6pYvBHklAC"
      },
      "source": [
        "#### Очистка от специальных символов"
      ]
    },
    {
      "cell_type": "code",
      "execution_count": 15,
      "metadata": {
        "id": "QX-2WuJdklAD"
      },
      "outputs": [],
      "source": [
        "def preprocess_text(text):\n",
        "\ttext = text.lower()\n",
        "\tis_allowed_char = lambda c: c.isalpha() or c == ' '\n",
        "\ttext = ''.join(list(filter(is_allowed_char, text)))\n",
        "\treturn text"
      ]
    },
    {
      "cell_type": "code",
      "execution_count": 16,
      "metadata": {
        "id": "HpLqbVAZklAE"
      },
      "outputs": [],
      "source": [
        "texts = [preprocess_text(text) for text in topics.text.tolist()]\n",
        "vocabulary = build_vocabulary(texts)"
      ]
    },
    {
      "cell_type": "code",
      "execution_count": 17,
      "metadata": {
        "colab": {
          "base_uri": "https://localhost:8080/"
        },
        "id": "ljHsNYTQklAE",
        "outputId": "c4a8c38a-8a21-4b52-dd42-6817d8054e0b"
      },
      "outputs": [
        {
          "data": {
            "text/plain": [
              "[('the', 40149),\n",
              " ('of', 26050),\n",
              " ('and', 21843),\n",
              " ('a', 20260),\n",
              " ('in', 17219),\n",
              " ('to', 15039),\n",
              " ('is', 14548),\n",
              " ('as', 7451),\n",
              " ('or', 7087),\n",
              " ('by', 5998),\n",
              " ('that', 5927),\n",
              " ('for', 5829),\n",
              " ('are', 4476),\n",
              " ('it', 4404),\n",
              " ('an', 4131),\n",
              " ('with', 4076),\n",
              " ('on', 3663),\n",
              " ('was', 3312),\n",
              " ('from', 3131),\n",
              " ('be', 3042),\n",
              " ('which', 2930),\n",
              " ('used', 2283),\n",
              " ('also', 2161),\n",
              " ('can', 1950),\n",
              " ('such', 1937),\n",
              " ('has', 1863),\n",
              " ('their', 1753),\n",
              " ('this', 1752),\n",
              " ('at', 1730),\n",
              " ('other', 1715)]"
            ]
          },
          "execution_count": 17,
          "metadata": {},
          "output_type": "execute_result"
        }
      ],
      "source": [
        "vocabulary.most_common(30)"
      ]
    },
    {
      "cell_type": "markdown",
      "metadata": {
        "id": "8aMZ0GmQklAF"
      },
      "source": [
        "#### Очистка от стоп-слов"
      ]
    },
    {
      "cell_type": "code",
      "execution_count": 18,
      "metadata": {
        "colab": {
          "base_uri": "https://localhost:8080/"
        },
        "id": "pM4mHbYsklAF",
        "outputId": "10a68b5e-576b-407e-a9b2-276774b16f3b"
      },
      "outputs": [
        {
          "name": "stderr",
          "output_type": "stream",
          "text": [
            "[nltk_data] Downloading package stopwords to /home/saveliy-\n",
            "[nltk_data]     vm/nltk_data...\n",
            "[nltk_data]   Package stopwords is already up-to-date!\n"
          ]
        },
        {
          "data": {
            "text/plain": [
              "True"
            ]
          },
          "execution_count": 18,
          "metadata": {},
          "output_type": "execute_result"
        }
      ],
      "source": [
        "nltk.download(\"stopwords\")"
      ]
    },
    {
      "cell_type": "code",
      "execution_count": 19,
      "metadata": {
        "id": "_rYRX5goklAG"
      },
      "outputs": [],
      "source": [
        "eng_stopwords = nltk.corpus.stopwords.words(\"english\")\n",
        "eng_stopwords = set(eng_stopwords)"
      ]
    },
    {
      "cell_type": "code",
      "execution_count": 20,
      "metadata": {
        "id": "7cpo0_bLklAG"
      },
      "outputs": [],
      "source": [
        "def preprocess_text(txt):\n",
        "\tis_stopword = lambda w: w not in eng_stopwords\n",
        "\ttxt = ' '.join(list(filter(is_stopword, txt.split())))\n",
        "\treturn txt"
      ]
    },
    {
      "cell_type": "code",
      "execution_count": 21,
      "metadata": {
        "id": "haOcz9rZklAH"
      },
      "outputs": [],
      "source": [
        "texts = [preprocess_text(txt) for txt in texts]\n",
        "vocabulary = build_vocabulary(texts)"
      ]
    },
    {
      "cell_type": "code",
      "execution_count": 22,
      "metadata": {
        "colab": {
          "base_uri": "https://localhost:8080/"
        },
        "id": "nX23KnPPklAH",
        "outputId": "b217eaee-3a28-4d69-d4ea-899ee1c98b70"
      },
      "outputs": [
        {
          "data": {
            "text/plain": [
              "[('used', 2283),\n",
              " ('also', 2161),\n",
              " ('system', 1396),\n",
              " ('may', 1324),\n",
              " ('one', 1298),\n",
              " ('data', 1250),\n",
              " ('computer', 1124),\n",
              " ('term', 1022),\n",
              " ('information', 996),\n",
              " ('systems', 979),\n",
              " ('use', 979),\n",
              " ('known', 946),\n",
              " ('often', 908),\n",
              " ('sports', 903),\n",
              " ('first', 879),\n",
              " ('social', 868),\n",
              " ('many', 823),\n",
              " ('world', 810),\n",
              " ('two', 793),\n",
              " ('game', 788),\n",
              " ('software', 753),\n",
              " ('time', 745),\n",
              " ('human', 725),\n",
              " ('theory', 702),\n",
              " ('different', 686),\n",
              " ('called', 686),\n",
              " ('new', 678),\n",
              " ('mathematics', 669),\n",
              " ('cultural', 665),\n",
              " ('culture', 658)]"
            ]
          },
          "execution_count": 22,
          "metadata": {},
          "output_type": "execute_result"
        }
      ],
      "source": [
        "vocabulary.most_common(30)"
      ]
    },
    {
      "cell_type": "markdown",
      "metadata": {
        "id": "lqrGq4elklAI"
      },
      "source": [
        "#### Лемматизация"
      ]
    },
    {
      "cell_type": "code",
      "execution_count": 23,
      "metadata": {
        "colab": {
          "base_uri": "https://localhost:8080/"
        },
        "id": "Yc9-9HtHklAI",
        "outputId": "196974e4-20b3-4ac2-acd7-e0601ac32092"
      },
      "outputs": [
        {
          "name": "stderr",
          "output_type": "stream",
          "text": [
            "[nltk_data] Downloading package wordnet to /home/saveliy-\n",
            "[nltk_data]     vm/nltk_data...\n",
            "[nltk_data]   Package wordnet is already up-to-date!\n",
            "[nltk_data] Downloading package stopwords to /home/saveliy-\n",
            "[nltk_data]     vm/nltk_data...\n",
            "[nltk_data]   Package stopwords is already up-to-date!\n"
          ]
        },
        {
          "data": {
            "text/plain": [
              "True"
            ]
          },
          "execution_count": 23,
          "metadata": {},
          "output_type": "execute_result"
        }
      ],
      "source": [
        "nltk.download(\"wordnet\")\n",
        "nltk.download(\"stopwords\")"
      ]
    },
    {
      "cell_type": "code",
      "execution_count": 24,
      "metadata": {
        "id": "whw85BX2klAJ"
      },
      "outputs": [],
      "source": [
        "eng_lemmatizer = nltk.stem.WordNetLemmatizer()\n",
        "eng_stopwords = set(nltk.corpus.stopwords.words(\"english\"))"
      ]
    },
    {
      "cell_type": "code",
      "execution_count": 25,
      "metadata": {
        "id": "WEM_Rw5eklAJ"
      },
      "outputs": [],
      "source": [
        "def preprocess_text(txt):\n",
        "\ttxt = ' '.join(list(map(eng_lemmatizer.lemmatize, txt.split())))\n",
        "\treturn txt"
      ]
    },
    {
      "cell_type": "code",
      "execution_count": 26,
      "metadata": {
        "id": "tOZPCe2uklAK"
      },
      "outputs": [],
      "source": [
        "texts = [preprocess_text(txt) for txt in texts]\n",
        "vocabulary = build_vocabulary(texts)"
      ]
    },
    {
      "cell_type": "code",
      "execution_count": 27,
      "metadata": {
        "colab": {
          "base_uri": "https://localhost:8080/"
        },
        "id": "3AcizpHUklAK",
        "outputId": "d308b39e-2986-4f08-98bd-737f0eb6211b"
      },
      "outputs": [
        {
          "data": {
            "text/plain": [
              "[('system', 2375),\n",
              " ('used', 2283),\n",
              " ('also', 2161),\n",
              " ('one', 1444),\n",
              " ('computer', 1401),\n",
              " ('game', 1333),\n",
              " ('may', 1324),\n",
              " ('sport', 1306),\n",
              " ('term', 1279),\n",
              " ('data', 1252),\n",
              " ('information', 996),\n",
              " ('use', 979),\n",
              " ('known', 946),\n",
              " ('time', 912),\n",
              " ('often', 908),\n",
              " ('human', 901),\n",
              " ('world', 886),\n",
              " ('culture', 881),\n",
              " ('first', 879),\n",
              " ('number', 874),\n",
              " ('social', 868),\n",
              " ('team', 861),\n",
              " ('form', 835),\n",
              " ('state', 834),\n",
              " ('many', 823),\n",
              " ('two', 793),\n",
              " ('theory', 792),\n",
              " ('study', 789),\n",
              " ('process', 783),\n",
              " ('group', 770)]"
            ]
          },
          "execution_count": 27,
          "metadata": {},
          "output_type": "execute_result"
        }
      ],
      "source": [
        "vocabulary.most_common(30)"
      ]
    },
    {
      "cell_type": "markdown",
      "metadata": {
        "id": "VHH8rHaTklAL"
      },
      "source": [
        "### Токенизация"
      ]
    },
    {
      "cell_type": "code",
      "execution_count": 28,
      "metadata": {
        "id": "tFS7QNXXklAM"
      },
      "outputs": [],
      "source": [
        "with open(PTH_TOKEN_TRAIN_DATA, \"w\") as f_out:\n",
        "\tprint(' '.join(topics.text), file = f_out)"
      ]
    },
    {
      "cell_type": "code",
      "execution_count": 29,
      "metadata": {
        "colab": {
          "base_uri": "https://localhost:8080/"
        },
        "id": "A0c7mlbNklAM",
        "outputId": "58dac78a-cb1a-4491-862e-4fa1d42b200b"
      },
      "outputs": [
        {
          "name": "stderr",
          "output_type": "stream",
          "text": [
            "Training parameters\n",
            "  input: articles.txt\n",
            "  model: articles.pth\n",
            "  vocab_size: 500000\n",
            "  n_threads: 8\n",
            "  character_coverage: 1\n",
            "  pad: 0\n",
            "  unk: 1\n",
            "  bos: 2\n",
            "  eos: 3\n",
            "\n",
            "reading file...\n",
            "learning bpe...\n",
            "number of unique characters in the training data: 1144\n",
            "number of deleted characters: 0\n",
            "number of unique characters left: 1144\n",
            "id: 2000=1318+11              freq: 424         subword: ants=ant+s\n",
            "id: 3000=1467+1178            freq: 163         subword: ▁playing=▁play+ing\n",
            "id: 4000=1260+1154            freq: 92          subword: ▁ver=▁v+er\n",
            "id: 5000=1151+14              freq: 62          subword: inc=in+c\n",
            "id: 6000=3362+4710            freq: 45          subword: ▁(including=▁(in+cluding\n",
            "id: 7000=3739+1370            freq: 35          subword: ▁values,=▁valu+es,\n",
            "id: 8000=4968+1167            freq: 28          subword: ▁assigned=▁assign+ed\n",
            "id: 9000=6324+1164            freq: 23          subword: ▁minutes=▁minut+es\n",
            "id: 10000=1230+1276           freq: 20          subword: ▁Sab=▁S+ab\n",
            "id: 11000=1331+3489           freq: 17          subword: ▁House=▁H+ouse\n",
            "id: 12000=1632+1354           freq: 15          subword: finition=fin+ition\n",
            "id: 13000=6686+7661           freq: 13          subword: ▁multicellular=▁multic+ellular\n",
            "id: 14000=1198+1152           freq: 12          subword: ethe=et+he\n",
            "id: 15000=2381+1312           freq: 10          subword: ▁lowest=▁low+est\n",
            "id: 16000=4124+1312           freq: 9           subword: ▁simplest=▁simpl+est\n",
            "id: 17000=1831+2127           freq: 9           subword: obia,=ob+ia,\n",
            "id: 18000=5607+11             freq: 8           subword: ▁sounds=▁sound+s\n",
            "id: 19000=14075+2159          freq: 7           subword: ▁Oriental=▁Ori+ental\n",
            "id: 20000=1570+2681           freq: 7           subword: ordinary=ord+inary\n",
            "id: 21000=1162+1755           freq: 6           subword: isation,=is+ation,\n",
            "id: 22000=2383+4147           freq: 6           subword: ▁Teaching=▁Te+aching\n",
            "id: 23000=41+1191             freq: 5           subword: Mus=M+us\n",
            "id: 24000=7484+10896          freq: 5           subword: ▁punctu=▁pun+ctu\n",
            "id: 25000=4206+27             freq: 5           subword: ▁Intel.=▁Intel+.\n",
            "id: 26000=4460+1163           freq: 4           subword: local=loc+al\n",
            "id: 27000=1272+12             freq: 4           subword: adr=ad+r\n",
            "id: 28000=21+1283             freq: 4           subword: gment=g+ment\n",
            "id: 29000=1245+6720           freq: 4           subword: ▁Curt=▁C+urt\n",
            "id: 30000=3028+1167           freq: 4           subword: ▁coded=▁cod+ed\n",
            "id: 31000=2666+1163           freq: 3           subword: ▁impal=▁imp+al\n",
            "id: 32000=28+1399             freq: 3           subword: kes.=k+es.\n",
            "id: 33000=20348+3872          freq: 3           subword: HTML=HT+ML\n",
            "id: 34000=15116+35            freq: 3           subword: 37C=37+C\n",
            "id: 35000=10506+1178          freq: 3           subword: ▁absorbing=▁absorb+ing\n",
            "id: 36000=6787+1755           freq: 3           subword: ▁conservation,=▁conserv+ation,\n",
            "id: 37000=4175+36             freq: 3           subword: ndrom)=ndrom+)\n",
            "id: 38000=2094+1376           freq: 3           subword: ▁purple=▁pur+ple\n",
            "id: 39000=38120+1197          freq: 2           subword: ▁lonely=▁lone+ly\n",
            "id: 40000=36019+6134          freq: 2           subword: -Government=-Go+vernment\n",
            "id: 41000=33378+6180          freq: 2           subword: ▁unmanned=▁unm+anned\n",
            "id: 42000=41999+8098          freq: 2           subword: ávadka=ávad+ka\n",
            "id: 43000=2056+1214           freq: 2           subword: ▁Zim=▁Z+im\n",
            "id: 44000=25420+13048         freq: 2           subword: -checking=-che+cking\n",
            "id: 45000=22472+1160          freq: 2           subword: ▁stolen=▁stol+en\n",
            "id: 46000=19737+4525          freq: 2           subword: ▁Quantitative=▁Quant+itative\n",
            "id: 47000=16933+5689          freq: 2           subword: ▁Biopunk=▁Biop+unk\n",
            "id: 48000=3188+14113          freq: 2           subword: ▁(Rangers=▁(R+angers\n",
            "id: 49000=48998+179           freq: 2           subword: ▁Upaniṣ=▁Upani+ṣ\n",
            "id: 50000=9583+1583           freq: 2           subword: ▁deduced=▁dedu+ced\n",
            "id: 51000=2052+10             freq: 2           subword: ▁Conn=▁Con+n\n",
            "id: 52000=6128+63             freq: 2           subword: ▁603=▁60+3\n",
            "id: 53000=4734+24             freq: 2           subword: ▁cognitive,=▁cognitive+,\n",
            "id: 54000=1866+3539           freq: 2           subword: issors,=iss+ors,\n",
            "id: 55000=2337+1720           freq: 2           subword: ▁See,=▁Se+e,\n",
            "id: 56000=4+119               freq: 2           subword: ▁в=▁+в\n",
            "id: 57000=55993+36            freq: 1           subword: 突き)=突き+)\n",
            "id: 58000=9617+57999          freq: 1           subword: ▁innervate=▁inner+vate\n",
            "id: 59000=1602+36             freq: 1           subword: irst)=irst+)\n",
            "id: 60000=1621+55260          freq: 1           subword: ▁Videotex=▁V+ideotex\n",
            "id: 61000=2712+14             freq: 1           subword: ▁calc=▁cal+c\n",
            "id: 62000=3344+1535           freq: 1           subword: ibrating=ibr+ating\n",
            "id: 63000=62998+1878          freq: 1           subword: ▁ultrarunner,=▁ultrarunn+er,\n",
            "id: 64000=5037+1393           freq: 1           subword: ▁abbreviations=▁abbrevi+ations\n",
            "id: 65000=1367+6223           freq: 1           subword: planted=pl+anted\n",
            "id: 66000=7748+24             freq: 1           subword: org,=org+,\n",
            "id: 67000=1224+1162           freq: 1           subword: idis=id+is\n",
            "id: 68000=67999+26320         freq: 1           subword: -approach.=-appro+ach.\n",
            "id: 69000=68998+9161          freq: 1           subword: ▁basilica.On=▁basilica.+On\n",
            "id: 70000=2398+47216          freq: 1           subword: yngart's=yn+gart's\n",
            "id: 71000=4321+70998          freq: 1           subword: ▁Brogaard=▁Bro+gaard\n",
            "id: 72000=45232+8613          freq: 1           subword: ▁cleanliness.=▁cleanl+iness.\n",
            "id: 73000=2024+1248           freq: 1           subword: ystems.=ystem+s.\n",
            "id: 74000=43392+60            freq: 1           subword: ▁JSU=▁JS+U\n",
            "id: 75000=30024+1162          freq: 1           subword: ▁fundrais=▁fundra+is\n",
            "id: 76000=34+25612            freq: 1           subword: -rule=-+rule\n",
            "id: 77000=23947+40510         freq: 1           subword: ▁uncoordinated=▁unco+ordinated\n",
            "id: 78000=47+39378            freq: 1           subword: ECA),=E+CA),\n",
            "id: 79000=38506+24            freq: 1           subword: μή,=μή+,\n",
            "id: 80000=3951+79998          freq: 1           subword: ▁reddish=▁red+dish\n",
            "id: 81000=1173+80999          freq: 1           subword: ioni-Halevy=ion+i-Halevy\n",
            "id: 82000=3277+81999          freq: 1           subword: ▁[hyper]media=▁[+hyper]media\n",
            "id: 83000=35720+1272          freq: 1           subword: ▁Dyad=▁Dy+ad\n",
            "id: 84000=1267+83999          freq: 1           subword: ▁Minesweeper.=▁M+inesweeper.\n",
            "id: 85000=84999+24            freq: 1           subword: racquet/basket,=racquet/basket+,\n",
            "id: 86000=1871+85999          freq: 1           subword: ictantus=ict+antus\n",
            "id: 87000=31839+2116          freq: 1           subword: ▁nocturnality,=▁nocturnal+ity,\n",
            "id: 88000=87999+16508         freq: 1           subword: ▁Spontaneous=▁Spont+aneous\n",
            "id: 89000=30262+1368          freq: 1           subword: ▁Gelfond's=▁Gelfond+'s\n",
            "id: 90000=1289+89999          freq: 1           subword: romeda=rom+eda\n",
            "id: 91000=27884+1165          freq: 1           subword: ▁inexor=▁inex+or\n",
            "id: 92000=8921+26894          freq: 1           subword: huLight=hu+Light\n",
            "id: 93000=26092+1156          freq: 1           subword: ▁Universitat=▁Universit+at\n",
            "id: 94000=93998+107           freq: 1           subword: ▁Zulü=▁Zul+ü\n",
            "id: 95000=24195+1187          freq: 1           subword: ▁Andreas=▁Andre+as\n",
            "id: 96000=95998+4898          freq: 1           subword: ▁\"Mehrzwe=▁\"Mehrz+we\n",
            "id: 97000=22569+11            freq: 1           subword: ▁sharks=▁shark+s\n",
            "id: 98000=2099+21642          freq: 1           subword: ▁parody,=▁par+ody,\n",
            "id: 99000=20773+10469         freq: 1           subword: ▁meritocratic=▁merit+ocratic\n",
            "id: 100000=1349+20159         freq: 1           subword: ▁Lorsch=▁L+orsch\n",
            "id: 101000=4371+100998        freq: 1           subword: ▁populace.=▁popul+ace.\n",
            "id: 102000=13775+101999       freq: 1           subword: ▁obscurationism=▁obscur+ationism\n",
            "id: 103000=102999+7182        freq: 1           subword: ▁(CRÉA,=▁(CRÉ+A,\n",
            "id: 104000=103999+9703        freq: 1           subword: hydrolase,=hydrol+ase,\n",
            "id: 105000=3537+16027         freq: 1           subword: ▁puppy=▁pu+ppy\n",
            "id: 106000=1344+15195         freq: 1           subword: ▁Ruse.=▁R+use.\n",
            "id: 107000=14409+8906         freq: 1           subword: ▁SIEM=▁SI+EM\n",
            "id: 108000=107999+71          freq: 1           subword: transcendents;=transcendents+;\n",
            "id: 109000=2249+12950         freq: 1           subword: ▁projectiles,=▁project+iles,\n",
            "id: 110000=1314+12167         freq: 1           subword: ▁GIF=▁G+IF\n",
            "id: 111000=11355+40           freq: 1           subword: oded\"=oded+\"\n",
            "id: 112000=10717+1428         freq: 1           subword: ▁Leibnizian=▁Leibniz+ian\n",
            "id: 113000=6700+112999        freq: 1           subword: ▁3278-9=▁32+78-9\n",
            "id: 114000=4776+113998        freq: 1           subword: ▁truth-conditional=▁truth+-conditional\n",
            "id: 115000=8728+1732          freq: 1           subword: ▁pleasing.=▁pleas+ing.\n",
            "id: 116000=8046+24            freq: 1           subword: ▁minimal,=▁minimal+,\n",
            "id: 117000=7474+1403          freq: 1           subword: ▁Flak=▁Fl+ak\n",
            "id: 118000=6839+40            freq: 1           subword: ▁Di\"=▁Di+\"\n",
            "id: 119000=118999+36          freq: 1           subword: ▁(drop)=▁(drop+)\n",
            "id: 120000=1735+5747          freq: 1           subword: ▁operates,=▁oper+ates,\n",
            "id: 121000=5233+1466          freq: 1           subword: ▁rejecting,=▁reject+ing,\n",
            "id: 122000=1730+4768          freq: 1           subword: ball')=ball+')\n",
            "id: 123000=4248+1248          freq: 1           subword: ▁Indians.=▁Indian+s.\n",
            "id: 124000=3763+1189          freq: 1           subword: ▁Carom=▁Car+om\n",
            "id: 125000=2217+3244          freq: 1           subword: ▁Europe.\"=▁Europe+.\"\n",
            "id: 126000=2709+1382          freq: 1           subword: ▁Germania=▁German+ia\n",
            "id: 127000=1314+2101          freq: 1           subword: ▁Gale=▁G+ale\n",
            "id: 128000=941+127998         freq: 1           subword: ⏩️),=⏩+️),\n",
            "WARNING merged only: 128756 pairs of tokens\n",
            "model saved to: articles.pth\n"
          ]
        },
        {
          "data": {
            "text/plain": [
              "<youtokentome.youtokentome.BPE at 0x7f43049e1990>"
            ]
          },
          "execution_count": 29,
          "metadata": {},
          "output_type": "execute_result"
        }
      ],
      "source": [
        "youtokentome.BPE.train(data = PTH_TOKEN_TRAIN_DATA, model = PTH_TOKEN_MODEL, vocab_size = MDL_VOCAB_SIZE)"
      ]
    },
    {
      "cell_type": "code",
      "execution_count": 30,
      "metadata": {
        "id": "gvNs7hMJklAN"
      },
      "outputs": [],
      "source": [
        "bpe = youtokentome.BPE(model = PTH_TOKEN_MODEL)"
      ]
    },
    {
      "cell_type": "code",
      "execution_count": 31,
      "metadata": {
        "id": "6OR0CbqlklAO"
      },
      "outputs": [],
      "source": [
        "token_text = lambda txt: bpe.encode(txt, output_type = youtokentome.OutputType.ID)\n",
        "tokens = [token_text(txt) for txt in texts]"
      ]
    },
    {
      "cell_type": "markdown",
      "metadata": {
        "id": "JJqkpUPCklAP"
      },
      "source": [
        "### Итоги предобработки"
      ]
    },
    {
      "cell_type": "code",
      "execution_count": 32,
      "metadata": {
        "id": "1IV1PRebklAP"
      },
      "outputs": [],
      "source": [
        "topics[\"processed_text\"] = texts\n",
        "topics[\"tokens_text\"] = tokens"
      ]
    },
    {
      "cell_type": "code",
      "execution_count": 33,
      "metadata": {
        "colab": {
          "base_uri": "https://localhost:8080/",
          "height": 293
        },
        "id": "Eib8eAYnklAQ",
        "outputId": "4e4bc193-0d60-4659-f5c9-a737b12b5617"
      },
      "outputs": [
        {
          "data": {
            "text/html": [
              "<div>\n",
              "<style scoped>\n",
              "    .dataframe tbody tr th:only-of-type {\n",
              "        vertical-align: middle;\n",
              "    }\n",
              "\n",
              "    .dataframe tbody tr th {\n",
              "        vertical-align: top;\n",
              "    }\n",
              "\n",
              "    .dataframe thead th {\n",
              "        text-align: right;\n",
              "    }\n",
              "</style>\n",
              "<table border=\"1\" class=\"dataframe\">\n",
              "  <thead>\n",
              "    <tr style=\"text-align: right;\">\n",
              "      <th></th>\n",
              "      <th>name</th>\n",
              "      <th>topic</th>\n",
              "      <th>text</th>\n",
              "      <th>processed_text</th>\n",
              "      <th>tokens_text</th>\n",
              "    </tr>\n",
              "  </thead>\n",
              "  <tbody>\n",
              "    <tr>\n",
              "      <th>0</th>\n",
              "      <td>Intercultural communication.txt</td>\n",
              "      <td>Culture</td>\n",
              "      <td>Intercultural communication is a discipline th...</td>\n",
              "      <td>intercultural communication discipline study c...</td>\n",
              "      <td>[13745, 2620, 4185, 1915, 2620, 2745, 1671, 16...</td>\n",
              "    </tr>\n",
              "    <tr>\n",
              "      <th>1</th>\n",
              "      <td>Gen Z shake.txt</td>\n",
              "      <td>Culture</td>\n",
              "      <td>The millennial pause is a pause in speaking th...</td>\n",
              "      <td>millennial pause pause speaking present start ...</td>\n",
              "      <td>[8357, 18384, 18384, 15810, 2421, 2330, 6274, ...</td>\n",
              "    </tr>\n",
              "    <tr>\n",
              "      <th>2</th>\n",
              "      <td>Liminality.txt</td>\n",
              "      <td>Culture</td>\n",
              "      <td>In anthropology, liminality (from Latin  līmen...</td>\n",
              "      <td>anthropology liminality latin līmen threshold ...</td>\n",
              "      <td>[2967, 96454, 1221, 2772, 121391, 11910, 4405,...</td>\n",
              "    </tr>\n",
              "    <tr>\n",
              "      <th>3</th>\n",
              "      <td>Communitarianism.txt</td>\n",
              "      <td>Culture</td>\n",
              "      <td>Communitarianism is a philosophy that emphasiz...</td>\n",
              "      <td>communitarianism philosophy emphasizes connect...</td>\n",
              "      <td>[110384, 2134, 7678, 6736, 1750, 3085, 37880, ...</td>\n",
              "    </tr>\n",
              "    <tr>\n",
              "      <th>4</th>\n",
              "      <td>Human ecosystem.txt</td>\n",
              "      <td>Culture</td>\n",
              "      <td>Human ecosystems are human-dominated ecosystem...</td>\n",
              "      <td>human ecosystem humandominated ecosystem anthr...</td>\n",
              "      <td>[1630, 3950, 3131, 1307, 17999, 3950, 86694, 5...</td>\n",
              "    </tr>\n",
              "  </tbody>\n",
              "</table>\n",
              "</div>"
            ],
            "text/plain": [
              "                              name    topic  \\\n",
              "0  Intercultural communication.txt  Culture   \n",
              "1                  Gen Z shake.txt  Culture   \n",
              "2                   Liminality.txt  Culture   \n",
              "3             Communitarianism.txt  Culture   \n",
              "4              Human ecosystem.txt  Culture   \n",
              "\n",
              "                                                text  \\\n",
              "0  Intercultural communication is a discipline th...   \n",
              "1  The millennial pause is a pause in speaking th...   \n",
              "2  In anthropology, liminality (from Latin  līmen...   \n",
              "3  Communitarianism is a philosophy that emphasiz...   \n",
              "4  Human ecosystems are human-dominated ecosystem...   \n",
              "\n",
              "                                      processed_text  \\\n",
              "0  intercultural communication discipline study c...   \n",
              "1  millennial pause pause speaking present start ...   \n",
              "2  anthropology liminality latin līmen threshold ...   \n",
              "3  communitarianism philosophy emphasizes connect...   \n",
              "4  human ecosystem humandominated ecosystem anthr...   \n",
              "\n",
              "                                         tokens_text  \n",
              "0  [13745, 2620, 4185, 1915, 2620, 2745, 1671, 16...  \n",
              "1  [8357, 18384, 18384, 15810, 2421, 2330, 6274, ...  \n",
              "2  [2967, 96454, 1221, 2772, 121391, 11910, 4405,...  \n",
              "3  [110384, 2134, 7678, 6736, 1750, 3085, 37880, ...  \n",
              "4  [1630, 3950, 3131, 1307, 17999, 3950, 86694, 5...  "
            ]
          },
          "execution_count": 33,
          "metadata": {},
          "output_type": "execute_result"
        }
      ],
      "source": [
        "topics.head()"
      ]
    },
    {
      "cell_type": "code",
      "execution_count": 34,
      "metadata": {
        "colab": {
          "base_uri": "https://localhost:8080/",
          "height": 293
        },
        "id": "zHmQnh4iklAQ",
        "outputId": "f35fc7b4-fe49-4d17-cfa8-9f7018471a83"
      },
      "outputs": [
        {
          "data": {
            "text/html": [
              "<div>\n",
              "<style scoped>\n",
              "    .dataframe tbody tr th:only-of-type {\n",
              "        vertical-align: middle;\n",
              "    }\n",
              "\n",
              "    .dataframe tbody tr th {\n",
              "        vertical-align: top;\n",
              "    }\n",
              "\n",
              "    .dataframe thead th {\n",
              "        text-align: right;\n",
              "    }\n",
              "</style>\n",
              "<table border=\"1\" class=\"dataframe\">\n",
              "  <thead>\n",
              "    <tr style=\"text-align: right;\">\n",
              "      <th></th>\n",
              "      <th>name</th>\n",
              "      <th>topic</th>\n",
              "      <th>text</th>\n",
              "      <th>processed_text</th>\n",
              "      <th>tokens_text</th>\n",
              "    </tr>\n",
              "  </thead>\n",
              "  <tbody>\n",
              "    <tr>\n",
              "      <th>8063</th>\n",
              "      <td>Byron Moreno.txt</td>\n",
              "      <td>Sports</td>\n",
              "      <td>Byron Aldemar Moreno Ruales (born November 23,...</td>\n",
              "      <td>byron aldemar moreno ruales born november ecua...</td>\n",
              "      <td>[1238, 1693, 1259, 16, 1234, 1181, 1305, 1541,...</td>\n",
              "    </tr>\n",
              "    <tr>\n",
              "      <th>8064</th>\n",
              "      <td>Swingman.txt</td>\n",
              "      <td>Sports</td>\n",
              "      <td>A swingman is an athlete capable of playing mu...</td>\n",
              "      <td>swingman athlete capable playing multiple posi...</td>\n",
              "      <td>[108515, 6516, 5163, 3000, 2562, 2840, 1493]</td>\n",
              "    </tr>\n",
              "    <tr>\n",
              "      <th>8065</th>\n",
              "      <td>Tanking (sports).txt</td>\n",
              "      <td>Sports</td>\n",
              "      <td>Tanking in sports refers to the practice of in...</td>\n",
              "      <td>tanking sport refers practice intentionally fi...</td>\n",
              "      <td>[34650, 1493, 2003, 2579, 16450, 38155, 1857, ...</td>\n",
              "    </tr>\n",
              "    <tr>\n",
              "      <th>8066</th>\n",
              "      <td>Sport culture.txt</td>\n",
              "      <td>Sports</td>\n",
              "      <td>Sport pertains to any form of physical activit...</td>\n",
              "      <td>sport pertains form physical activity game oft...</td>\n",
              "      <td>[1493, 15227, 1431, 2254, 3269, 1662, 1642, 48...</td>\n",
              "    </tr>\n",
              "    <tr>\n",
              "      <th>8067</th>\n",
              "      <td>History of ice hockey.txt</td>\n",
              "      <td>Sports</td>\n",
              "      <td>Ice hockey is believed to have evolved from si...</td>\n",
              "      <td>ice hockey believed evolved simple stick ball ...</td>\n",
              "      <td>[3702, 4470, 4824, 5044, 3715, 5066, 2061, 166...</td>\n",
              "    </tr>\n",
              "  </tbody>\n",
              "</table>\n",
              "</div>"
            ],
            "text/plain": [
              "                           name   topic  \\\n",
              "8063           Byron Moreno.txt  Sports   \n",
              "8064               Swingman.txt  Sports   \n",
              "8065       Tanking (sports).txt  Sports   \n",
              "8066          Sport culture.txt  Sports   \n",
              "8067  History of ice hockey.txt  Sports   \n",
              "\n",
              "                                                   text  \\\n",
              "8063  Byron Aldemar Moreno Ruales (born November 23,...   \n",
              "8064  A swingman is an athlete capable of playing mu...   \n",
              "8065  Tanking in sports refers to the practice of in...   \n",
              "8066  Sport pertains to any form of physical activit...   \n",
              "8067  Ice hockey is believed to have evolved from si...   \n",
              "\n",
              "                                         processed_text  \\\n",
              "8063  byron aldemar moreno ruales born november ecua...   \n",
              "8064  swingman athlete capable playing multiple posi...   \n",
              "8065  tanking sport refers practice intentionally fi...   \n",
              "8066  sport pertains form physical activity game oft...   \n",
              "8067  ice hockey believed evolved simple stick ball ...   \n",
              "\n",
              "                                            tokens_text  \n",
              "8063  [1238, 1693, 1259, 16, 1234, 1181, 1305, 1541,...  \n",
              "8064       [108515, 6516, 5163, 3000, 2562, 2840, 1493]  \n",
              "8065  [34650, 1493, 2003, 2579, 16450, 38155, 1857, ...  \n",
              "8066  [1493, 15227, 1431, 2254, 3269, 1662, 1642, 48...  \n",
              "8067  [3702, 4470, 4824, 5044, 3715, 5066, 2061, 166...  "
            ]
          },
          "execution_count": 34,
          "metadata": {},
          "output_type": "execute_result"
        }
      ],
      "source": [
        "topics.tail()"
      ]
    },
    {
      "cell_type": "markdown",
      "metadata": {
        "id": "b6FW1TjlklAQ"
      },
      "source": [
        "## Отчёт"
      ]
    },
    {
      "cell_type": "markdown",
      "metadata": {
        "id": "aHwBEtOtklAR"
      },
      "source": [
        "### Обучение модели"
      ]
    },
    {
      "cell_type": "markdown",
      "metadata": {
        "id": "0C9HmgCoklAR"
      },
      "source": [
        "#### Преобразование категорий в унитарный код"
      ]
    },
    {
      "cell_type": "code",
      "execution_count": 35,
      "metadata": {
        "id": "hqBEi9uwklAR"
      },
      "outputs": [],
      "source": [
        "topics_encoded = pandas.get_dummies(topics[\"topic\"])"
      ]
    },
    {
      "cell_type": "code",
      "execution_count": 36,
      "metadata": {
        "colab": {
          "base_uri": "https://localhost:8080/",
          "height": 206
        },
        "id": "hDz16JkJklAR",
        "outputId": "e74095d1-442d-48ea-8193-6e12ffa7663f"
      },
      "outputs": [
        {
          "data": {
            "text/html": [
              "<div>\n",
              "<style scoped>\n",
              "    .dataframe tbody tr th:only-of-type {\n",
              "        vertical-align: middle;\n",
              "    }\n",
              "\n",
              "    .dataframe tbody tr th {\n",
              "        vertical-align: top;\n",
              "    }\n",
              "\n",
              "    .dataframe thead th {\n",
              "        text-align: right;\n",
              "    }\n",
              "</style>\n",
              "<table border=\"1\" class=\"dataframe\">\n",
              "  <thead>\n",
              "    <tr style=\"text-align: right;\">\n",
              "      <th></th>\n",
              "      <th>Biology</th>\n",
              "      <th>Computing</th>\n",
              "      <th>Culture</th>\n",
              "      <th>Games</th>\n",
              "      <th>Mathematics</th>\n",
              "      <th>Philosophy</th>\n",
              "      <th>Sports</th>\n",
              "    </tr>\n",
              "  </thead>\n",
              "  <tbody>\n",
              "    <tr>\n",
              "      <th>0</th>\n",
              "      <td>False</td>\n",
              "      <td>False</td>\n",
              "      <td>True</td>\n",
              "      <td>False</td>\n",
              "      <td>False</td>\n",
              "      <td>False</td>\n",
              "      <td>False</td>\n",
              "    </tr>\n",
              "    <tr>\n",
              "      <th>1</th>\n",
              "      <td>False</td>\n",
              "      <td>False</td>\n",
              "      <td>True</td>\n",
              "      <td>False</td>\n",
              "      <td>False</td>\n",
              "      <td>False</td>\n",
              "      <td>False</td>\n",
              "    </tr>\n",
              "    <tr>\n",
              "      <th>2</th>\n",
              "      <td>False</td>\n",
              "      <td>False</td>\n",
              "      <td>True</td>\n",
              "      <td>False</td>\n",
              "      <td>False</td>\n",
              "      <td>False</td>\n",
              "      <td>False</td>\n",
              "    </tr>\n",
              "    <tr>\n",
              "      <th>3</th>\n",
              "      <td>False</td>\n",
              "      <td>False</td>\n",
              "      <td>True</td>\n",
              "      <td>False</td>\n",
              "      <td>False</td>\n",
              "      <td>False</td>\n",
              "      <td>False</td>\n",
              "    </tr>\n",
              "    <tr>\n",
              "      <th>4</th>\n",
              "      <td>False</td>\n",
              "      <td>False</td>\n",
              "      <td>True</td>\n",
              "      <td>False</td>\n",
              "      <td>False</td>\n",
              "      <td>False</td>\n",
              "      <td>False</td>\n",
              "    </tr>\n",
              "  </tbody>\n",
              "</table>\n",
              "</div>"
            ],
            "text/plain": [
              "   Biology  Computing  Culture  Games  Mathematics  Philosophy  Sports\n",
              "0    False      False     True  False        False       False   False\n",
              "1    False      False     True  False        False       False   False\n",
              "2    False      False     True  False        False       False   False\n",
              "3    False      False     True  False        False       False   False\n",
              "4    False      False     True  False        False       False   False"
            ]
          },
          "execution_count": 36,
          "metadata": {},
          "output_type": "execute_result"
        }
      ],
      "source": [
        "topics_encoded.head()"
      ]
    },
    {
      "cell_type": "code",
      "execution_count": 37,
      "metadata": {
        "colab": {
          "base_uri": "https://localhost:8080/",
          "height": 206
        },
        "id": "N-6iCrxNklAR",
        "outputId": "3d64163c-6229-4240-82e0-e7f66699c5e1"
      },
      "outputs": [
        {
          "data": {
            "text/html": [
              "<div>\n",
              "<style scoped>\n",
              "    .dataframe tbody tr th:only-of-type {\n",
              "        vertical-align: middle;\n",
              "    }\n",
              "\n",
              "    .dataframe tbody tr th {\n",
              "        vertical-align: top;\n",
              "    }\n",
              "\n",
              "    .dataframe thead th {\n",
              "        text-align: right;\n",
              "    }\n",
              "</style>\n",
              "<table border=\"1\" class=\"dataframe\">\n",
              "  <thead>\n",
              "    <tr style=\"text-align: right;\">\n",
              "      <th></th>\n",
              "      <th>Biology</th>\n",
              "      <th>Computing</th>\n",
              "      <th>Culture</th>\n",
              "      <th>Games</th>\n",
              "      <th>Mathematics</th>\n",
              "      <th>Philosophy</th>\n",
              "      <th>Sports</th>\n",
              "    </tr>\n",
              "  </thead>\n",
              "  <tbody>\n",
              "    <tr>\n",
              "      <th>8063</th>\n",
              "      <td>False</td>\n",
              "      <td>False</td>\n",
              "      <td>False</td>\n",
              "      <td>False</td>\n",
              "      <td>False</td>\n",
              "      <td>False</td>\n",
              "      <td>True</td>\n",
              "    </tr>\n",
              "    <tr>\n",
              "      <th>8064</th>\n",
              "      <td>False</td>\n",
              "      <td>False</td>\n",
              "      <td>False</td>\n",
              "      <td>False</td>\n",
              "      <td>False</td>\n",
              "      <td>False</td>\n",
              "      <td>True</td>\n",
              "    </tr>\n",
              "    <tr>\n",
              "      <th>8065</th>\n",
              "      <td>False</td>\n",
              "      <td>False</td>\n",
              "      <td>False</td>\n",
              "      <td>False</td>\n",
              "      <td>False</td>\n",
              "      <td>False</td>\n",
              "      <td>True</td>\n",
              "    </tr>\n",
              "    <tr>\n",
              "      <th>8066</th>\n",
              "      <td>False</td>\n",
              "      <td>False</td>\n",
              "      <td>False</td>\n",
              "      <td>False</td>\n",
              "      <td>False</td>\n",
              "      <td>False</td>\n",
              "      <td>True</td>\n",
              "    </tr>\n",
              "    <tr>\n",
              "      <th>8067</th>\n",
              "      <td>False</td>\n",
              "      <td>False</td>\n",
              "      <td>False</td>\n",
              "      <td>False</td>\n",
              "      <td>False</td>\n",
              "      <td>False</td>\n",
              "      <td>True</td>\n",
              "    </tr>\n",
              "  </tbody>\n",
              "</table>\n",
              "</div>"
            ],
            "text/plain": [
              "      Biology  Computing  Culture  Games  Mathematics  Philosophy  Sports\n",
              "8063    False      False    False  False        False       False    True\n",
              "8064    False      False    False  False        False       False    True\n",
              "8065    False      False    False  False        False       False    True\n",
              "8066    False      False    False  False        False       False    True\n",
              "8067    False      False    False  False        False       False    True"
            ]
          },
          "execution_count": 37,
          "metadata": {},
          "output_type": "execute_result"
        }
      ],
      "source": [
        "topics_encoded.tail()"
      ]
    },
    {
      "cell_type": "markdown",
      "metadata": {
        "id": "aaxDSRpkklAS"
      },
      "source": [
        "#### Разбиение на `valid`, `test`"
      ]
    },
    {
      "cell_type": "code",
      "execution_count": 38,
      "metadata": {
        "id": "90oc86NbklAS"
      },
      "outputs": [],
      "source": [
        "features = topics[\"tokens_text\"]\n",
        "target = copy.deepcopy(topics_encoded)"
      ]
    },
    {
      "cell_type": "code",
      "execution_count": 39,
      "metadata": {
        "id": "YTSjuzK4klAS"
      },
      "outputs": [],
      "source": [
        "features_train, features_test, target_train, target_test = sklearn.model_selection.train_test_split(features, target, test_size = MDL_TEST_SIZE, random_state = 42)"
      ]
    },
    {
      "cell_type": "markdown",
      "metadata": {
        "id": "klx-eWn6klAT"
      },
      "source": [
        "#### Вспомогательные детали"
      ]
    },
    {
      "cell_type": "markdown",
      "metadata": {
        "id": "u3nMpeknklAU"
      },
      "source": [
        "##### Классификатор"
      ]
    },
    {
      "cell_type": "code",
      "execution_count": 40,
      "metadata": {
        "id": "3Dt6EGEcklAU"
      },
      "outputs": [],
      "source": [
        "class TextClassificator(torch.nn.Module):\n",
        "\tdef __init__(self):\n",
        "\t\tsuper(TextClassificator, self).__init__()\n",
        "\t\tself.embedding = torch.nn.Embedding(MDL_VOCAB_SIZE, MDL_WORD_EMBEDDING_SIZE)\n",
        "\t\tself.lstm =  torch.nn.LSTM(MDL_WORD_EMBEDDING_SIZE, MDL_HIDDEN_SIZE, batch_first = True)\n",
        "\t\tself.linear = torch.nn.Linear(MDL_HIDDEN_SIZE, CNT_TOPICS)\n",
        "\n",
        "\tdef forward(self, x):\n",
        "\t\tembedded_x = self.embedding(x)\n",
        "\t\tlstm_x, _ = self.lstm(embedded_x)\n",
        "\t\tlstm_end_state = lstm_x[:, -1, :]\n",
        "\t\treturn self.linear(lstm_end_state)"
      ]
    },
    {
      "cell_type": "markdown",
      "metadata": {
        "id": "B9Kzgf-2klAV"
      },
      "source": [
        "##### Датасет"
      ]
    },
    {
      "cell_type": "code",
      "execution_count": 41,
      "metadata": {
        "id": "LfrQVUVvklAV"
      },
      "outputs": [],
      "source": [
        "class TextStorage(torch.utils.data.Dataset):\n",
        "\tdef __init__(self, features, target):\n",
        "\t\tself.features = features\n",
        "\t\tself.target = target\n",
        "\n",
        "\tdef __len__(self):\n",
        "\t\treturn len(self.features)\n",
        "\n",
        "\tdef __getitem__(self, i):\n",
        "\t\treturn torch.tensor(self.features.iloc[i]), torch.tensor(self.target.iloc[i])"
      ]
    },
    {
      "cell_type": "markdown",
      "metadata": {
        "id": "rys3TabvklAV"
      },
      "source": [
        "##### Функция сбора меток"
      ]
    },
    {
      "cell_type": "code",
      "execution_count": 42,
      "metadata": {
        "id": "sCZW8nJNklAW"
      },
      "outputs": [],
      "source": [
        "def get_tokens(batch):\n",
        "\ttexts, tokens = zip(*batch)\n",
        "\ttexts = torch.nn.utils.rnn.pad_sequence(texts, batch_first = True, padding_value = 0)\n",
        "\ttokens = torch.stack(tokens)\n",
        "\treturn texts, tokens"
      ]
    },
    {
      "cell_type": "markdown",
      "metadata": {
        "id": "nF2X97N7klAW"
      },
      "source": [
        "##### Загрузчик"
      ]
    },
    {
      "cell_type": "code",
      "execution_count": 43,
      "metadata": {
        "id": "AYmHtzHRklAW"
      },
      "outputs": [],
      "source": [
        "train_storage = TextStorage(features_train, target_train)\n",
        "test_storage = TextStorage(features_test, target_test)"
      ]
    },
    {
      "cell_type": "code",
      "execution_count": 44,
      "metadata": {
        "id": "gshkfp02klAX"
      },
      "outputs": [],
      "source": [
        "train_iterator = torch.utils.data.DataLoader(\n",
        "    train_storage, batch_size = MDL_BATCH_SIZE, shuffle = True, collate_fn = get_tokens\n",
        ")\n",
        "test_iterator = torch.utils.data.DataLoader(\n",
        "    test_storage, batch_size = MDL_BATCH_SIZE, shuffle = True, collate_fn = get_tokens\n",
        ")"
      ]
    },
    {
      "cell_type": "markdown",
      "metadata": {
        "id": "WDfOxgqfklAX"
      },
      "source": [
        "#### Модель"
      ]
    },
    {
      "cell_type": "code",
      "execution_count": 45,
      "metadata": {
        "id": "3xW_ILX8klAX"
      },
      "outputs": [
        {
          "name": "stderr",
          "output_type": "stream",
          "text": [
            "/home/saveliy-vm/.local/lib/python3.10/site-packages/tqdm/auto.py:21: TqdmWarning: IProgress not found. Please update jupyter and ipywidgets. See https://ipywidgets.readthedocs.io/en/stable/user_install.html\n",
            "  from .autonotebook import tqdm as notebook_tqdm\n"
          ]
        }
      ],
      "source": [
        "model = TextClassificator()\n",
        "criteria = MDL_CRITERIA()\n",
        "optimizer = MDL_OPTIMIZER(model.parameters(), lr = MDL_LEARNING_RATE, weight_decay = 0.0001)\n",
        "train_loss = []\n",
        "test_loss = []\n",
        "best_loss = float(\"inf\")"
      ]
    },
    {
      "cell_type": "code",
      "execution_count": 46,
      "metadata": {
        "id": "rFE75FnnklAX"
      },
      "outputs": [],
      "source": [
        "gpu_train_error = 0\n",
        "gpu_test_error = 0"
      ]
    },
    {
      "cell_type": "code",
      "execution_count": 47,
      "metadata": {
        "colab": {
          "base_uri": "https://localhost:8080/"
        },
        "id": "WzSijPLyklAY",
        "outputId": "bf11d09d-3093-4981-f2d2-0e56e628bb2e"
      },
      "outputs": [
        {
          "name": "stderr",
          "output_type": "stream",
          "text": [
            "  0%|          | 0/200 [00:00<?, ?it/s]/tmp/ipykernel_7502/1359909344.py:10: FutureWarning: Series.__getitem__ treating keys as positions is deprecated. In a future version, integer keys will always be treated as labels (consistent with DataFrame behavior). To access a value by position, use `ser.iloc[pos]`\n",
            "  return torch.tensor(self.features.iloc[i]), torch.tensor(self.target.iloc[i])\n",
            "100%|██████████| 200/200 [1:02:51<00:00, 18.86s/it]\n"
          ]
        }
      ],
      "source": [
        "for _ in tqdm.tqdm(range(MDL_EPOCHS)):\n",
        "\tmodel.train()\n",
        "\tmodel = model.to(DEV_GPU)\n",
        "\n",
        "\tcurrent_train_loss = 0\n",
        "\tcurrent_test_loss = 0\n",
        "\n",
        "\tfor w, e in train_iterator:\n",
        "\t\ttry:\n",
        "\t\t\toptimizer.zero_grad()\n",
        "\t\t\tw = w.to(DEV_GPU)\n",
        "\t\t\tpred = model(w)\n",
        "\t\t\tpred = pred.to(DEV_CPU)\n",
        "\t\t\tloss = criteria(pred, e.float())\n",
        "\t\t\tloss.backward()\n",
        "\t\t\toptimizer.step()\n",
        "\t\t\tcurrent_train_loss += loss.item()\n",
        "\t\texcept Exception:\n",
        "\t\t\tgpu_train_error += 1\n",
        "\n",
        "\tif DEV_IS_GPU:\n",
        "\t\ttorch.cuda.synchronize(DEV_GPU)\n",
        "\n",
        "\tmodel.eval()\n",
        "\tmodel = model.to(DEV_GPU)\n",
        "\n",
        "\twith torch.no_grad():\n",
        "\t\tfor w, e in test_iterator:\n",
        "\t\t\ttry:\n",
        "\t\t\t\tw = w.to(DEV_GPU)\n",
        "\t\t\t\tpred = model(w)\n",
        "\t\t\t\tpred = pred.to(DEV_CPU)\n",
        "\t\t\t\tloss = criteria(pred, e.float())\n",
        "\t\t\t\tcurrent_test_loss += loss.item()\n",
        "\t\t\texcept Exception:\n",
        "\t\t\t\tgpu_test_error += 1\n",
        "\n",
        "\tif DEV_IS_GPU:\n",
        "\t\ttorch.cuda.synchronize(DEV_GPU)\n",
        "\n",
        "\ttrain_loss.append(current_train_loss / len(train_iterator))\n",
        "\ttest_loss.append(current_test_loss / len(test_iterator))\n",
        "\n",
        "\tif test_loss[-1] < best_loss:\n",
        "\t\tbest_loss = test_loss[-1]\n",
        "\t\ttorch.save(model.state_dict(), MDL_BEST_MODEL)"
      ]
    },
    {
      "cell_type": "code",
      "execution_count": 48,
      "metadata": {},
      "outputs": [
        {
          "data": {
            "text/plain": [
              "<All keys matched successfully>"
            ]
          },
          "execution_count": 48,
          "metadata": {},
          "output_type": "execute_result"
        }
      ],
      "source": [
        "model.load_state_dict(torch.load(MDL_BEST_MODEL))"
      ]
    },
    {
      "cell_type": "code",
      "execution_count": 49,
      "metadata": {},
      "outputs": [
        {
          "name": "stdout",
          "output_type": "stream",
          "text": [
            "GPU Train-part errors occurred: 0\n",
            "GPU Test-part errors occurred: 7\n"
          ]
        }
      ],
      "source": [
        "print(\"GPU Train-part errors occurred:\", gpu_train_error)\n",
        "print(\"GPU Test-part errors occurred:\", gpu_test_error)"
      ]
    },
    {
      "cell_type": "code",
      "execution_count": 50,
      "metadata": {
        "id": "hWZAUO-qklAY"
      },
      "outputs": [],
      "source": [
        "def draw_errors(errors_train, errors_test, params):\n",
        "\ttitle = \"Average error by epoch\"\n",
        "\txlabel = \"Epoch\"\n",
        "\tylabel = \"Error\"\n",
        "\tmatplotlib.pyplot.figure(figsize = PLT_FIGSIZE)\n",
        "\tmatplotlib.pyplot.title(title)\n",
        "\tmatplotlib.pyplot.plot(params, errors_train, color = CLR_TRAIN, label = \"TRAIN\")\n",
        "\tmatplotlib.pyplot.plot(params, errors_test, color = CLR_TEST, label = \"TEST\")\n",
        "\tmatplotlib.pyplot.xlabel(xlabel)\n",
        "\tmatplotlib.pyplot.ylabel(ylabel)\n",
        "\tmatplotlib.pyplot.legend()\n",
        "\tmatplotlib.pyplot.show()"
      ]
    },
    {
      "cell_type": "code",
      "execution_count": 51,
      "metadata": {
        "colab": {
          "base_uri": "https://localhost:8080/",
          "height": 935
        },
        "id": "T5jMCTYDklAY",
        "outputId": "a51a8ce5-907b-4982-b374-0741d1dd9e11"
      },
      "outputs": [
        {
          "data": {
            "image/png": "[encoded data removed]",
            "text/plain": [
              "<Figure size 3000x2200 with 1 Axes>"
            ]
          },
          "metadata": {},
          "output_type": "display_data"
        }
      ],
      "source": [
        "draw_errors(train_loss, test_loss, range(0, MDL_EPOCHS))"
      ]
    },
    {
      "cell_type": "markdown",
      "metadata": {
        "id": "otIJKdGwklAY"
      },
      "source": [
        "### Демонстрация работоспособности"
      ]
    },
    {
      "cell_type": "code",
      "execution_count": 52,
      "metadata": {
        "id": "wsCVlyr82W9Q"
      },
      "outputs": [
        {
          "data": {
            "text/plain": [
              "TextClassificator(\n",
              "  (embedding): Embedding(500000, 500)\n",
              "  (lstm): LSTM(500, 1000, batch_first=True)\n",
              "  (linear): Linear(in_features=1000, out_features=7, bias=True)\n",
              ")"
            ]
          },
          "execution_count": 52,
          "metadata": {},
          "output_type": "execute_result"
        }
      ],
      "source": [
        "model = model.to(DEV_CPU)\n",
        "model.eval()"
      ]
    },
    {
      "cell_type": "code",
      "execution_count": 53,
      "metadata": {
        "id": "h0iGbla-2fLV"
      },
      "outputs": [],
      "source": [
        "def preprocess_text(text):\n",
        "\ttext = text.lower()\n",
        "\tis_allowed_char = lambda c: c.isalpha() or c == ' '\n",
        "\ttext = ''.join(list(filter(is_allowed_char, text)))\n",
        "\tis_stopword = lambda w: w not in eng_stopwords\n",
        "\ttext = ' '.join(list(filter(is_stopword, text.split())))\n",
        "\ttext = ' '.join(list(map(eng_lemmatizer.lemmatize, text.split())))\n",
        "\treturn text"
      ]
    },
    {
      "cell_type": "code",
      "execution_count": 54,
      "metadata": {},
      "outputs": [],
      "source": [
        "def predict(text):\n",
        "\ttext = preprocess_text(text)\n",
        "\ttokens = bpe.encode(text, output_type = youtokentome.OutputType.ID)\n",
        "\ttokens = torch.tensor(tokens)[:500].unsqueeze(0)\n",
        "\twith torch.no_grad():\n",
        "\t\tpred = torch.sigmoid(model(tokens))\n",
        "\tpred = pred.numpy().astype(float)[0]\n",
        "\treturn DAT_TOPICS[numpy.argmax(pred)]"
      ]
    },
    {
      "cell_type": "code",
      "execution_count": 55,
      "metadata": {},
      "outputs": [],
      "source": [
        "base_table = { \"name\": [], \"original_topic\": [], \"predicted_topic\": [], \"text\": [] }\n",
        "predicated = pandas.DataFrame(data = base_table)\n",
        "index = 0"
      ]
    },
    {
      "cell_type": "code",
      "execution_count": 56,
      "metadata": {},
      "outputs": [],
      "source": [
        "for topic in os.listdir(DIR_TESTING):\n",
        "\tfor name in os.listdir(mkpath_test(topic)):\n",
        "\t\tread = read_test(topic, name)\n",
        "\t\ttable = { \"name\": name, \"original_topic\": topic, \"predicted_topic\": predict(read[\"text\"]), \"text\": read[\"text\"] }\n",
        "\t\tpredicated = pandas.concat([predicated, pandas.DataFrame(data = table, index = [index])])\n",
        "\t\tindex += 1"
      ]
    },
    {
      "cell_type": "code",
      "execution_count": 57,
      "metadata": {},
      "outputs": [
        {
          "data": {
            "text/html": [
              "<div>\n",
              "<style scoped>\n",
              "    .dataframe tbody tr th:only-of-type {\n",
              "        vertical-align: middle;\n",
              "    }\n",
              "\n",
              "    .dataframe tbody tr th {\n",
              "        vertical-align: top;\n",
              "    }\n",
              "\n",
              "    .dataframe thead th {\n",
              "        text-align: right;\n",
              "    }\n",
              "</style>\n",
              "<table border=\"1\" class=\"dataframe\">\n",
              "  <thead>\n",
              "    <tr style=\"text-align: right;\">\n",
              "      <th></th>\n",
              "      <th>name</th>\n",
              "      <th>original_topic</th>\n",
              "      <th>predicted_topic</th>\n",
              "      <th>text</th>\n",
              "    </tr>\n",
              "  </thead>\n",
              "  <tbody>\n",
              "    <tr>\n",
              "      <th>0</th>\n",
              "      <td>Art.txt</td>\n",
              "      <td>Culture</td>\n",
              "      <td>Culture</td>\n",
              "      <td>Art is a diverse range of human activity, and ...</td>\n",
              "    </tr>\n",
              "    <tr>\n",
              "      <th>1</th>\n",
              "      <td>Bagism.txt</td>\n",
              "      <td>Philosophy</td>\n",
              "      <td>Culture</td>\n",
              "      <td>Bagism is a satire of prejudice, where by livi...</td>\n",
              "    </tr>\n",
              "    <tr>\n",
              "      <th>2</th>\n",
              "      <td>Blue whale.txt</td>\n",
              "      <td>Biology</td>\n",
              "      <td>Biology</td>\n",
              "      <td>The blue whale (Balaenoptera musculus) is a ma...</td>\n",
              "    </tr>\n",
              "    <tr>\n",
              "      <th>3</th>\n",
              "      <td>End user.txt</td>\n",
              "      <td>Computing</td>\n",
              "      <td>Computing</td>\n",
              "      <td>In product development, an end user (sometimes...</td>\n",
              "    </tr>\n",
              "    <tr>\n",
              "      <th>4</th>\n",
              "      <td>Basketball (ball).txt</td>\n",
              "      <td>Games</td>\n",
              "      <td>Sports</td>\n",
              "      <td>A basketball is a spherical ball used in baske...</td>\n",
              "    </tr>\n",
              "    <tr>\n",
              "      <th>5</th>\n",
              "      <td>2 + 2 = 5.txt</td>\n",
              "      <td>Mathematics</td>\n",
              "      <td>Computing</td>\n",
              "      <td>2 + 2 = 5 or two plus two equals five is a mat...</td>\n",
              "    </tr>\n",
              "    <tr>\n",
              "      <th>6</th>\n",
              "      <td>Cooling vest.txt</td>\n",
              "      <td>Sports</td>\n",
              "      <td>Computing</td>\n",
              "      <td>A cooling vest is a piece of specially made cl...</td>\n",
              "    </tr>\n",
              "  </tbody>\n",
              "</table>\n",
              "</div>"
            ],
            "text/plain": [
              "                    name original_topic predicted_topic  \\\n",
              "0                Art.txt        Culture         Culture   \n",
              "1             Bagism.txt     Philosophy         Culture   \n",
              "2         Blue whale.txt        Biology         Biology   \n",
              "3           End user.txt      Computing       Computing   \n",
              "4  Basketball (ball).txt          Games          Sports   \n",
              "5          2 + 2 = 5.txt    Mathematics       Computing   \n",
              "6       Cooling vest.txt         Sports       Computing   \n",
              "\n",
              "                                                text  \n",
              "0  Art is a diverse range of human activity, and ...  \n",
              "1  Bagism is a satire of prejudice, where by livi...  \n",
              "2  The blue whale (Balaenoptera musculus) is a ma...  \n",
              "3  In product development, an end user (sometimes...  \n",
              "4  A basketball is a spherical ball used in baske...  \n",
              "5  2 + 2 = 5 or two plus two equals five is a mat...  \n",
              "6  A cooling vest is a piece of specially made cl...  "
            ]
          },
          "execution_count": 57,
          "metadata": {},
          "output_type": "execute_result"
        }
      ],
      "source": [
        "predicated"
      ]
    }
  ],
  "metadata": {
    "accelerator": "GPU",
    "colab": {
      "gpuType": "T4",
      "provenance": []
    },
    "kernelspec": {
      "display_name": "Python 3",
      "name": "python3"
    },
    "language_info": {
      "codemirror_mode": {
        "name": "ipython",
        "version": 3
      },
      "file_extension": ".py",
      "mimetype": "text/x-python",
      "name": "python",
      "nbconvert_exporter": "python",
      "pygments_lexer": "ipython3",
      "version": "3.10.12"
    }
  },
  "nbformat": 4,
  "nbformat_minor": 0
}
