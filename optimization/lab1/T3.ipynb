{
 "cells": [
  {
   "attachments": {},
   "cell_type": "markdown",
   "metadata": {},
   "source": [
    "# Задание 3\n",
    "\n",
    "Проанализируйте траекторию градиентного спуска на примере квадратичных функций. Для этого придумайте две-три квадратичные функции от двух переменных, на которых работа методов будет отличаться."
   ]
  },
  {
   "attachments": {},
   "cell_type": "markdown",
   "metadata": {},
   "source": [
    "## Инициализация"
   ]
  },
  {
   "attachments": {},
   "cell_type": "markdown",
   "metadata": {},
   "source": [
    "### Импорт библиотек"
   ]
  },
  {
   "cell_type": "code",
   "execution_count": null,
   "metadata": {},
   "outputs": [],
   "source": [
    "# Для анимаций\n",
    "from matplotlib import rc\n",
    "rc('animation', html='jshtml')\n",
    "from matplotlib.animation import FuncAnimation\n",
    "\n",
    "# Для больших анимаций\n",
    "import matplotlib as mpl\n",
    "mpl.rcParams['animation.embed_limit'] = 1000.0 \n",
    "\n",
    "# Для графиков и прочего\n",
    "import numpy as np\n",
    "import scipy\n",
    "from matplotlib import cm\n",
    "import matplotlib.pyplot as plt\n",
    "import math\n",
    "import pandas as pd\n",
    "\n",
    "# Для корректного отображения \n",
    "%matplotlib inline\n",
    "plt.style.use('fivethirtyeight')\n",
    "\n",
    "# Для таблиц\n",
    "import csv \n",
    "\n",
    "# Для работы с файлами\n",
    "import os\n",
    "\n",
    "# Для progress bar\n",
    "from tqdm import tqdm"
   ]
  },
  {
   "attachments": {},
   "cell_type": "markdown",
   "metadata": {},
   "source": [
    "### Градиент"
   ]
  },
  {
   "cell_type": "code",
   "execution_count": null,
   "metadata": {},
   "outputs": [],
   "source": [
    "def grad(f, x, delta=1e-9):\n",
    "    \"\"\"\n",
    "    Функция вычисления градиента в заданной точке с константной точностью\n",
    "\n",
    "    Аргументы:\n",
    "    f -- функция\n",
    "    x -- точка\n",
    "\n",
    "    Возвращает:\n",
    "    ans -- градиент функции в точке x\n",
    "    \"\"\"\n",
    "\n",
    "    n = len(x)\n",
    "    xd = np.copy(x)\n",
    "    ans = np.zeros(n)\n",
    "\n",
    "    for i in range(n):\n",
    "        xd[i] += delta\n",
    "        ans[i] = np.divide(f(xd) - f(x), delta)\n",
    "        xd[i] -= delta\n",
    "\n",
    "    return ans"
   ]
  },
  {
   "attachments": {},
   "cell_type": "markdown",
   "metadata": {},
   "source": [
    "### Градиентный спуск"
   ]
  },
  {
   "cell_type": "code",
   "execution_count": null,
   "metadata": {},
   "outputs": [],
   "source": [
    "def gradient_descent(f, x0, lr_search_func, num_iterations=1000, eps=1e-6, step_size=1, minimum=0, apply_min=False):\n",
    "    \"\"\"\n",
    "    Функция вычисления градиентного спуска с заданной функцией поиска коэффициента обучения\n",
    "\n",
    "    Аргументы:\n",
    "    f -- функция\n",
    "    x0 -- начальная точка\n",
    "    ----------------------------------------------------------------------------\n",
    "    lr_search_func -- функция поиска оптимального коэффициента обучения (learning rate)\n",
    "        Аргументы:\n",
    "        f -- функция\n",
    "        a -- левая граница интервала\n",
    "        b -- правая граница интервала\n",
    "        eps -- точность поиска\n",
    "\n",
    "        Возвращает:\n",
    "        x -- точка минимума функции\n",
    "    ----------------------------------------------------------------------------\n",
    "    eps -- точность поиска\n",
    "    num_iterations -- количество итераций\n",
    "    step_size -- размер шага\n",
    "\n",
    "    Возвращает:\n",
    "    points -- массив оптимальных на каждом шаге точек\n",
    "    \"\"\"\n",
    "    def line_search(x, d):\n",
    "        fd = lambda alpha: f(x - alpha*d)\n",
    "        alpha = lr_search_func(fd, 0, 1, eps)\n",
    "        return alpha\n",
    "\n",
    "    x = np.copy(x0)\n",
    "    points = np.array([x])\n",
    "    for i in range(num_iterations):\n",
    "        if apply_min and abs(f(x) - minimum) < eps:\n",
    "            break\n",
    "\n",
    "        grad_x = grad(f, x);\n",
    "        x = x - grad_x * line_search(x, grad_x) * step_size\n",
    "        points = np.vstack([points, x])\n",
    "    return points"
   ]
  },
  {
   "attachments": {},
   "cell_type": "markdown",
   "metadata": {},
   "source": [
    "### Отрисовка пространства"
   ]
  },
  {
   "cell_type": "code",
   "execution_count": null,
   "metadata": {},
   "outputs": [],
   "source": [
    "def init():\n",
    "    global X, Y, Z, f, x0\n",
    "    Z = np.vectorize(lambda x, y: f(np.array([x, y])))(X, Y)"
   ]
  },
  {
   "attachments": {},
   "cell_type": "markdown",
   "metadata": {},
   "source": [
    "### 3D визуализация функции"
   ]
  },
  {
   "cell_type": "code",
   "execution_count": null,
   "metadata": {},
   "outputs": [],
   "source": [
    "def print_f(elev=30, azim=60):\n",
    "  # Создание фигуры и трехмерной оси\n",
    "  fig = plt.figure(figsize=(10, 10))\n",
    "  ax = fig.add_subplot(111, projection='3d')\n",
    "\n",
    "  # Установка угол обзора\n",
    "  ax.view_init(elev=elev, azim=azim)\n",
    "\n",
    "  # Построение поверхности\n",
    "  ax.plot_surface(X, Y, Z)\n",
    "\n",
    "  # Построение начальной точки\n",
    "  ax.plot(x0[0], x0[1], f(x0), 'ro', label='Начальная точка')\n",
    "\n",
    "  # Установка отступа между графиком и значениями осей\n",
    "  ax.tick_params(pad=10)\n",
    "\n",
    "  # Добавление легенды\n",
    "  plt.legend(loc='upper left')\n",
    "\n",
    "  # Установка размера шрифта для подписей осей\n",
    "  ax.tick_params(axis='x', labelsize=10)\n",
    "  ax.tick_params(axis='y', labelsize=10)\n",
    "  ax.tick_params(axis='z', labelsize=10)\n",
    "\n",
    "  # Добавление заголовка и подписей осей\n",
    "  plt.title('График функции с начальной точкой')\n",
    "  ax.set_xlabel('Ось X', labelpad=20.0)\n",
    "  ax.set_ylabel('Ось Y', labelpad=20.0)\n",
    "  ax.set_zlabel('Ось f(x, y)', labelpad=20.0)\n",
    "\n",
    "  # Отображение графика\n",
    "  plt.show()"
   ]
  },
  {
   "attachments": {},
   "cell_type": "markdown",
   "metadata": {},
   "source": [
    "### Линии уровня и градиент"
   ]
  },
  {
   "cell_type": "code",
   "execution_count": null,
   "metadata": {},
   "outputs": [],
   "source": [
    "def print_lines_grad(list_result, list_label, title='Градиентный спуск на уровнях функции', filename='', filename_extension='.png', dpi=1024):\n",
    "  fig = plt.figure(figsize=(10, 10))\n",
    "  ax = fig.add_subplot(111)\n",
    "\n",
    "  for i in range(len(list_result)):\n",
    "    levels=np.unique(np.sort(f(list_result[i])))\n",
    "    ax.contour(X, Y, Z, levels=levels, colors='red', antialiased=True, linewidths=1.0)\n",
    "\n",
    "  for i in range(len(list_result)):\n",
    "    x = list_result[i][:, 0]\n",
    "    y = list_result[i][:, 1]\n",
    "    ax.plot(x, y, marker='.', markersize=10, markerfacecolor='black', label=list_label[i], linewidth = 2)\n",
    "    print(f'{list_label[i]:15} ==> {f(list_result[i][-1]):10f} in [{list_result[i][-1][0]:10f}, {list_result[i][-1][1]:10f}]')\n",
    "    \n",
    "  # Добавление легенды\n",
    "  if len(list_label) > 0:\n",
    "    plt.legend(loc='upper left')\n",
    "\n",
    "  if(filename != ''):\n",
    "    plt.savefig(filename + filename_extension, dpi=dpi, bbox_inches=0, transparent=True)    \n",
    "\n",
    "  plt.show()"
   ]
  },
  {
   "attachments": {},
   "cell_type": "markdown",
   "metadata": {},
   "source": [
    "### 3D визуализация градиента"
   ]
  },
  {
   "cell_type": "code",
   "execution_count": null,
   "metadata": {},
   "outputs": [],
   "source": [
    "def print_full_grad(list_result, list_label, title='Градиентный спуск на графике функции', elev = 30, azim = 80, filename='', filename_extension='.png', dpi=1024):\n",
    "  fig = plt.figure(figsize=(10, 10))\n",
    "  ax = fig.add_subplot(projection='3d')\n",
    "\n",
    "  for i in range(len(list_result)):\n",
    "    x = list_result[i][:, 0]\n",
    "    y = list_result[i][:, 1]\n",
    "    z = np.vectorize(lambda x, y: f(np.array([x, y])))(x, y)\n",
    "    ax.plot(x, y, marker='.', markersize=10, markerfacecolor='black', zs=z, label=list_label[i], linewidth = 2)\n",
    "    print(f'{list_label[i]:15} ==> {f(list_result[i][-1]):10f} in [{list_result[i][-1][0]:10f}, {list_result[i][-1][1]:10f}]')\n",
    "    \n",
    "  ax.plot_surface(X, Y, Z, cmap=cm.coolwarm)\n",
    "  ax.view_init(elev=elev, azim=azim)\n",
    "  \n",
    "  # Установка отступа между графиком и значениями осей\n",
    "  ax.tick_params(pad=10)\n",
    "\n",
    "  # Добавление легенды\n",
    "  if len(list_label) > 0:\n",
    "    ax.legend(loc='upper left')\n",
    "\n",
    "  # Установка размера шрифта для подписей осей\n",
    "  ax.tick_params(axis='x', labelsize=10)\n",
    "  ax.tick_params(axis='y', labelsize=10)\n",
    "  ax.tick_params(axis='z', labelsize=10)\n",
    "\n",
    "  # Добавление заголовка и подписей осей\n",
    "  if title != '':\n",
    "    plt.title(title)\n",
    "  \n",
    "  ax.set_xlabel('Ось X', labelpad=20.0)\n",
    "  ax.set_ylabel('Ось Y', labelpad=20.0)\n",
    "  ax.set_zlabel('Ось f(x, y)', labelpad=20.0)\n",
    "\n",
    "\n",
    "  if(filename != ''):\n",
    "    plt.savefig(filename + filename_extension, dpi=dpi, bbox_inches=0, transparent=True)\n",
    "\n",
    "  plt.show()"
   ]
  },
  {
   "attachments": {},
   "cell_type": "markdown",
   "metadata": {},
   "source": [
    "### Вывод данных в виде `.csv`"
   ]
  },
  {
   "cell_type": "code",
   "execution_count": null,
   "metadata": {},
   "outputs": [],
   "source": [
    "def save_result_table(result, filename, sp='%g', fields=[], generate_fields=False):\n",
    "    with open(filename, 'w') as csvfile:  \n",
    "        # создание объекта witer csv\n",
    "        csvwriter = csv.writer(csvfile, quoting=csv.QUOTE_NONE)  \n",
    "            \n",
    "        if generate_fields:\n",
    "            if len(result[0]) == 1:\n",
    "                fields = ['X']\n",
    "            elif len(result[0]) == 2:\n",
    "                fields = ['X', 'Y']\n",
    "            else:\n",
    "                fields = [f\"X[{i}]\" for i in range(len(result[0]))]\n",
    "            fields.append('F')\n",
    "\n",
    "        # запись шапки\n",
    "        if len(fields) > 0:\n",
    "            csvwriter.writerow(fields)  \n",
    "            \n",
    "        # запись данных \n",
    "        data = np.insert(result, len(result[0]), [f(x) for x in result], axis=1)\n",
    "        formatted_data = [[sp % x for x in row] for row in data]\n",
    "        csvwriter.writerows(formatted_data)"
   ]
  },
  {
   "cell_type": "code",
   "execution_count": null,
   "metadata": {},
   "outputs": [],
   "source": [
    "def save_result(list_result, list_label, filepath='', sp='%g', fields=[], generate_fields=True):\n",
    "    for i in range(len(list_result)):\n",
    "        save_result_table(list_result[i], filepath + '.csv', sp, fields, generate_fields)"
   ]
  },
  {
   "attachments": {},
   "cell_type": "markdown",
   "metadata": {},
   "source": [
    "## Решение задания"
   ]
  },
  {
   "attachments": {},
   "cell_type": "markdown",
   "metadata": {},
   "source": [
    "### Функция градиентного спуска"
   ]
  },
  {
   "cell_type": "code",
   "execution_count": null,
   "metadata": {},
   "outputs": [],
   "source": [
    "def gradient_descent_constant(f, x0, lr=0.01, num_iterations=1000, minimum=0, apply_min=False):\n",
    "    \"\"\"\n",
    "    Градиентный спуск c постоянным шагом.\n",
    "\n",
    "    Аргументы:\n",
    "    f -- функция\n",
    "    x0 -- начальная точка\n",
    "    lr -- постоянный коэффициент обучения (learning rate)\n",
    "    num_iterations -- количество итераций\n",
    "\n",
    "    Возвращает:\n",
    "    gradient_descent(...)\n",
    "    \"\"\"\n",
    "    def const_lr(f, a, b, eps=1e-6):\n",
    "        return lr\n",
    "    \n",
    "    return gradient_descent(f, x0, const_lr, num_iterations, minimum=minimum, apply_min=apply_min)"
   ]
  },
  {
   "attachments": {},
   "cell_type": "markdown",
   "metadata": {},
   "source": [
    "### Методы одномерного поиска и функции градиентного спуска на их основе"
   ]
  },
  {
   "attachments": {},
   "cell_type": "markdown",
   "metadata": {},
   "source": [
    "#### Метод дихотомии"
   ]
  },
  {
   "cell_type": "code",
   "execution_count": null,
   "metadata": {},
   "outputs": [],
   "source": [
    "def dichotomy_search(f, a, b, eps=1e-6):\n",
    "    \"\"\"\n",
    "    Метод дихотомии для поиска минимума функции f на интервале [a,b] с точностью eps\n",
    "\n",
    "    Аргументы:\n",
    "    f -- функция\n",
    "    a -- начальная точка интервала\n",
    "    b -- конечная точка интервала\n",
    "    eps -- точность поиска\n",
    "\n",
    "    Возвращает:\n",
    "    x -- точка минимума функции\n",
    "    \"\"\"\n",
    "    while b - a > eps:\n",
    "        c = (a + b) / 2\n",
    "        if f(c - eps) < f(c + eps):\n",
    "            b = c\n",
    "        else:\n",
    "            a = c\n",
    "    return (a + b) / 2\n",
    "\n",
    "def gradient_descent_dichotomy(f, x0, num_iterations=1000, eps=1e-6, step_size=0.01, minimum=0, apply_min=False):\n",
    "    \"\"\"\n",
    "    Градиентный спуск на основе метода дихотомии\n",
    "\n",
    "    Аргументы:\n",
    "    f -- функция\n",
    "    x0 -- начальная точка\n",
    "    num_iterations -- количество итераций\n",
    "    eps -- точность поиска\n",
    "    step_size -- размер шага\n",
    "    \n",
    "    Возвращает:\n",
    "    gradient_descent(...)\n",
    "    \"\"\"\n",
    "\n",
    "    return gradient_descent(f, x0, dichotomy_search, num_iterations, eps, step_size, minimum=minimum, apply_min=apply_min)"
   ]
  },
  {
   "attachments": {},
   "cell_type": "markdown",
   "metadata": {},
   "source": [
    "#### Метод Фибоначчи"
   ]
  },
  {
   "cell_type": "code",
   "execution_count": null,
   "metadata": {},
   "outputs": [],
   "source": [
    "def fibonacci_search(f, a, b, n):\n",
    "    \"\"\"\n",
    "    Метод Фибоначчи для одномерного поиска.\n",
    "\n",
    "    Аргументы:\n",
    "    f -- функция\n",
    "    a -- левая граница интервала\n",
    "    b -- правая граница интервала\n",
    "    n -- \"точность\" поиска функции\n",
    "\n",
    "    Возвращает:\n",
    "    x -- точка минимума\n",
    "    \"\"\"\n",
    "\n",
    "    fib = [1, 1]\n",
    "    while fib[-1] < n:\n",
    "        fib.append(fib[-1] + fib[-2])\n",
    "\n",
    "    k = len(fib) - 1\n",
    "    x1 = a + (fib[k - 2] / fib[k]) * (b - a)\n",
    "    x2 = a + (fib[k - 1] / fib[k]) * (b - a)\n",
    "    f1 = f(x1)\n",
    "    f2 = f(x2)\n",
    "\n",
    "    for i in range(k - 2):\n",
    "        if f1 < f2:\n",
    "            b = x2\n",
    "            x2 = x1\n",
    "            f2 = f1\n",
    "            x1 = a + (fib[k - i - 3] / fib[k - i - 1]) * (b - a)\n",
    "            f1 = f(x1)\n",
    "        else:\n",
    "            a = x1\n",
    "            x1 = x2\n",
    "            f1 = f2\n",
    "            x2 = a + (fib[k - i - 2] / fib[k - i - 1]) * (b - a)\n",
    "            f2 = f(x2)\n",
    "\n",
    "    return (a + b) / 2\n",
    "\n",
    "def gradient_descent_fibonacci(f, x0, num_iterations=1000, n=6900, step_size=0.01, minimum=0, apply_min=False):\n",
    "    \"\"\"\n",
    "    Градиентный спуск на основе метода Фибоначчи\n",
    "\n",
    "    Аргументы:\n",
    "    f -- функция\n",
    "    x0 -- начальная точка\n",
    "    num_iterations -- количество итераций\n",
    "    n -- \"точность\" поиска\n",
    "    step_size -- размер шага\n",
    "    \n",
    "    Возвращает:\n",
    "    gradient_descent(...)\n",
    "    \"\"\"\n",
    "\n",
    "    return gradient_descent(f, x0, fibonacci_search, num_iterations, n, step_size, minimum=minimum, apply_min=apply_min)"
   ]
  },
  {
   "attachments": {},
   "cell_type": "markdown",
   "metadata": {},
   "source": [
    "#### Метод золотого сечения"
   ]
  },
  {
   "cell_type": "code",
   "execution_count": null,
   "metadata": {},
   "outputs": [],
   "source": [
    "def golden_section_search(f, a, b, eps=1e-6):\n",
    "    \"\"\"\n",
    "    Метод золотого сечения для одномерного поиска.\n",
    "\n",
    "    Аргументы:\n",
    "    f -- функция\n",
    "    a -- левая граница интервала\n",
    "    b -- правая граница интервала\n",
    "    eps -- точность поиска функции\n",
    "\n",
    "    Возвращает:\n",
    "    x -- точка минимума\n",
    "    \"\"\"\n",
    "    phi = (1 + np.sqrt(5)) / 2\n",
    "    x1 = b - (b - a) / phi\n",
    "    x2 = a + (b - a) / phi\n",
    "    while abs(b - a) > eps:\n",
    "        if f(x1) < f(x2):\n",
    "            b = x2\n",
    "        else:\n",
    "            a = x1\n",
    "        x1 = b - (b - a) / phi\n",
    "        x2 = a + (b - a) / phi\n",
    "    return (a + b) / 2\n",
    "\n",
    "def gradient_descent_golden_section(f, x0, num_iterations=1000, eps=1e-6, step_size=0.01, minimum=0, apply_min=False):\n",
    "    \"\"\"\n",
    "    Градиентный спуск на основе метода золотого сечения.\n",
    "\n",
    "    Аргументы:\n",
    "    f -- функция\n",
    "    x0 -- начальная точка\n",
    "    num_iterations -- количество итераций\n",
    "    eps -- точность поиска\n",
    "\n",
    "    Возвращает:\n",
    "    gradient_descent(...)\n",
    "    \"\"\"\n",
    "    return gradient_descent(f, x0, golden_section_search, num_iterations, eps, step_size, minimum=minimum, apply_min=apply_min)"
   ]
  },
  {
   "attachments": {},
   "cell_type": "markdown",
   "metadata": {},
   "source": [
    "### Инициализация констант"
   ]
  },
  {
   "attachments": {},
   "cell_type": "markdown",
   "metadata": {},
   "source": [
    "#### Технические константы"
   ]
  },
  {
   "cell_type": "code",
   "execution_count": null,
   "metadata": {},
   "outputs": [],
   "source": [
    "PATH_IMAGE = 'Image' + os.sep\n",
    "PATH_HQ = 'HQ' + os.sep\n",
    "PATH_DATA = 'Data' + os.sep\n",
    "CNST_DPI_IMAGE = 256\n",
    "CNST_DPI_HQ = 1024"
   ]
  },
  {
   "attachments": {},
   "cell_type": "markdown",
   "metadata": {},
   "source": [
    "#### Константы задания"
   ]
  },
  {
   "cell_type": "code",
   "execution_count": null,
   "metadata": {},
   "outputs": [],
   "source": [
    "FILE_PREFIX = 'T3_'"
   ]
  },
  {
   "attachments": {},
   "cell_type": "markdown",
   "metadata": {},
   "source": [
    "### Пример 1"
   ]
  },
  {
   "cell_type": "code",
   "execution_count": null,
   "metadata": {},
   "outputs": [],
   "source": [
    "def f(x):\n",
    "    return x[0] ** 2 + x[1] ** 2\n",
    "\n",
    "x = np.linspace(-50, 50, 120)\n",
    "y = np.linspace(-75, 75, 120)\n",
    "X, Y = np.meshgrid(x, y)\n",
    "x0 = np.array([35, 50], dtype=float)\n",
    "\n",
    "init()\n",
    "\n",
    "\n",
    "num_iter = 60\n",
    "result = [gradient_descent_constant(f, x0, lr=1, num_iterations=num_iter),\n",
    "          gradient_descent_dichotomy(f, x0, step_size=1, num_iterations=num_iter)]\n",
    "result_label = ['constant', 'dichotomy']\n",
    "\n",
    "save_result(result, result_label, PATH_DATA + FILE_PREFIX + 'F1')\n",
    "print_full_grad(result, result_label, title='', elev=30, azim=-14, filename = PATH_IMAGE + FILE_PREFIX + 'F1', dpi = CNST_DPI_IMAGE)\n",
    "print_full_grad(result, result_label, title='', elev=30, azim=-14, filename = PATH_HQ + FILE_PREFIX + 'F1' + '_' + 'HQ', dpi = CNST_DPI_HQ)"
   ]
  },
  {
   "attachments": {},
   "cell_type": "markdown",
   "metadata": {},
   "source": [
    "### Пример 2"
   ]
  },
  {
   "cell_type": "code",
   "execution_count": null,
   "metadata": {},
   "outputs": [],
   "source": [
    "def f(x):\n",
    "\tA = np.array([[0.7464451039232642, 1.0905399322509766], [-0.45261597812262555, 0.5415655721418664]])\n",
    "\treturn (x.dot(A)).dot(x.T)\n",
    "\n",
    "x = np.linspace(-50, 50, 120)\n",
    "y = np.linspace(-75, 75, 120)\n",
    "X, Y = np.meshgrid(x, y)\n",
    "x0 = np.array([50, -75], dtype=float)\n",
    "\n",
    "init()\n",
    "\n",
    "\n",
    "num_iter = 100\n",
    "result = [gradient_descent_constant(f, x0, lr=0.2, num_iterations=num_iter),\n",
    "          gradient_descent_dichotomy(f, x0, step_size=1, num_iterations=num_iter)]\n",
    "result_label = ['constant', 'dichotomy']\n",
    "\n",
    "save_result(result, result_label, PATH_DATA + FILE_PREFIX + 'F2')\n",
    "print_full_grad(result, result_label, title='', elev=30, azim=-18, filename = PATH_IMAGE + FILE_PREFIX + 'F2', dpi = CNST_DPI_IMAGE)\n",
    "print_full_grad(result, result_label, title='', elev=30, azim=-18, filename = PATH_HQ + FILE_PREFIX + 'F2' + '_' + 'HQ', dpi = CNST_DPI_HQ)"
   ]
  }
 ],
 "metadata": {
  "kernelspec": {
   "display_name": "Python 3",
   "language": "python",
   "name": "python3"
  },
  "language_info": {
   "codemirror_mode": {
    "name": "ipython",
    "version": 3
   },
   "file_extension": ".py",
   "mimetype": "text/x-python",
   "name": "python",
   "nbconvert_exporter": "python",
   "pygments_lexer": "ipython3",
   "version": "3.11.1"
  },
  "orig_nbformat": 4,
  "vscode": {
   "interpreter": {
    "hash": "0c106e3956619c8654ce5e0562294058212cdd15b4527d78baaf335d52767e29"
   }
  }
 },
 "nbformat": 4,
 "nbformat_minor": 2
}
