{
  "cells": [
    {
      "cell_type": "markdown",
      "metadata": {
        "id": "6DqRFWzVdK8W"
      },
      "source": [
        "# Лабораторная работа # 1"
      ]
    },
    {
      "cell_type": "markdown",
      "metadata": {
        "id": "L4TMlHjPdrNG"
      },
      "source": [
        "# 0. Инициализация"
      ]
    },
    {
      "cell_type": "code",
      "execution_count": null,
      "metadata": {
        "id": "webGRICsTm_8"
      },
      "outputs": [],
      "source": [
        "# Для анимаций\n",
        "from matplotlib import rc\n",
        "rc('animation', html='jshtml')\n",
        "from matplotlib.animation import FuncAnimation\n",
        "\n",
        "# Для больших анимаций\n",
        "import matplotlib as mpl\n",
        "mpl.rcParams['animation.embed_limit'] = 1000.0 \n",
        "\n",
        "# Для графиков и прочего\n",
        "import numpy as np\n",
        "import scipy\n",
        "from matplotlib import cm\n",
        "import matplotlib.pyplot as plt\n",
        "import math\n",
        "import pandas as pd\n",
        "\n",
        "# Для корректного отображения \n",
        "%matplotlib inline\n",
        "plt.style.use('fivethirtyeight')\n",
        "\n",
        "# Для таблиц\n",
        "import csv \n",
        "\n",
        "# Для работы с файлами\n",
        "import os\n",
        "\n",
        "# Для progress bar\n",
        "from tqdm import tqdm"
      ]
    },
    {
      "cell_type": "code",
      "execution_count": null,
      "metadata": {
        "id": "SOiQ2hzoSGia"
      },
      "outputs": [],
      "source": [
        "root_path = 'source' + os.sep"
      ]
    },
    {
      "cell_type": "markdown",
      "metadata": {
        "id": "sCrxUy80d4QI"
      },
      "source": [
        "## Градиент"
      ]
    },
    {
      "cell_type": "code",
      "execution_count": null,
      "metadata": {
        "id": "qxQuZjyEGTeo"
      },
      "outputs": [],
      "source": [
        "delta = 1e-9\n",
        "def grad(f, x):\n",
        "    \"\"\"\n",
        "    Функция вычисления градиента в заданной точке с константной точностью\n",
        "\n",
        "    Аргументы:\n",
        "    f -- функция\n",
        "    x -- точка\n",
        "\n",
        "    Возвращает:\n",
        "    ans -- градиент функции в точке x\n",
        "    \"\"\"\n",
        "\n",
        "    n = len(x)\n",
        "    xd = np.copy(x)\n",
        "    ans = np.zeros(n)\n",
        "\n",
        "    for i in range(n):\n",
        "        xd[i] += delta\n",
        "        ans[i] = np.divide(f(xd) - f(x), delta)\n",
        "        xd[i] -= delta\n",
        "\n",
        "    return ans"
      ]
    },
    {
      "cell_type": "markdown",
      "metadata": {
        "id": "vnlYmleseI3m"
      },
      "source": [
        "## Градиентный спуск"
      ]
    },
    {
      "cell_type": "code",
      "execution_count": null,
      "metadata": {
        "id": "nAGTZxQ99qwt"
      },
      "outputs": [],
      "source": [
        "def gradient_descent(f, x0, lr_search_func, num_iterations=1000, eps=1e-6, step_size=1, minimum=0, apply_min=False):\n",
        "    \"\"\"\n",
        "    Функция вычисления градиентного спуска с заданной функцией поиска коэффициента обучения\n",
        "\n",
        "    Аргументы:\n",
        "    f -- функция\n",
        "    x0 -- начальная точка\n",
        "    ----------------------------------------------------------------------------\n",
        "    lr_search_func -- функция поиска оптимального коэффициента обучения (learning rate)\n",
        "        Аргументы:\n",
        "        f -- функция\n",
        "        a -- левая граница интервала\n",
        "        b -- правая граница интервала\n",
        "        eps -- точность поиска\n",
        "\n",
        "        Возвращает:\n",
        "        x -- точка минимума функции\n",
        "    ----------------------------------------------------------------------------\n",
        "    eps -- точность поиска\n",
        "    num_iterations -- количество итераций\n",
        "    step_size -- размер шага\n",
        "\n",
        "    Возвращает:\n",
        "    points -- массив оптимальных на каждом шаге точек\n",
        "    \"\"\"\n",
        "    def line_search(x, d):\n",
        "        fd = lambda alpha: f(x - alpha*d)\n",
        "        alpha = lr_search_func(fd, 0, 1, eps)\n",
        "        return alpha\n",
        "\n",
        "    x = np.copy(x0)\n",
        "    points = np.array([x])\n",
        "    for i in range(num_iterations):\n",
        "        if apply_min and abs(f(x) - minimum) < eps:\n",
        "            break\n",
        "\n",
        "        grad_x = grad(f, x);\n",
        "        x = x - grad_x * line_search(x, grad_x) * step_size\n",
        "        points = np.vstack([points, x])\n",
        "    return points"
      ]
    },
    {
      "cell_type": "markdown",
      "metadata": {
        "id": "uKqEnCOEh1lO"
      },
      "source": [
        "## Для отрисовки"
      ]
    },
    {
      "cell_type": "code",
      "execution_count": null,
      "metadata": {
        "id": "iDkNdNV2OuIc"
      },
      "outputs": [],
      "source": [
        "def init():\n",
        "    global X, Y, Z, f, x0\n",
        "    Z = np.vectorize(lambda x, y: f(np.array([x, y])))(X, Y)"
      ]
    },
    {
      "cell_type": "markdown",
      "metadata": {
        "id": "vCh4m_eVOuId"
      },
      "source": [
        "### 3D визуализация функции"
      ]
    },
    {
      "cell_type": "code",
      "execution_count": null,
      "metadata": {
        "id": "-sxgMfIMspKK"
      },
      "outputs": [],
      "source": [
        "def print_f(elev=30, azim=60):\n",
        "  # Создание фигуры и трехмерной оси\n",
        "  fig = plt.figure(figsize=(10, 10))\n",
        "  ax = fig.add_subplot(111, projection='3d')\n",
        "\n",
        "  # Установка угол обзора\n",
        "  ax.view_init(elev=elev, azim=azim)\n",
        "\n",
        "  # Построение поверхности\n",
        "  ax.plot_surface(X, Y, Z)\n",
        "\n",
        "  # Построение начальной точки\n",
        "  ax.plot(x0[0], x0[1], f(x0), 'ro', label='Начальная точка')\n",
        "\n",
        "  # Установка отступа между графиком и значениями осей\n",
        "  ax.tick_params(pad=10)\n",
        "\n",
        "  # Добавление легенды\n",
        "  plt.legend(loc='upper left')\n",
        "\n",
        "  # Установка размера шрифта для подписей осей\n",
        "  ax.tick_params(axis='x', labelsize=10)\n",
        "  ax.tick_params(axis='y', labelsize=10)\n",
        "  ax.tick_params(axis='z', labelsize=10)\n",
        "\n",
        "  # Добавление заголовка и подписей осей\n",
        "  plt.title('График функции с начальной точкой')\n",
        "  ax.set_xlabel('Ось X', labelpad=20.0)\n",
        "  ax.set_ylabel('Ось Y', labelpad=20.0)\n",
        "  ax.set_zlabel('Ось f(x, y)', labelpad=20.0)\n",
        "\n",
        "  # Отображение графика\n",
        "  plt.show()"
      ]
    },
    {
      "cell_type": "code",
      "execution_count": null,
      "metadata": {
        "id": "FJb3vDwCOuIe"
      },
      "outputs": [],
      "source": [
        "def print_f_animated(interval=100, elev = 30, st_azim = 80, delta=5):\n",
        "    # plt.title('График функции с начальной точкой')\n",
        "    fig = plt.figure(figsize=(7, 7))\n",
        "    ax = plt.axes(projection='3d')\n",
        "    def frame(w):\n",
        "        ax.clear()\n",
        "\n",
        "        # угол обзора\n",
        "        azim = (w*delta + st_azim)%360\n",
        "        ax.view_init(elev=elev, azim=azim)\n",
        "\n",
        "        # Построение поверхности\n",
        "        ax.plot_surface(X, Y, Z)\n",
        "\n",
        "        # Построение начальной точки\n",
        "        label = 'elev=' + str(elev) + ', azim=' + str(azim)\n",
        "        ax.plot(x0[0], x0[1], f(x0), 'ro', markersize=3, label=label)\n",
        "\n",
        "        # Установка отступа между графиком и значениями осей\n",
        "        ax.tick_params(pad=10)\n",
        "\n",
        "        # Установка размера шрифта для подписей осей\n",
        "        ax.tick_params(axis='x', labelsize=10)\n",
        "        ax.tick_params(axis='y', labelsize=10)\n",
        "        ax.tick_params(axis='z', labelsize=10)\n",
        "        \n",
        "        # Добавление заголовка и подписей осей\n",
        "        ax.set_xlabel('Ось X', labelpad=20.0)\n",
        "        ax.set_ylabel('Ось Y', labelpad=20.0)\n",
        "        ax.set_zlabel('Ось f(x, y)', labelpad=20.0)\n",
        "\n",
        "        ax.legend(loc='upper left')\n",
        "\n",
        "        return ax\n",
        "    plt.close()\n",
        "\n",
        "    frames = np.ceil(360 / delta).astype(int)\n",
        "\n",
        "    return FuncAnimation(fig, frame, interval=interval, frames=frames, blit=False, repeat=True)"
      ]
    },
    {
      "cell_type": "markdown",
      "metadata": {
        "id": "9_1qOwBBOuIf"
      },
      "source": [
        "### Линии уровня и градиент"
      ]
    },
    {
      "cell_type": "code",
      "execution_count": null,
      "metadata": {
        "id": "nuKhEkdEsoXE"
      },
      "outputs": [],
      "source": [
        "def print_lines_grad(list_result, list_label, title='Градиентный спуск на уровнях функции', filename='', filename_extension='.png', dpi=1024):\n",
        "  fig = plt.figure(figsize=(10, 10))\n",
        "  ax = fig.add_subplot(111)\n",
        "\n",
        "  for i in range(len(list_result)):\n",
        "    levels=np.unique(np.sort(f(list_result[i])))\n",
        "    ax.contour(X, Y, Z, levels=levels, colors='red', antialiased=True, linewidths=1.0)\n",
        "\n",
        "  for i in range(len(list_result)):\n",
        "    x = list_result[i][:, 0]\n",
        "    y = list_result[i][:, 1]\n",
        "    ax.plot(x, y, marker='.', markersize=10, markerfacecolor='black', label=list_label[i], linewidth = 2)\n",
        "    print(f'{list_label[i]:15} ==> {f(list_result[i][-1]):10f} in [{list_result[i][-1][0]:10f}, {list_result[i][-1][1]:10f}]')\n",
        "    \n",
        "  # Добавление легенды\n",
        "  if len(list_label) > 0:\n",
        "    plt.legend(loc='upper left')\n",
        "\n",
        "  if(filename != ''):\n",
        "    plt.savefig(filename + filename_extension, dpi=dpi, bbox_inches=0, transparent=True)    \n",
        "\n",
        "  plt.show()"
      ]
    },
    {
      "cell_type": "code",
      "execution_count": null,
      "metadata": {
        "id": "pI-W5pMHj6vf"
      },
      "outputs": [],
      "source": [
        "def print_lines_grad_animated(list_result, list_label, interval=100, frames=-1):\n",
        "    fig = plt.figure(figsize=(7, 7))\n",
        "    ax = fig.add_subplot(111)\n",
        "    def frame(w):\n",
        "        ax.clear()\n",
        "\n",
        "        for i in range(len(list_result)):\n",
        "          levels=np.unique(np.sort(f(list_result[i][:frames].T)))\n",
        "          ax.contour(X, Y, Z, levels, colors='red', antialiased=True, linewidths=1.0)\n",
        "\n",
        "        for i in range(len(list_result)):\n",
        "          x = list_result[i][:w, 0]\n",
        "          y = list_result[i][:w, 1]\n",
        "          ax.plot(x, y, marker='.', markersize=10, markerfacecolor='black', label=list_label[i], linewidth = 2)\n",
        "\n",
        "        ax.legend(loc='upper left')\n",
        "\n",
        "        return ax\n",
        "\n",
        "    plt.close()\n",
        "    if frames == -1 or frames > len(list_result[0]):\n",
        "      frames = len(list_result[0])\n",
        "\n",
        "    return FuncAnimation(fig, frame, interval=interval, frames=frames, blit=False, repeat=True)"
      ]
    },
    {
      "cell_type": "markdown",
      "metadata": {
        "id": "0SrdW_weOuIg"
      },
      "source": [
        "### 3D и градиент"
      ]
    },
    {
      "cell_type": "code",
      "execution_count": null,
      "metadata": {
        "id": "KwgA4OAJKxuA"
      },
      "outputs": [],
      "source": [
        "def print_full_grad(list_result, list_label, title='Градиентный спуск на графике функции', elev = 30, azim = 80, filename='', filename_extension='.png', dpi=1024):\n",
        "  fig = plt.figure(figsize=(10, 10))\n",
        "  ax = fig.add_subplot(projection='3d')\n",
        "\n",
        "  for i in range(len(list_result)):\n",
        "    x = list_result[i][:, 0]\n",
        "    y = list_result[i][:, 1]\n",
        "    z = np.vectorize(lambda x, y: f(np.array([x, y])))(x, y)\n",
        "    ax.plot(x, y, marker='.', markersize=10, markerfacecolor='black', zs=z, label=list_label[i], linewidth = 2)\n",
        "    print(f'{list_label[i]:15} ==> {f(list_result[i][-1]):10f} in [{list_result[i][-1][0]:10f}, {list_result[i][-1][1]:10f}]')\n",
        "    \n",
        "  ax.plot_surface(X, Y, Z, cmap=cm.coolwarm)\n",
        "  ax.view_init(elev=elev, azim=azim)\n",
        "  \n",
        "  # Установка отступа между графиком и значениями осей\n",
        "  ax.tick_params(pad=10)\n",
        "\n",
        "  # Добавление легенды\n",
        "  if len(list_label) > 0:\n",
        "    ax.legend(loc='upper left')\n",
        "\n",
        "  # Установка размера шрифта для подписей осей\n",
        "  ax.tick_params(axis='x', labelsize=10)\n",
        "  ax.tick_params(axis='y', labelsize=10)\n",
        "  ax.tick_params(axis='z', labelsize=10)\n",
        "\n",
        "  # Добавление заголовка и подписей осей\n",
        "  if title != '':\n",
        "    plt.title(title)\n",
        "  \n",
        "  ax.set_xlabel('Ось X', labelpad=20.0)\n",
        "  ax.set_ylabel('Ось Y', labelpad=20.0)\n",
        "  ax.set_zlabel('Ось f(x, y)', labelpad=20.0)\n",
        "\n",
        "\n",
        "  if(filename != ''):\n",
        "    plt.savefig(filename + filename_extension, dpi=dpi, bbox_inches=0, transparent=True)\n",
        "\n",
        "  plt.show()\n"
      ]
    },
    {
      "cell_type": "code",
      "execution_count": null,
      "metadata": {
        "id": "7Z-F697_G_Tt"
      },
      "outputs": [],
      "source": [
        "def print_full_grad_animated(list_result, list_label, interval=100, frames=-1, elev = 30, azim = 80):\n",
        "    fig = plt.figure(figsize=(7, 7))\n",
        "    ax = plt.axes(projection='3d')\n",
        "\n",
        "    def frame(w):\n",
        "        ax.clear()\n",
        "        for i in range(len(list_result)):\n",
        "            x = list_result[i][:w+1, 0]\n",
        "            y = list_result[i][:w+1, 1]\n",
        "            z = np.vectorize(lambda x, y: f(np.array([x, y])))(x, y)\n",
        "            ax.plot(x, y, marker='.', markersize=10, markerfacecolor='black', zs=z, label=list_label[i], linewidth = 2, markevery=(w,w+1))\n",
        "\n",
        "        ax.plot_surface(X, Y, Z, cmap=cm.coolwarm)\n",
        "        ax.view_init(elev=elev, azim=azim)\n",
        "        if len(list_label) > 0:\n",
        "            ax.legend(loc='upper left')\n",
        "\n",
        "        return ax\n",
        "\n",
        "    plt.close()\n",
        "    if frames == -1 or frames > len(list_result[0]):\n",
        "      frames = len(list_result[0])\n",
        "\n",
        "    return FuncAnimation(fig, frame, interval=interval, frames=frames, blit=False, repeat=True)"
      ]
    },
    {
      "cell_type": "markdown",
      "metadata": {
        "id": "aADg7qTPsxuX"
      },
      "source": [
        "## Для вывода"
      ]
    },
    {
      "cell_type": "code",
      "execution_count": null,
      "metadata": {
        "id": "SyNyLEmXs13H"
      },
      "outputs": [],
      "source": [
        "def print_result(result, sep=''):\n",
        "    global f\n",
        "    print(len(result), \":\")\n",
        "    for i in range(len(result)):\n",
        "        print(i, sep, result[i], sep, f(result[i]))"
      ]
    },
    {
      "cell_type": "code",
      "execution_count": null,
      "metadata": {
        "id": "qLT9jQVBOuIi"
      },
      "outputs": [],
      "source": [
        "def save_result_text(result, filename, sep=' ', sp='%g'):\n",
        "    with open(filename, 'w') as file:\n",
        "        for data in result:\n",
        "            for x in data:\n",
        "                file.write((sp + \"%s\") % (x, sep))  \n",
        "            file.write((sp + \"\\n\") % f(data))"
      ]
    },
    {
      "cell_type": "code",
      "execution_count": null,
      "metadata": {
        "id": "aLvM1zqMOuIi"
      },
      "outputs": [],
      "source": [
        "def save_result_table(result, filename, sp='%g', fields=[], generate_fields=False):\n",
        "    with open(filename, 'w') as csvfile:  \n",
        "        # создание объекта witer csv\n",
        "        csvwriter = csv.writer(csvfile, quoting=csv.QUOTE_NONE)  \n",
        "            \n",
        "        if generate_fields:\n",
        "            if len(result[0]) == 1:\n",
        "                fields = ['X']\n",
        "            elif len(result[0]) == 2:\n",
        "                fields = ['X', 'Y']\n",
        "            else:\n",
        "                fields = [f\"X[{i}]\" for i in range(len(result[0]))]\n",
        "            fields.append('F')\n",
        "\n",
        "        # запись шапки\n",
        "        if len(fields) > 0:\n",
        "            csvwriter.writerow(fields)  \n",
        "            \n",
        "        # запись данных \n",
        "        data = np.insert(result, len(result[0]), [f(x) for x in result], axis=1)\n",
        "        formatted_data = [[sp % x for x in row] for row in data]\n",
        "        csvwriter.writerows(formatted_data)"
      ]
    },
    {
      "cell_type": "code",
      "execution_count": null,
      "metadata": {
        "id": "zTic9WvPOuIi"
      },
      "outputs": [],
      "source": [
        "def save_result(list_result, list_label, filepath='', sp='%g', fields=[], generate_fields=True):\n",
        "    for i in range(len(list_result)):\n",
        "        save_result_text(list_result[i], filepath + list_label[i] + '.txt', sp=sp)\n",
        "        save_result_table(list_result[i], filepath + list_label[i] + '.csv', sp, fields, generate_fields)"
      ]
    },
    {
      "cell_type": "markdown",
      "metadata": {
        "id": "WNNa1p9I6jxH"
      },
      "source": [
        "# 1. Реализуйте градиентный спуск с постоянным шагом (learning rate)."
      ]
    },
    {
      "cell_type": "code",
      "execution_count": null,
      "metadata": {
        "id": "j6Zj2hriFNlG"
      },
      "outputs": [],
      "source": [
        "def gradient_descent_constant(f, x0, lr=0.01, num_iterations=1000, minimum=0, apply_min=False):\n",
        "    \"\"\"\n",
        "    Градиентный спуск с постоянным шагом.\n",
        "\n",
        "    Аргументы:\n",
        "    f -- функция\n",
        "    x0 -- начальная точка\n",
        "    lr -- постоянный коэффициент обучения (learning rate)\n",
        "    num_iterations -- количество итераций\n",
        "\n",
        "    Возвращает:\n",
        "    gradient_descent(...)\n",
        "    \"\"\"\n",
        "    def const_lr(f, a, b, eps=1e-6):\n",
        "        return lr\n",
        "    \n",
        "    return gradient_descent(f, x0, const_lr, num_iterations, minimum=minimum, apply_min=apply_min)"
      ]
    },
    {
      "cell_type": "code",
      "execution_count": null,
      "metadata": {
        "id": "Z-GKK6JNOuIj"
      },
      "outputs": [],
      "source": [
        "filepath = root_path + 'Task1' + os.sep"
      ]
    },
    {
      "cell_type": "markdown",
      "metadata": {
        "id": "ZqdL6FarOuIk"
      },
      "source": [
        "## Пример 1:"
      ]
    },
    {
      "cell_type": "code",
      "execution_count": null,
      "metadata": {
        "colab": {
          "base_uri": "https://localhost:8080/",
          "height": 632
        },
        "id": "X8ttTZU5OuIk",
        "outputId": "2651db77-6068-41dd-a9b9-89dfc6657c83"
      },
      "outputs": [],
      "source": [
        "fileprefix = 'f1_'\n",
        "\n",
        "def f(x):\n",
        "    return x[0] ** 2 + x[1] ** 2\n",
        "\n",
        "x = np.linspace(-50, 50, 120)\n",
        "y = np.linspace(-100, 100, 120)\n",
        "X, Y = np.meshgrid(x, y)\n",
        "x0 = np.array([25, -50], dtype=float)\n",
        "init()\n",
        "\n",
        "num_iter = 30;\n",
        "result = [gradient_descent_constant(f, x0, lr=0.2, num_iterations=num_iter)]\n",
        "result_label = ['constant']\n",
        "\n",
        "# print_result(result[0])\n",
        "save_result(result, result_label, filepath + fileprefix)\n",
        "# print_full_grad(result, result_label, title='Пример 1: градиентный спуск на графике функции', azim=10, filename=filepath + fileprefix + '_'.join(result_label))\n",
        "print_full_grad(result, result_label, title='', azim=10, filename=filepath + fileprefix + '_'.join(result_label))"
      ]
    },
    {
      "cell_type": "markdown",
      "metadata": {
        "id": "jFSRL02ROuIl"
      },
      "source": [
        "## Пример 2:"
      ]
    },
    {
      "cell_type": "code",
      "execution_count": null,
      "metadata": {
        "colab": {
          "base_uri": "https://localhost:8080/",
          "height": 632
        },
        "id": "sCcEeSESOuIl",
        "outputId": "d57a2f4c-c4ce-47f3-fd43-a35ad4a84d29"
      },
      "outputs": [],
      "source": [
        "fileprefix = 'f2_'\n",
        "\n",
        "def f(x):\n",
        "    return -0.84233647 * x[0] ** 2 + -0.28077882 * x[1] ** 2\n",
        "\n",
        "x = np.linspace(-50, 50, 120)\n",
        "y = np.linspace(-100, 100, 120)\n",
        "X, Y = np.meshgrid(x, y)\n",
        "x0 = np.array([0.00000014, 0.1], dtype=float)\n",
        "init()\n",
        "\n",
        "num_iter = 126\n",
        "result = [gradient_descent_constant(f, x0, lr=0.1, num_iterations=num_iter)]\n",
        "result_label = ['constant']\n",
        "\n",
        "# print_result(result[0])\n",
        "save_result(result, result_label, filepath + fileprefix)\n",
        "# print_full_grad(result, result_label, title='Пример 2: градиентный спуск на графике функции', azim=10, filename=filepath + fileprefix + '_'.join(result_label))\n",
        "print_full_grad(result, result_label, title='', azim=10, filename=filepath + fileprefix + '_'.join(result_label))"
      ]
    },
    {
      "cell_type": "markdown",
      "metadata": {
        "id": "msAmZun1OuIl"
      },
      "source": [
        "## Пример 3:"
      ]
    },
    {
      "cell_type": "code",
      "execution_count": null,
      "metadata": {
        "colab": {
          "base_uri": "https://localhost:8080/",
          "height": 633
        },
        "id": "m2O1DdG5OuIm",
        "outputId": "b7a42245-9813-4ec2-b3d9-2bec1c550fdc"
      },
      "outputs": [],
      "source": [
        "fileprefix = 'f3_'\n",
        "\n",
        "def f(x):\n",
        "    return (x[0]**2 - x[1]**2 - 9)*np.cos(2*x[0]+1-np.exp(x[1]))\n",
        "\n",
        "x = np.linspace(-3, 3, 120)\n",
        "y = np.linspace(-3, 1, 120)\n",
        "X, Y = np.meshgrid(x, y)\n",
        "x0 = np.array([-0.1, 0.4], dtype=float)\n",
        "init()\n",
        "\n",
        "num_iter = 50;\n",
        "result = [gradient_descent_constant(f, x0, lr=0.07, num_iterations=num_iter)]\n",
        "result_label = ['constant']\n",
        "\n",
        "# print_result(result[0])\n",
        "save_result(result, result_label, filepath + fileprefix)\n",
        "# print_full_grad(result, result_label, title='Пример 3: градиентный спуск на графике функции', elev=45, azim=75, filename=filepath + fileprefix + '_'.join(result_label))\n",
        "print_full_grad(result, result_label, title='', elev=45, azim=75, filename=filepath + fileprefix + '_'.join(result_label))"
      ]
    },
    {
      "cell_type": "markdown",
      "metadata": {
        "id": "QCezIkwmcvQ2"
      },
      "source": [
        "# 2. Реализуйте метод одномерного поиска (метод дихотомии, метод Фибоначчи, метод золотого сечения) и градиентный спуск на его основе."
      ]
    },
    {
      "cell_type": "markdown",
      "metadata": {
        "id": "9xEsGyKqc7UV"
      },
      "source": [
        "## (a) Метод дихотомии"
      ]
    },
    {
      "cell_type": "code",
      "execution_count": null,
      "metadata": {
        "id": "h-RIyMB1e7M_"
      },
      "outputs": [],
      "source": [
        "def dichotomy_search(f, a, b, eps=1e-6):\n",
        "    \"\"\"\n",
        "    Метод дихотомии для поиска минимума функции f на интервале [a,b] с точностью eps\n",
        "\n",
        "    Аргументы:\n",
        "    f -- функция\n",
        "    a -- начальная точка интервала\n",
        "    b -- конечная точка интервала\n",
        "    eps -- точность поиска\n",
        "\n",
        "    Возвращает:\n",
        "    x -- точка минимума функции\n",
        "    \"\"\"\n",
        "    while b - a > eps:\n",
        "        c = (a + b) / 2\n",
        "        if f(c - eps) < f(c + eps):\n",
        "            b = c\n",
        "        else:\n",
        "            a = c\n",
        "    return (a + b) / 2\n",
        "\n",
        "def gradient_descent_dichotomy(f, x0, num_iterations=1000, eps=1e-6, step_size=0.01, minimum=0, apply_min=False):\n",
        "    \"\"\"\n",
        "    Градиентный спуск на основе метода дихотомии\n",
        "\n",
        "    Аргументы:\n",
        "    f -- функция\n",
        "    x0 -- начальная точка\n",
        "    num_iterations -- количество итераций\n",
        "    eps -- точность поиска\n",
        "    step_size -- размер шага\n",
        "    \n",
        "    Возвращает:\n",
        "    gradient_descent(...)\n",
        "    \"\"\"\n",
        "\n",
        "    return gradient_descent(f, x0, dichotomy_search, num_iterations, eps, step_size, minimum=minimum, apply_min=apply_min)"
      ]
    },
    {
      "cell_type": "markdown",
      "metadata": {
        "id": "jzpHC_RxpDTd"
      },
      "source": [
        "## (b) Метод Фибоначчи"
      ]
    },
    {
      "cell_type": "code",
      "execution_count": null,
      "metadata": {
        "id": "ZwXjNRmCpCYi"
      },
      "outputs": [],
      "source": [
        "def fibonacci_search(f, a, b, n):\n",
        "    \"\"\"\n",
        "    Метод Фибоначчи для одномерного поиска.\n",
        "\n",
        "    Аргументы:\n",
        "    f -- функция\n",
        "    a -- левая граница интервала\n",
        "    b -- правая граница интервала\n",
        "    n -- \"точность\" поиска функции\n",
        "\n",
        "    Возвращает:\n",
        "    x -- точка минимума\n",
        "    \"\"\"\n",
        "\n",
        "    fib = [1, 1]\n",
        "    while fib[-1] < n:\n",
        "        fib.append(fib[-1] + fib[-2])\n",
        "\n",
        "    k = len(fib) - 1\n",
        "    x1 = a + (fib[k - 2] / fib[k]) * (b - a)\n",
        "    x2 = a + (fib[k - 1] / fib[k]) * (b - a)\n",
        "    f1 = f(x1)\n",
        "    f2 = f(x2)\n",
        "\n",
        "    for i in range(k - 2):\n",
        "        if f1 < f2:\n",
        "            b = x2\n",
        "            x2 = x1\n",
        "            f2 = f1\n",
        "            x1 = a + (fib[k - i - 3] / fib[k - i - 1]) * (b - a)\n",
        "            f1 = f(x1)\n",
        "        else:\n",
        "            a = x1\n",
        "            x1 = x2\n",
        "            f1 = f2\n",
        "            x2 = a + (fib[k - i - 2] / fib[k - i - 1]) * (b - a)\n",
        "            f2 = f(x2)\n",
        "\n",
        "    return (a + b) / 2\n",
        "\n",
        "def gradient_descent_fibonacci(f, x0, num_iterations=1000, n=6900, step_size=0.01, minimum=0, apply_min=False):\n",
        "    \"\"\"\n",
        "    Градиентный спуск на основе метода Фибоначчи\n",
        "\n",
        "    Аргументы:\n",
        "    f -- функция\n",
        "    x0 -- начальная точка\n",
        "    num_iterations -- количество итераций\n",
        "    n -- \"точность\" поиска\n",
        "    step_size -- размер шага\n",
        "    \n",
        "    Возвращает:\n",
        "    gradient_descent(...)\n",
        "    \"\"\"\n",
        "\n",
        "    return gradient_descent(f, x0, fibonacci_search, num_iterations, n, step_size, minimum=minimum, apply_min=apply_min)"
      ]
    },
    {
      "cell_type": "markdown",
      "metadata": {
        "id": "x0Fz9b4GdesW"
      },
      "source": [
        "## (c) Метод золотого сечения"
      ]
    },
    {
      "cell_type": "code",
      "execution_count": null,
      "metadata": {
        "id": "uYcn4xtD9rgj"
      },
      "outputs": [],
      "source": [
        "def golden_section_search(f, a, b, eps=1e-6):\n",
        "    \"\"\"\n",
        "    Метод золотого сечения для одномерного поиска.\n",
        "\n",
        "    Аргументы:\n",
        "    f -- функция\n",
        "    a -- левая граница интервала\n",
        "    b -- правая граница интервала\n",
        "    eps -- точность поиска функции\n",
        "\n",
        "    Возвращает:\n",
        "    x -- точка минимума\n",
        "    \"\"\"\n",
        "    phi = (1 + np.sqrt(5)) / 2\n",
        "    x1 = b - (b - a) / phi\n",
        "    x2 = a + (b - a) / phi\n",
        "    while abs(b - a) > eps:\n",
        "        if f(x1) < f(x2):\n",
        "            b = x2\n",
        "        else:\n",
        "            a = x1\n",
        "        x1 = b - (b - a) / phi\n",
        "        x2 = a + (b - a) / phi\n",
        "    return (a + b) / 2\n",
        "\n",
        "def gradient_descent_golden_section(f, x0, num_iterations=1000, eps=1e-6, step_size=0.01, minimum=0, apply_min=False):\n",
        "    \"\"\"\n",
        "    Градиентный спуск на основе метода золотого сечения.\n",
        "\n",
        "    Аргументы:\n",
        "    f -- функция\n",
        "    x0 -- начальная точка\n",
        "    num_iterations -- количество итераций\n",
        "    eps -- точность поиска\n",
        "\n",
        "    Возвращает:\n",
        "    gradient_descent(...)\n",
        "    \"\"\"\n",
        "    return gradient_descent(f, x0, golden_section_search, num_iterations, eps, step_size, minimum=minimum, apply_min=apply_min)"
      ]
    },
    {
      "cell_type": "code",
      "execution_count": null,
      "metadata": {
        "id": "B7n7bst4OuIo"
      },
      "outputs": [],
      "source": [
        "filepath = root_path + 'Task2' + os.sep"
      ]
    },
    {
      "cell_type": "markdown",
      "metadata": {
        "id": "Zb4ISug0OuIo"
      },
      "source": [
        "## Пример 1:"
      ]
    },
    {
      "cell_type": "code",
      "execution_count": null,
      "metadata": {
        "colab": {
          "base_uri": "https://localhost:8080/",
          "height": 0
        },
        "id": "4WMNlq4VOuIo",
        "outputId": "3e9a2dc4-4cf7-4cf1-e0f0-95e0abd9b95a"
      },
      "outputs": [],
      "source": [
        "fileprefix = 'f1_'\n",
        "\n",
        "# Функция Розенброка min => f(1, 1) = 0\n",
        "f = scipy.optimize.rosen\n",
        "\n",
        "x = np.linspace(-1, 1.5, 120)\n",
        "y = np.linspace(-1, 2, 120)\n",
        "X, Y = np.meshgrid(x, y)\n",
        "x0 = np.array([0.4, -0.9], dtype=float)\n",
        "init()\n",
        "\n",
        "num_iter = 10;\n",
        "result = [gradient_descent_constant(f, x0, lr=.005, num_iterations=num_iter),\n",
        "          gradient_descent_dichotomy(f, x0, step_size=1, num_iterations=num_iter)]\n",
        "result_label = ['constant', 'dichotomy']\n",
        "\n",
        "save_result(result, result_label, filepath + fileprefix)\n",
        "print_full_grad(result, result_label, title='', elev=25, azim=100, filename=filepath + fileprefix + '_'.join(result_label))"
      ]
    },
    {
      "cell_type": "markdown",
      "metadata": {
        "id": "0JN_0VWOOuIp"
      },
      "source": [
        "## Пример 2:"
      ]
    },
    {
      "cell_type": "code",
      "execution_count": null,
      "metadata": {
        "colab": {
          "base_uri": "https://localhost:8080/",
          "height": 0
        },
        "id": "P3c4hIbVOuIp",
        "outputId": "9c0e31dc-88ff-42cc-d494-9a515766cf2b"
      },
      "outputs": [],
      "source": [
        "fileprefix = 'f2_'\n",
        "\n",
        "# Функция Гольдшейна-Прайса min => f(0, -1) = 3\n",
        "def f(x):\n",
        "    return (1 + (x[0] + x[1] + 1)**2 * (19 - 14*x[0] + 3*x[0]**2-14*x[1]+6*x[0]*x[1]+3*x[1]**2)) * (30 + (2*x[0] - 3*x[1])**2 * (18 - 32*x[0] + 12*x[0]**2 + 48*x[1] - 36*x[0]*x[1]+27*x[1]**2))\n",
        "\n",
        "x = np.linspace(-2, 1, 120)\n",
        "y = np.linspace(-2, 1, 120)\n",
        "X, Y = np.meshgrid(x, y)\n",
        "x0 = np.array([-0.9, 0.7], dtype=float)\n",
        "init()\n",
        "\n",
        "num_iter = 7;\n",
        "result = [gradient_descent_constant(f, x0, lr=.000005, num_iterations=num_iter),\n",
        "          gradient_descent_dichotomy(f, x0, step_size=0.8, num_iterations=num_iter)]\n",
        "result_label = ['constant', 'dichotomy']\n",
        "\n",
        "save_result(result, result_label, filepath + fileprefix)\n",
        "print_full_grad(result, result_label, title='', elev=25, azim=10, filename=filepath + fileprefix + '_'.join(result_label))"
      ]
    },
    {
      "cell_type": "markdown",
      "metadata": {
        "id": "cg5RR5UVOuIp"
      },
      "source": [
        "# 3. Проанализируйте траекторию градиентного спуска на примере квадратичных функций. Для этого придумайте две-три квадратичные функции от двух переменных, на которых работа методов будет отличаться."
      ]
    },
    {
      "cell_type": "code",
      "execution_count": null,
      "metadata": {
        "id": "AKSTgobCOuIq"
      },
      "outputs": [],
      "source": [
        "filepath = root_path + 'Task3' + os.sep"
      ]
    },
    {
      "cell_type": "markdown",
      "metadata": {
        "id": "UbgDfQukOuIq"
      },
      "source": [
        "## Пример 1:"
      ]
    },
    {
      "cell_type": "code",
      "execution_count": null,
      "metadata": {
        "colab": {
          "base_uri": "https://localhost:8080/",
          "height": 0
        },
        "id": "1QmjHVQLOuIq",
        "outputId": "40e0ce6f-4714-427f-e800-a332528eab2b"
      },
      "outputs": [],
      "source": [
        "fileprefix = 'f1_'\n",
        "\n",
        "def f(x):\n",
        "    return x[0] ** 2 + x[1] ** 2\n",
        "\n",
        "x = np.linspace(-50, 50, 120)\n",
        "y = np.linspace(-75, 75, 120)\n",
        "X, Y = np.meshgrid(x, y)\n",
        "x0 = np.array([35, 50], dtype=float)\n",
        "\n",
        "init()\n",
        "\n",
        "\n",
        "num_iter = 60\n",
        "result = [gradient_descent_constant(f, x0, lr=1, num_iterations=num_iter),\n",
        "          gradient_descent_dichotomy(f, x0, step_size=1, num_iterations=num_iter)]\n",
        "result_label = ['constant', 'dichotomy']\n",
        "\n",
        "save_result(result, result_label, filepath + fileprefix)\n",
        "print_full_grad(result, result_label, title='', elev=30, azim=-14, filename=filepath + fileprefix + '_'.join(result_label))"
      ]
    },
    {
      "cell_type": "markdown",
      "metadata": {
        "id": "xwEjWdw_OuIq"
      },
      "source": [
        "## Пример 2:"
      ]
    },
    {
      "cell_type": "code",
      "execution_count": null,
      "metadata": {
        "colab": {
          "base_uri": "https://localhost:8080/",
          "height": 0
        },
        "id": "lvQW6p-6OuIr",
        "outputId": "87fb30b6-a19f-49de-b870-d3eef0e4be59"
      },
      "outputs": [],
      "source": [
        "fileprefix = 'f2_'\n",
        "\n",
        "def f(x):\n",
        "\tA = np.array([[0.7464451039232642, 1.0905399322509766], [-0.45261597812262555, 0.5415655721418664]])\n",
        "\treturn (x.dot(A)).dot(x.T)\n",
        "\n",
        "x = np.linspace(-50, 50, 120)\n",
        "y = np.linspace(-75, 75, 120)\n",
        "X, Y = np.meshgrid(x, y)\n",
        "x0 = np.array([50, -75], dtype=float)\n",
        "\n",
        "init()\n",
        "\n",
        "\n",
        "num_iter = 100\n",
        "result = [gradient_descent_constant(f, x0, lr=0.2, num_iterations=num_iter),\n",
        "          gradient_descent_dichotomy(f, x0, step_size=1, num_iterations=num_iter)]\n",
        "result_label = ['constant', 'dichotomy']\n",
        "\n",
        "save_result(result, result_label, filepath + fileprefix)\n",
        "print_full_grad(result, result_label, title='', elev=30, azim=-18, filename=filepath + fileprefix + '_'.join(result_label))"
      ]
    },
    {
      "attachments": {},
      "cell_type": "markdown",
      "metadata": {},
      "source": [
        "# 4. Для каждой функции:\n"
      ]
    },
    {
      "cell_type": "code",
      "execution_count": null,
      "metadata": {},
      "outputs": [],
      "source": [
        "filepath = root_path + 'Task4' + os.sep"
      ]
    },
    {
      "attachments": {},
      "cell_type": "markdown",
      "metadata": {},
      "source": [
        "## (a) исследуйте сходимость градиентного спуска с постоянным шагом, сравните полученные результаты для выбранных функций;"
      ]
    },
    {
      "cell_type": "code",
      "execution_count": null,
      "metadata": {},
      "outputs": [],
      "source": [
        "def gradient_descent_constant_with_end_condition(x0, lr, eps, max_iter, minimum):\n",
        "    x = np.copy(x0)\n",
        "    steps = 0\n",
        "\n",
        "    for i in range(max_iter):      \n",
        "        if abs(f(x) - minimum) < eps:\n",
        "            break\n",
        "\n",
        "        steps += 1\n",
        "        grad_res = grad(f, x)\n",
        "        x = x - lr * grad_res\n",
        "\n",
        "    return steps\n",
        "\n",
        "def constant_research_lr(minimum, lr_step_size=1e-04, max_iter=1000, eps=1e-6, filename='', filename_extension='.png', dpi=1024):\n",
        "    lr_values = np.arange(0, 1, lr_step_size)\n",
        "\n",
        "    result = []\n",
        "\n",
        "    for lr_iter in tqdm(lr_values):\n",
        "        steps = gradient_descent_constant_with_end_condition(x0, lr_iter, eps, max_iter, minimum)\n",
        "        result.append(steps)\n",
        "\n",
        "    min_lr_index = np.argmin(result)\n",
        "    min_steps = result[min_lr_index]\n",
        "    min_lr = lr_values[min_lr_index]\n",
        "\n",
        "    plt.annotate(f'[{min_lr}, {min_steps}]', \n",
        "                xy=(min_lr, min_steps),\n",
        "                xytext=(min_lr-0.1, min_steps+max_iter/10),\n",
        "                bbox=dict(boxstyle=\"round\", fc=\"0.8\"),\n",
        "                arrowprops=dict(arrowstyle='->', lw=2, color='black'))\n",
        "    \n",
        "    plt.xlabel('Learning rate', fontsize=14)\n",
        "    plt.ylabel('Steps', fontsize=14)\n",
        "    plt.plot(lr_values, result)\n",
        "    \n",
        "    if(filename != ''):\n",
        "        plt.savefig(filename + filename_extension, dpi=dpi, bbox_inches=0, transparent=True)\n",
        "\n",
        "    plt.show()"
      ]
    },
    {
      "attachments": {},
      "cell_type": "markdown",
      "metadata": {},
      "source": [
        "### Пример 1: "
      ]
    },
    {
      "cell_type": "code",
      "execution_count": null,
      "metadata": {},
      "outputs": [],
      "source": [
        "fileprefix = 'a_f1_'\n",
        "\n",
        "def f(x):\n",
        "    return x[0] ** 2 + x[1] ** 2\n",
        "\n",
        "x = np.linspace(-50, 50, 120)\n",
        "y = np.linspace(-75, 75, 120)\n",
        "X, Y = np.meshgrid(x, y)\n",
        "x0 = np.array([35, 50], dtype=float)\n",
        "\n",
        "init()\n",
        "constant_research_lr(0, 1e-3, max_iter=10000, filename=filepath + fileprefix + 'constant_research_lr')"
      ]
    },
    {
      "attachments": {},
      "cell_type": "markdown",
      "metadata": {},
      "source": [
        "### Пример 2: "
      ]
    },
    {
      "cell_type": "code",
      "execution_count": null,
      "metadata": {},
      "outputs": [],
      "source": [
        "fileprefix = 'a_f2_'\n",
        "\n",
        "def f(x):\n",
        "\tA = np.array([[0.7464451039232642, 1.0905399322509766], [-0.45261597812262555, 0.5415655721418664]])\n",
        "\treturn (x.dot(A)).dot(x.T)\n",
        "\n",
        "x = np.linspace(-50, 50, 120)\n",
        "y = np.linspace(-75, 75, 120)\n",
        "X, Y = np.meshgrid(x, y)\n",
        "x0 = np.array([50, -75], dtype=float)\n",
        "\n",
        "init()\n",
        "constant_research_lr(0, 1e-3, max_iter=1000, filename=filepath + fileprefix + 'constant_research_lr')"
      ]
    },
    {
      "attachments": {},
      "cell_type": "markdown",
      "metadata": {},
      "source": [
        "## (b) сравните эффективность градиентного спуска с использованием одномерного поиска с точки зрения количества вычислений минимизируемой функции и ее градиентов;"
      ]
    },
    {
      "cell_type": "code",
      "execution_count": null,
      "metadata": {},
      "outputs": [],
      "source": [
        "def line_search_and_constant_research_step_size(minimum, lr_step_size=1e-04, max_iter=1000, eps=1e-6, filename='', filename_extension='.png', dpi=1024):\n",
        "    step_size_values = np.arange(lr_step_size, 1, lr_step_size)\n",
        "\n",
        "    table = {'constant': [],\n",
        "            'dichotomy': []}\n",
        "    \n",
        "    global counter\n",
        "    for lr_iter in tqdm(step_size_values):\n",
        "        counter = 0\n",
        "        gradient_descent_constant(f, x0, lr=lr_iter, num_iterations=max_iter, minimum=minimum, apply_min=True)\n",
        "        table['constant'].append(counter)\n",
        "\n",
        "        counter = 0\n",
        "        gradient_descent_dichotomy(f, x0, step_size=lr_iter, num_iterations=max_iter, eps=eps, minimum=minimum, apply_min=True)\n",
        "        table['dichotomy'].append(counter)\n",
        "\n",
        "    min_constant_f_count_index = np.argmin(table['constant'])\n",
        "    min_dichotomy_f_count_index = np.argmin(table['dichotomy'])\n",
        "\n",
        "    plt.xlabel('Step size', fontsize=14)\n",
        "    plt.ylabel('F(x) count', fontsize=14)\n",
        "    plt.plot(step_size_values, table['constant'], label='constant: min - ' + str(table['constant'][min_constant_f_count_index]) + ' in ' + '%g' % step_size_values[min_constant_f_count_index])\n",
        "    plt.plot(step_size_values, table['dichotomy'], label='dichotomy: min - ' + str(table['dichotomy'][min_dichotomy_f_count_index]) + ' in ' + '%g' % step_size_values[min_dichotomy_f_count_index])\n",
        "    plt.legend(loc='upper left')\n",
        "\n",
        "    if(filename != ''):\n",
        "        plt.savefig(filename + filename_extension, dpi=dpi, bbox_inches=0, transparent=True)\n",
        "\n",
        "    plt.show()"
      ]
    },
    {
      "attachments": {},
      "cell_type": "markdown",
      "metadata": {},
      "source": [
        "### Пример 1: "
      ]
    },
    {
      "cell_type": "code",
      "execution_count": null,
      "metadata": {},
      "outputs": [],
      "source": [
        "fileprefix = 'b_f1_'\n",
        "\n",
        "counter = 0\n",
        "def f(x):\n",
        "    global counter\n",
        "    counter += 1\n",
        "    return x[0] ** 2 + x[1] ** 2\n",
        "\n",
        "x = np.linspace(-50, 50, 120)\n",
        "y = np.linspace(-75, 75, 120)\n",
        "X, Y = np.meshgrid(x, y)\n",
        "x0 = np.array([35, 50], dtype=float)\n",
        "\n",
        "init()\n",
        "line_search_and_constant_research_step_size(0, 1e-3, max_iter=1000, filename=filepath + fileprefix + 'line_search_and_constant_research_step_size')"
      ]
    },
    {
      "attachments": {},
      "cell_type": "markdown",
      "metadata": {},
      "source": [
        "### Пример 2: "
      ]
    },
    {
      "cell_type": "code",
      "execution_count": null,
      "metadata": {},
      "outputs": [],
      "source": [
        "fileprefix = 'b_f2_'\n",
        "\n",
        "counter = 0\n",
        "def f(x):\n",
        "    global counter\n",
        "    counter += 1\n",
        "    A = np.array([[0.7464451039232642, 1.0905399322509766], [-0.45261597812262555, 0.5415655721418664]])\n",
        "    return (x.dot(A)).dot(x.T)\n",
        "\n",
        "x = np.linspace(-50, 50, 120)\n",
        "y = np.linspace(-75, 75, 120)\n",
        "X, Y = np.meshgrid(x, y)\n",
        "x0 = np.array([50, -75], dtype=float)\n",
        "\n",
        "init()\n",
        "line_search_and_constant_research_step_size(0, 1e-3, max_iter=1000, filename=filepath + fileprefix + 'line_search_and_constant_research_step_size')"
      ]
    },
    {
      "attachments": {},
      "cell_type": "markdown",
      "metadata": {},
      "source": [
        "## (c) исследуйте работу методов в зависимости от выбора начальной точки;"
      ]
    },
    {
      "cell_type": "code",
      "execution_count": null,
      "metadata": {},
      "outputs": [],
      "source": [
        "def get_count_step_constant(x, y):\n",
        "    global f\n",
        "    global x0\n",
        "    x0 = np.array([x, y])\n",
        "    return len(gradient_descent_constant(f, x0, lr=0.05, num_iterations=1000, minimum=0, apply_min=True))\n",
        "\n",
        "def get_count_step_dichotomy(x, y):\n",
        "    global f\n",
        "    global x0\n",
        "    x0 = np.array([x, y])\n",
        "    return len(gradient_descent_dichotomy(f, x0, step_size=0.5, num_iterations=1000, minimum=0, apply_min=True))"
      ]
    },
    {
      "attachments": {},
      "cell_type": "markdown",
      "metadata": {},
      "source": [
        "### Пример 1:"
      ]
    },
    {
      "cell_type": "code",
      "execution_count": null,
      "metadata": {},
      "outputs": [],
      "source": [
        "fileprefix = 'c_f1_'\n",
        "\n",
        "def f(x):\n",
        "    return x[0] ** 2 + x[1] ** 2\n",
        "\n",
        "x = np.linspace(-75, 75, 120)\n",
        "y = np.linspace(-75, 75, 120)\n",
        "X, Y = np.meshgrid(x, y)\n",
        "\n",
        "Z = np.vectorize(get_count_step_constant)(X, Y)\n",
        "print_full_grad([], [], title='', elev=30, azim=-14, filename=filepath + fileprefix + 'constant')\n",
        "Z = np.vectorize(get_count_step_dichotomy)(X, Y)\n",
        "print_full_grad([], [], title='', elev=30, azim=-14, filename=filepath + fileprefix + 'dichotomy')"
      ]
    },
    {
      "attachments": {},
      "cell_type": "markdown",
      "metadata": {},
      "source": [
        "### Пример 2:"
      ]
    },
    {
      "cell_type": "code",
      "execution_count": null,
      "metadata": {},
      "outputs": [],
      "source": [
        "fileprefix = 'c_f2_'\n",
        "\n",
        "def f(x):\n",
        "\tA = np.array([[0.7464451039232642, 1.0905399322509766], [-0.45261597812262555, 0.5415655721418664]])\n",
        "\treturn (x.dot(A)).dot(x.T)\n",
        "\n",
        "x = np.linspace(-50, 50, 20)\n",
        "y = np.linspace(-75, 75, 20)\n",
        "X, Y = np.meshgrid(x, y)\n",
        "\n",
        "Z = np.vectorize(get_count_step_constant)(X, Y)\n",
        "print_full_grad([], [], title='', elev=30, azim=-14, filename=filepath + fileprefix + 'constant')\n",
        "Z = np.vectorize(get_count_step_dichotomy)(X, Y)\n",
        "print_full_grad([], [], title='', elev=30, azim=-14, filename=filepath + fileprefix + 'dichotomy')"
      ]
    },
    {
      "attachments": {},
      "cell_type": "markdown",
      "metadata": {},
      "source": [
        "## (e) в каждом случае нарисуйте графики с линиями уровня и траекториями методов;"
      ]
    },
    {
      "attachments": {},
      "cell_type": "markdown",
      "metadata": {},
      "source": [
        "### Пример 1:"
      ]
    },
    {
      "cell_type": "code",
      "execution_count": null,
      "metadata": {},
      "outputs": [],
      "source": [
        "fileprefix = 'e_f1_'\n",
        "\n",
        "def f(x):\n",
        "    return x[0] ** 2 + x[1] ** 2\n",
        "\n",
        "x = np.linspace(-50, 50, 120)\n",
        "y = np.linspace(-75, 75, 120)\n",
        "X, Y = np.meshgrid(x, y)\n",
        "x0 = np.array([35, 50], dtype=float)\n",
        "\n",
        "init()\n",
        "\n",
        "\n",
        "num_iter = 60\n",
        "result = [gradient_descent_constant(f, x0, lr=1, num_iterations=num_iter),\n",
        "          gradient_descent_dichotomy(f, x0, step_size=1, num_iterations=num_iter)]\n",
        "result_label = ['constant', 'dichotomy']\n",
        "\n",
        "print_lines_grad(result, result_label, title='', filename=filepath + fileprefix + '_'.join(result_label))"
      ]
    },
    {
      "attachments": {},
      "cell_type": "markdown",
      "metadata": {},
      "source": [
        "### Пример 2:"
      ]
    },
    {
      "cell_type": "code",
      "execution_count": null,
      "metadata": {},
      "outputs": [],
      "source": [
        "fileprefix = 'e_f2_'\n",
        "\n",
        "def f(x):\n",
        "\tA = np.array([[0.7464451039232642, 1.0905399322509766], [-0.45261597812262555, 0.5415655721418664]])\n",
        "\treturn (x.dot(A)).dot(x.T)\n",
        "\n",
        "x = np.linspace(-50, 50, 120)\n",
        "y = np.linspace(-75, 75, 120)\n",
        "X, Y = np.meshgrid(x, y)\n",
        "x0 = np.array([50, -75], dtype=float)\n",
        "\n",
        "init()\n",
        "\n",
        "\n",
        "num_iter = 100\n",
        "result = [gradient_descent_constant(f, x0, lr=0.2, num_iterations=num_iter),\n",
        "          gradient_descent_dichotomy(f, x0, step_size=1, num_iterations=num_iter)]\n",
        "result_label = ['constant', 'dichotomy']\n",
        "\n",
        "print_lines_grad(result, result_label, title='', filename=filepath + fileprefix + '_'.join(result_label))"
      ]
    },
    {
      "cell_type": "markdown",
      "metadata": {
        "id": "YJ0EQ7u4OuIr"
      },
      "source": [
        "# 5. Реализуйте генератор случайных квадратичных функций $n$ переменных с числом обусловленности $k$."
      ]
    },
    {
      "cell_type": "markdown",
      "metadata": {
        "id": "Gc5B8pSVnDCG"
      },
      "source": [
        "# Test"
      ]
    },
    {
      "cell_type": "code",
      "execution_count": null,
      "metadata": {
        "colab": {
          "base_uri": "https://localhost:8080/",
          "height": 635
        },
        "id": "Uo6ghBq6nBDD",
        "outputId": "d752564f-fd1f-47e4-8994-c4c1a040c8dd"
      },
      "outputs": [],
      "source": [
        "def f(x):\n",
        "    return x[0] ** 2 + x[1] ** 2\n",
        "\n",
        "x = np.linspace(-50, 50, 120)\n",
        "y = np.linspace(-100, 100, 120)\n",
        "X, Y = np.meshgrid(x, y)\n",
        "x0 = np.array([25, -50], dtype=float)\n",
        "\n",
        "init()\n",
        "\n",
        "print_f(azim=20)\n",
        "# print_f_animated(delta=1)"
      ]
    },
    {
      "cell_type": "code",
      "execution_count": null,
      "metadata": {
        "id": "BMpoydmqKMXG"
      },
      "outputs": [],
      "source": [
        "num_iter = 1000;\n",
        "\n",
        "result = [gradient_descent_constant(f, x0, lr=.5, num_iterations=num_iter),\n",
        "          gradient_descent_dichotomy(f, x0, step_size=1, num_iterations=num_iter),\n",
        "          gradient_descent_golden_section(f, x0, step_size=1, num_iterations=num_iter),\n",
        "          gradient_descent_fibonacci(f, x0, step_size=1, num_iterations=num_iter)]\n",
        "result_label = ['constant', 'dichotomy', 'golden_section', 'fibonacci']"
      ]
    },
    {
      "cell_type": "code",
      "execution_count": null,
      "metadata": {
        "colab": {
          "base_uri": "https://localhost:8080/",
          "height": 709
        },
        "id": "kIyrXJVUOMoV",
        "outputId": "ac44d17c-d8f0-44fb-9d9a-a0cb735b3d37"
      },
      "outputs": [],
      "source": [
        "print_full_grad(result, result_label, azim=10)\n",
        "# print_full_grad_animated(result, result_label, interval=100, frames=100, azim=200)"
      ]
    },
    {
      "cell_type": "code",
      "execution_count": null,
      "metadata": {
        "colab": {
          "base_uri": "https://localhost:8080/",
          "height": 711
        },
        "id": "CR5TuXkhOuIs",
        "outputId": "152fcb8b-909a-44f3-c701-7d168efe3ec6"
      },
      "outputs": [],
      "source": [
        "print_lines_grad(result, result_label)\n",
        "# print_lines_grad_animated(result, result_label, interval=100, frames=100)"
      ]
    }
  ],
  "metadata": {
    "colab": {
      "collapsed_sections": [
        "6DqRFWzVdK8W"
      ],
      "provenance": []
    },
    "kernelspec": {
      "display_name": "Python 3",
      "language": "python",
      "name": "python3"
    },
    "language_info": {
      "codemirror_mode": {
        "name": "ipython",
        "version": 3
      },
      "file_extension": ".py",
      "mimetype": "text/x-python",
      "name": "python",
      "nbconvert_exporter": "python",
      "pygments_lexer": "ipython3",
      "version": "3.10.6"
    },
    "vscode": {
      "interpreter": {
        "hash": "0c106e3956619c8654ce5e0562294058212cdd15b4527d78baaf335d52767e29"
      }
    }
  },
  "nbformat": 4,
  "nbformat_minor": 0
}
