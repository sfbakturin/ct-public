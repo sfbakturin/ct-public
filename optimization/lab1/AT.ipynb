{
 "cells": [
  {
   "attachments": {},
   "cell_type": "markdown",
   "metadata": {},
   "source": [
    "# Дополнительное задание\n",
    "\n",
    "Реализуйте одномерный поиск с учетом условий Вольфе и исследуйте его эффективность. Сравните полученные результаты с реализованными ранее методами."
   ]
  },
  {
   "attachments": {},
   "cell_type": "markdown",
   "metadata": {},
   "source": [
    "## Инициализация"
   ]
  },
  {
   "attachments": {},
   "cell_type": "markdown",
   "metadata": {},
   "source": [
    "### Импорт библиотек"
   ]
  },
  {
   "cell_type": "code",
   "execution_count": null,
   "metadata": {},
   "outputs": [],
   "source": [
    "# Для анимаций\n",
    "from matplotlib import rc\n",
    "rc('animation', html='jshtml')\n",
    "from matplotlib.animation import FuncAnimation\n",
    "\n",
    "# Для больших анимаций\n",
    "import matplotlib as mpl\n",
    "mpl.rcParams['animation.embed_limit'] = 1000.0 \n",
    "\n",
    "# Для графиков и прочего\n",
    "import numpy as np\n",
    "import scipy\n",
    "from matplotlib import cm\n",
    "import matplotlib.pyplot as plt\n",
    "import math\n",
    "import pandas as pd\n",
    "\n",
    "# Для корректного отображения \n",
    "%matplotlib inline\n",
    "plt.style.use('fivethirtyeight')\n",
    "\n",
    "# Для таблиц\n",
    "import csv \n",
    "\n",
    "# Для работы с файлами\n",
    "import os, sys\n",
    "\n",
    "# Для progress bar\n",
    "from tqdm import tqdm"
   ]
  },
  {
   "attachments": {},
   "cell_type": "markdown",
   "metadata": {},
   "source": [
    "### Градиент"
   ]
  },
  {
   "cell_type": "code",
   "execution_count": null,
   "metadata": {},
   "outputs": [],
   "source": [
    "def grad(f, x, delta=1e-9):\n",
    "    \"\"\"\n",
    "    Функция вычисления градиента в заданной точке с константной точностью\n",
    "\n",
    "    Аргументы:\n",
    "    f -- функция\n",
    "    x -- точка\n",
    "\n",
    "    Возвращает:\n",
    "    ans -- градиент функции в точке x\n",
    "    \"\"\"\n",
    "\n",
    "    n = len(x)\n",
    "    xd = np.copy(x)\n",
    "    ans = np.zeros(n)\n",
    "\n",
    "    for i in range(n):\n",
    "        xd[i] += delta\n",
    "        ans[i] = np.divide(f(xd) - f(x), delta)\n",
    "        xd[i] -= delta\n",
    "\n",
    "    return ans"
   ]
  },
  {
   "attachments": {},
   "cell_type": "markdown",
   "metadata": {},
   "source": [
    "### Генерация квадратичной функции из пятого задания"
   ]
  },
  {
   "cell_type": "code",
   "execution_count": null,
   "metadata": {},
   "outputs": [],
   "source": [
    "def generate_random_matrix_simple(n, k, eps):\n",
    "    # eps -- неиспользуемое значение, необходимо для соответствия другим функциям генераторам\n",
    "    A = np.zeros((n, n))\n",
    "    A[0,0] = np.random.uniform(low=1, high=2)\n",
    "    A[n-1, n-1] = A[0,0] / k\n",
    "\n",
    "    for i in range(0, n-2):\n",
    "        A[i, i] = np.random.uniform(low=A[0,0], high=A[n-1, n-1])\n",
    "\n",
    "    return A\n",
    "\n",
    "# облегченная версия generate_random_matrix_simple\n",
    "def generate_random_vector_simple(n, k):\n",
    "    global v\n",
    "    v = np.zeros((n))\n",
    "    v[0] = np.random.uniform(low=1, high=2)\n",
    "    v[n-1] = v[0] / k\n",
    "\n",
    "    for i in range(0, n-2):\n",
    "        v[i] = np.random.uniform(low=v[0], high=v[n-1])\n",
    "\n",
    "    return v\n",
    "\n",
    "def generate_quadratic_function_simple(n, k):\n",
    "    # Генерируем случайную матрицу размера n x n, и числом обусловленности k\n",
    "    v = generate_random_vector_simple(n, k)\n",
    "\n",
    "    # Определяем квадратичную функцию f(x) = x * A * x^T\n",
    "    def f(x):\n",
    "        return sum([v[i]*(x[i]**2) for i in range(len(v))])\n",
    "    \n",
    "    return f"
   ]
  },
  {
   "attachments": {},
   "cell_type": "markdown",
   "metadata": {},
   "source": [
    "### Отрисовка пространства"
   ]
  },
  {
   "cell_type": "code",
   "execution_count": null,
   "metadata": {},
   "outputs": [],
   "source": [
    "def init():\n",
    "    global X, Y, Z, f, x0\n",
    "    Z = np.vectorize(lambda x, y: f(np.array([x, y])))(X, Y)"
   ]
  },
  {
   "attachments": {},
   "cell_type": "markdown",
   "metadata": {},
   "source": [
    "### 3D визуализация функции"
   ]
  },
  {
   "cell_type": "code",
   "execution_count": null,
   "metadata": {},
   "outputs": [],
   "source": [
    "def print_f(elev=30, azim=60):\n",
    "  # Создание фигуры и трехмерной оси\n",
    "  fig = plt.figure(figsize=(10, 10))\n",
    "  ax = fig.add_subplot(111, projection='3d')\n",
    "\n",
    "  # Установка угол обзора\n",
    "  ax.view_init(elev=elev, azim=azim)\n",
    "\n",
    "  # Построение поверхности\n",
    "  ax.plot_surface(X, Y, Z)\n",
    "\n",
    "  # Построение начальной точки\n",
    "  ax.plot(x0[0], x0[1], f(x0), 'ro', label='Начальная точка')\n",
    "\n",
    "  # Установка отступа между графиком и значениями осей\n",
    "  ax.tick_params(pad=10)\n",
    "\n",
    "  # Добавление легенды\n",
    "  plt.legend(loc='upper left')\n",
    "\n",
    "  # Установка размера шрифта для подписей осей\n",
    "  ax.tick_params(axis='x', labelsize=10)\n",
    "  ax.tick_params(axis='y', labelsize=10)\n",
    "  ax.tick_params(axis='z', labelsize=10)\n",
    "\n",
    "  # Добавление заголовка и подписей осей\n",
    "  plt.title('График функции с начальной точкой')\n",
    "  ax.set_xlabel('Ось X', labelpad=20.0)\n",
    "  ax.set_ylabel('Ось Y', labelpad=20.0)\n",
    "  ax.set_zlabel('Ось f(x, y)', labelpad=20.0)\n",
    "\n",
    "  # Отображение графика\n",
    "  plt.show()"
   ]
  },
  {
   "attachments": {},
   "cell_type": "markdown",
   "metadata": {},
   "source": [
    "### Линии уровня и градиент"
   ]
  },
  {
   "cell_type": "code",
   "execution_count": null,
   "metadata": {},
   "outputs": [],
   "source": [
    "def print_lines_grad(list_result, list_label, title='Градиентный спуск на уровнях функции', filename='', filename_extension='.png', dpi=1024):\n",
    "  fig = plt.figure(figsize=(10, 10))\n",
    "  ax = fig.add_subplot(111)\n",
    "\n",
    "  for i in range(len(list_result)):\n",
    "    levels=np.unique(np.sort(f(list_result[i])))\n",
    "    ax.contour(X, Y, Z, levels=levels, colors='red', antialiased=True, linewidths=1.0)\n",
    "\n",
    "  for i in range(len(list_result)):\n",
    "    x = list_result[i][:, 0]\n",
    "    y = list_result[i][:, 1]\n",
    "    ax.plot(x, y, marker='.', markersize=10, markerfacecolor='black', label=list_label[i], linewidth = 2)\n",
    "    print(f'{list_label[i]:15} ==> {f(list_result[i][-1]):10f} in [{list_result[i][-1][0]:10f}, {list_result[i][-1][1]:10f}]')\n",
    "    \n",
    "  # Добавление легенды\n",
    "  if len(list_label) > 0:\n",
    "    plt.legend(loc='upper left')\n",
    "\n",
    "  if(filename != ''):\n",
    "    plt.savefig(filename + filename_extension, dpi=dpi, bbox_inches=0, transparent=True)    \n",
    "\n",
    "  plt.show()"
   ]
  },
  {
   "attachments": {},
   "cell_type": "markdown",
   "metadata": {},
   "source": [
    "### 3D визуализация градиента"
   ]
  },
  {
   "cell_type": "code",
   "execution_count": null,
   "metadata": {},
   "outputs": [],
   "source": [
    "def print_full_grad(list_result, list_label, title='Градиентный спуск на графике функции', elev = 30, azim = 80, filename='', filename_extension='.png', dpi=1024):\n",
    "  fig = plt.figure(figsize=(10, 10))\n",
    "  ax = fig.add_subplot(projection='3d')\n",
    "\n",
    "  for i in range(len(list_result)):\n",
    "    x = list_result[i][:, 0]\n",
    "    y = list_result[i][:, 1]\n",
    "    z = np.vectorize(lambda x, y: f(np.array([x, y])))(x, y)\n",
    "    ax.plot(x, y, marker='.', markersize=10, markerfacecolor='black', zs=z, label=list_label[i], linewidth = 2)\n",
    "    print(f'{list_label[i]:15} ==> {f(list_result[i][-1]):10f} in [{list_result[i][-1][0]:10f}, {list_result[i][-1][1]:10f}]')\n",
    "    \n",
    "  ax.plot_surface(X, Y, Z, cmap=cm.coolwarm)\n",
    "  ax.view_init(elev=elev, azim=azim)\n",
    "  \n",
    "  # Установка отступа между графиком и значениями осей\n",
    "  ax.tick_params(pad=10)\n",
    "\n",
    "  # Добавление легенды\n",
    "  if len(list_label) > 0:\n",
    "    ax.legend(loc='upper left')\n",
    "\n",
    "  # Установка размера шрифта для подписей осей\n",
    "  ax.tick_params(axis='x', labelsize=10)\n",
    "  ax.tick_params(axis='y', labelsize=10)\n",
    "  ax.tick_params(axis='z', labelsize=10)\n",
    "\n",
    "  # Добавление заголовка и подписей осей\n",
    "  if title != '':\n",
    "    plt.title(title)\n",
    "  \n",
    "  ax.set_xlabel('Ось X', labelpad=20.0)\n",
    "  ax.set_ylabel('Ось Y', labelpad=20.0)\n",
    "  ax.set_zlabel('Ось f(x, y)', labelpad=20.0)\n",
    "\n",
    "\n",
    "  if(filename != ''):\n",
    "    plt.savefig(filename + filename_extension, dpi=dpi, bbox_inches=0, transparent=True)\n",
    "\n",
    "  plt.show()"
   ]
  },
  {
   "attachments": {},
   "cell_type": "markdown",
   "metadata": {},
   "source": [
    "### Вывод данных в виде `.csv`"
   ]
  },
  {
   "cell_type": "code",
   "execution_count": null,
   "metadata": {},
   "outputs": [],
   "source": [
    "def save_result_table(result, filename, sp='%g', fields=[], generate_fields=False):\n",
    "    with open(filename, 'w') as csvfile:  \n",
    "        # создание объекта witer csv\n",
    "        csvwriter = csv.writer(csvfile, quoting=csv.QUOTE_NONE)  \n",
    "            \n",
    "        if generate_fields:\n",
    "            if len(result[0]) == 1:\n",
    "                fields = ['X']\n",
    "            elif len(result[0]) == 2:\n",
    "                fields = ['X', 'Y']\n",
    "            else:\n",
    "                fields = [f\"X[{i}]\" for i in range(len(result[0]))]\n",
    "            fields.append('F')\n",
    "\n",
    "        # запись шапки\n",
    "        if len(fields) > 0:\n",
    "            csvwriter.writerow(fields)  \n",
    "            \n",
    "        # запись данных \n",
    "        data = np.insert(result, len(result[0]), [f(x) for x in result], axis=1)\n",
    "        formatted_data = [[sp % x for x in row] for row in data]\n",
    "        csvwriter.writerows(formatted_data)"
   ]
  },
  {
   "cell_type": "code",
   "execution_count": null,
   "metadata": {},
   "outputs": [],
   "source": [
    "def save_result(list_result, list_label, filepath='', sp='%g', fields=[], generate_fields=True):\n",
    "    for i in range(len(list_result)):\n",
    "        save_result_table(list_result[i], filepath + '.csv', sp, fields, generate_fields)"
   ]
  },
  {
   "attachments": {},
   "cell_type": "markdown",
   "metadata": {},
   "source": [
    "## Решение задания"
   ]
  },
  {
   "attachments": {},
   "cell_type": "markdown",
   "metadata": {},
   "source": [
    "### Функция градиентного спуска с условием Вольфе"
   ]
  },
  {
   "cell_type": "code",
   "execution_count": null,
   "metadata": {},
   "outputs": [],
   "source": [
    "def less_or_equal(lhs, rhs):\n",
    "    return lhs < rhs or math.isclose(lhs, rhs)\n",
    "\n",
    "def wolfe_line_search(f, x_init, d, alpha=1.0, c1=1e-4, c2=0.9, max_iter=150, eps=1e-9):\n",
    "    def armijo(alpha):\n",
    "        left = f(x_init + alpha * d)\n",
    "        right = f(x_init) + c1 * alpha * np.dot(grad(f, x_init), d)\n",
    "\n",
    "        return less_or_equal(left, right)\n",
    "    \n",
    "    def curvature(alpha):\n",
    "        left = np.dot(grad(f, x_init + alpha * d), d)\n",
    "        right = c2 * np.dot(grad(f, x_init), d)\n",
    "\n",
    "        return less_or_equal(right, left)\n",
    "\n",
    "    iter_count = 0\n",
    "    alpha_low = 0.\n",
    "    alpha_high = np.inf\n",
    "    alpha_prev = 0\n",
    "    alpha_cur = alpha\n",
    "    \n",
    "    while iter_count < max_iter:\n",
    "        if not armijo(alpha_cur):\n",
    "            alpha_high = alpha_cur\n",
    "            alpha_cur = (alpha_low + alpha_high) * 0.5\n",
    "        elif not curvature(alpha_cur):\n",
    "            alpha_low = alpha_cur\n",
    "            if np.isinf(alpha_high):\n",
    "                alpha_cur = 2 * alpha_low\n",
    "            else:\n",
    "                alpha_cur = (alpha_low + alpha_high) * 0.5\n",
    "        else:\n",
    "            return alpha_cur\n",
    "        \n",
    "        if np.abs(alpha_cur - alpha_prev) < 1e-6:\n",
    "            break\n",
    "        \n",
    "        alpha_prev = alpha_cur\n",
    "        iter_count += 1\n",
    "\n",
    "    return alpha_cur\n",
    "\n",
    "\n",
    "def gradient_descent_wolfe(f, x_init, alpha=1, beta1=0.1, beta2=0.5, eps=1e-4, num_iterations=1000):\n",
    "    x_cur = x_init\n",
    "    x_hist = [x_cur]\n",
    "\n",
    "    for i in range(num_iterations):\n",
    "        d = grad(f, x_cur)\n",
    "        alpha = wolfe_line_search(f, x_cur, -d)\n",
    "\n",
    "        x_new = x_cur - alpha * d\n",
    "        x_hist.append(x_new)\n",
    "    \n",
    "        if np.linalg.norm(d) < eps:\n",
    "            break\n",
    "    \n",
    "        x_cur = x_new\n",
    "\n",
    "    return np.array(x_hist)"
   ]
  },
  {
   "attachments": {},
   "cell_type": "markdown",
   "metadata": {},
   "source": [
    "### Инициализация констант"
   ]
  },
  {
   "attachments": {},
   "cell_type": "markdown",
   "metadata": {},
   "source": [
    "#### Технические константы"
   ]
  },
  {
   "cell_type": "code",
   "execution_count": null,
   "metadata": {},
   "outputs": [],
   "source": [
    "PATH_IMAGE = 'Image' + os.sep\n",
    "PATH_HQ = 'HQ' + os.sep\n",
    "PATH_DATA = 'Data' + os.sep\n",
    "CNST_DPI_IMAGE = 256\n",
    "CNST_DPI_HQ = 1024"
   ]
  },
  {
   "attachments": {},
   "cell_type": "markdown",
   "metadata": {},
   "source": [
    "#### Константы задания"
   ]
  },
  {
   "cell_type": "code",
   "execution_count": null,
   "metadata": {},
   "outputs": [],
   "source": [
    "FILE_PREFIX = 'T8_'"
   ]
  },
  {
   "attachments": {},
   "cell_type": "markdown",
   "metadata": {},
   "source": [
    "### Пример с параболоидом"
   ]
  },
  {
   "cell_type": "code",
   "execution_count": null,
   "metadata": {},
   "outputs": [],
   "source": [
    "def f(x):\n",
    "    return x[0] ** 2 + x[1] ** 2\n",
    "\n",
    "xl = np.linspace(-70, 70, 120)\n",
    "yl = np.linspace(-70, 70, 120)\n",
    "X, Y = np.meshgrid(xl, yl)\n",
    "Z = f(np.stack((X, Y)))\n",
    "\n",
    "x_init = np.array([-40, 50], dtype=float)\n",
    "num_iter = 100\n",
    "\n",
    "result = [gradient_descent_wolfe(f, x_init, num_iterations=num_iter)]\n",
    "result_label = ['wolfe']\n",
    "\n",
    "print(result[-1], f(result[-1]))\n",
    "\n",
    "print_lines_grad(result, result_label, title = '', filename = PATH_IMAGE + FILE_PREFIX + 'F1' + '_' + 'LINES', dpi = CNST_DPI_IMAGE)\n",
    "print_lines_grad(result, result_label, title = '', filename = PATH_HQ + FILE_PREFIX + 'F1' + '_' + 'LINES' + '_' + 'HQ', dpi = CNST_DPI_HQ)\n",
    "print_full_grad(result, result_label, title = '', filename = PATH_IMAGE + FILE_PREFIX + 'F1', dpi = CNST_DPI_IMAGE)\n",
    "print_full_grad(result, result_label, title = '', filename = PATH_HQ + FILE_PREFIX + 'F1' + '_' + 'HQ', dpi = CNST_DPI_HQ)"
   ]
  }
 ],
 "metadata": {
  "kernelspec": {
   "display_name": "Python 3",
   "language": "python",
   "name": "python3"
  },
  "language_info": {
   "codemirror_mode": {
    "name": "ipython",
    "version": 3
   },
   "file_extension": ".py",
   "mimetype": "text/x-python",
   "name": "python",
   "nbconvert_exporter": "python",
   "pygments_lexer": "ipython3",
   "version": "3.11.1"
  },
  "orig_nbformat": 4,
  "vscode": {
   "interpreter": {
    "hash": "0c106e3956619c8654ce5e0562294058212cdd15b4527d78baaf335d52767e29"
   }
  }
 },
 "nbformat": 4,
 "nbformat_minor": 2
}
