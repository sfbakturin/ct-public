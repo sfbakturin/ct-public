{
 "cells": [
  {
   "attachments": {},
   "cell_type": "markdown",
   "metadata": {},
   "source": [
    "# Задание 4\n",
    "\n",
    "Для каждой функции:\n",
    "\n",
    "* исследуйте сходимость градиентного спуска с постоянным шагом, сравните полученные результаты для выбранных функций;\n",
    "* сравните эффективность градиентного спуска с использованием одномерного поиска с точки зрения количества вычислений минимизируемой функции и ее градиентов;\n",
    "* исследуйте работу методов в зависимости от выбора начальной точки;\n",
    "* исследуйте влияние нормализации (scaling) на сходимость на примере масштабирования осей плохо обусловленной функции;\n",
    "* в каждом случае нарисуйте графики с линиями уровня и траекториями методов;"
   ]
  },
  {
   "cell_type": "markdown",
   "metadata": {},
   "source": [
    "## Инициализация"
   ]
  },
  {
   "cell_type": "markdown",
   "metadata": {},
   "source": [
    "### Импорт библиотек"
   ]
  },
  {
   "cell_type": "code",
   "execution_count": null,
   "metadata": {},
   "outputs": [],
   "source": [
    "# Для графиков и прочего\n",
    "import numpy as np\n",
    "from matplotlib import cm\n",
    "import matplotlib.pyplot as plt\n",
    "import math\n",
    "from numba import njit, prange\n",
    "\n",
    "# Для таблиц\n",
    "import csv \n",
    "\n",
    "# Для работы с файлами\n",
    "import os\n",
    "\n",
    "# Для progress bar\n",
    "from tqdm import tqdm\n",
    "\n",
    "%matplotlib inline\n",
    "plt.style.use('fivethirtyeight')"
   ]
  },
  {
   "cell_type": "markdown",
   "metadata": {},
   "source": [
    "### Градиент"
   ]
  },
  {
   "cell_type": "code",
   "execution_count": null,
   "metadata": {},
   "outputs": [],
   "source": [
    "def grad(f, x, delta=1e-9):\n",
    "    \"\"\"\n",
    "    Функция вычисления градиента в заданной точке с константной точностью.\n",
    "\n",
    "    Аргументы:\n",
    "    f -- функция\n",
    "    x -- точка\n",
    "\n",
    "    Возвращает:\n",
    "    ans -- градиент функции в точке x\n",
    "    \"\"\"\n",
    "\n",
    "    n = len(x)\n",
    "    xd = np.copy(x)\n",
    "    ans = np.zeros(n)\n",
    "\n",
    "    for i in range(n):\n",
    "        xd[i] += delta\n",
    "        ans[i] = np.divide(f(xd) - f(x), delta)\n",
    "        xd[i] -= delta\n",
    "\n",
    "    return ans"
   ]
  },
  {
   "cell_type": "markdown",
   "metadata": {},
   "source": [
    "### Градиентный спуск"
   ]
  },
  {
   "cell_type": "code",
   "execution_count": null,
   "metadata": {},
   "outputs": [],
   "source": [
    "def gradient_descent(f, x0, lr_search_func, num_iterations = 1000, eps = 1e-6, step_size = 1, minimum = 0, apply_min = False):\n",
    "    \"\"\"\n",
    "    Функция вычисления градиентного спуска c заданной функцией поиска коэффициента обучения.\n",
    "\n",
    "    Аргументы:\n",
    "    f -- функция\n",
    "    x0 -- начальная точка\n",
    "    ----------------------------------------------------------------------------\n",
    "    lr_search_func -- функция поиска оптимального коэффициента обучения (learning rate)\n",
    "        Аргументы:\n",
    "        f -- функция\n",
    "        a -- левая граница интервала\n",
    "        b -- правая граница интервала\n",
    "        eps -- точность поиска\n",
    "\n",
    "        Возвращает:\n",
    "        x -- точка минимума функции\n",
    "    ----------------------------------------------------------------------------\n",
    "    eps -- точность поиска\n",
    "    num_iterations -- количество итераций\n",
    "    step_size -- размер шага\n",
    "\n",
    "    Возвращает:\n",
    "    points -- массив оптимальных на каждом шаге точек\n",
    "    \"\"\"\n",
    "    def lineSearch(x, d):\n",
    "        fd = lambda alpha: f(x - alpha*d)\n",
    "        alpha = lr_search_func(fd, 0, 1, eps)\n",
    "        return alpha\n",
    "\n",
    "    x = np.copy(x0)\n",
    "    points = np.array([x])\n",
    "    for i in range(num_iterations):\n",
    "        if apply_min and abs(f(x) - minimum) < eps:\n",
    "            break\n",
    "\n",
    "        grad_x = grad(f, x);\n",
    "        x = x - grad_x * lineSearch(x, grad_x) * step_size\n",
    "        points = np.vstack([points, x])\n",
    "    return points\n",
    "\n",
    "def dichotomy_search(f, a, b, eps=1e-6):\n",
    "    \"\"\"\n",
    "    Метод дихотомии для поиска минимума функции f на интервале [a,b] с точностью eps\n",
    "\n",
    "    Аргументы:\n",
    "    f -- функция\n",
    "    a -- начальная точка интервала\n",
    "    b -- конечная точка интервала\n",
    "    eps -- точность поиска\n",
    "\n",
    "    Возвращает:\n",
    "    x -- точка минимума функции\n",
    "    \"\"\"\n",
    "    while b - a > eps:\n",
    "        c = (a + b) / 2\n",
    "        if f(c - eps) < f(c + eps):\n",
    "            b = c\n",
    "        else:\n",
    "            a = c\n",
    "    return (a + b) / 2\n",
    "\n",
    "def gradient_descent_constant(f, x0, lr=0.01, num_iterations=1000, minimum=0, apply_min=False, eps=1e-6):\n",
    "    \"\"\"\n",
    "    Градиентный спуск с постоянным шагом.\n",
    "\n",
    "    Аргументы:\n",
    "    f -- функция\n",
    "    x0 -- начальная точка\n",
    "    lr -- постоянный коэффициент обучения (learning rate)\n",
    "    num_iterations -- количество итераций\n",
    "\n",
    "    Возвращает:\n",
    "    gradient_descent(...)\n",
    "    \"\"\"\n",
    "    def const_lr(f, a, b, eps=1e-6):\n",
    "        return lr\n",
    "    \n",
    "    return gradient_descent(f, x0, const_lr, num_iterations, minimum=minimum, apply_min=apply_min, eps=eps)\n",
    "\n",
    "def gradient_descent_dichotomy(f, x0, num_iterations=1000, eps=1e-6, step_size=0.01, minimum=0, apply_min=False):\n",
    "    \"\"\"\n",
    "    Градиентный спуск на основе метода дихотомии\n",
    "\n",
    "    Аргументы:\n",
    "    f -- функция\n",
    "    x0 -- начальная точка\n",
    "    num_iterations -- количество итераций\n",
    "    eps -- точность поиска\n",
    "    step_size -- размер шага\n",
    "    \n",
    "    Возвращает:\n",
    "    gradient_descent(...)\n",
    "    \"\"\"\n",
    "\n",
    "    return gradient_descent(f, x0, dichotomy_search, num_iterations, eps, step_size, minimum=minimum, apply_min=apply_min)"
   ]
  },
  {
   "cell_type": "markdown",
   "metadata": {},
   "source": [
    "### 3D визуализация функции"
   ]
  },
  {
   "cell_type": "code",
   "execution_count": null,
   "metadata": {},
   "outputs": [],
   "source": [
    "def print_f(elev=30, azim=60):\n",
    "  # Создание фигуры и трехмерной оси\n",
    "  fig = plt.figure(figsize=(10, 10))\n",
    "  ax = fig.add_subplot(111, projection='3d')\n",
    "\n",
    "  # Установка угол обзора\n",
    "  ax.view_init(elev=elev, azim=azim)\n",
    "\n",
    "  # Построение поверхности\n",
    "  ax.plot_surface(X, Y, Z)\n",
    "\n",
    "  # Построение начальной точки\n",
    "  ax.plot(x0[0], x0[1], f(x0), 'ro', label='Начальная точка')\n",
    "\n",
    "  # Установка отступа между графиком и значениями осей\n",
    "  ax.tick_params(pad=10)\n",
    "\n",
    "  # Добавление легенды\n",
    "  plt.legend(loc='upper left')\n",
    "\n",
    "  # Установка размера шрифта для подписей осей\n",
    "  ax.tick_params(axis='x', labelsize=10)\n",
    "  ax.tick_params(axis='y', labelsize=10)\n",
    "  ax.tick_params(axis='z', labelsize=10)\n",
    "\n",
    "  # Добавление заголовка и подписей осей\n",
    "  plt.title('График функции c начальной точкой')\n",
    "  ax.set_xlabel('Ось X', labelpad=20.0)\n",
    "  ax.set_ylabel('Ось Y', labelpad=20.0)\n",
    "  ax.set_zlabel('Ось f(x, y)', labelpad=20.0)\n",
    "\n",
    "  # Отображение графика\n",
    "  plt.show()"
   ]
  },
  {
   "cell_type": "markdown",
   "metadata": {},
   "source": [
    "### Линии уровня и градиент"
   ]
  },
  {
   "cell_type": "code",
   "execution_count": null,
   "metadata": {},
   "outputs": [],
   "source": [
    "def print_lines_grad(list_result, list_label, title='Градиентный спуск на уровнях функции', filename='', filename_extension='.png', dpi=1024):\n",
    "  fig = plt.figure(figsize=(10, 10))\n",
    "  ax = fig.add_subplot(111)\n",
    "\n",
    "  for i in range(len(list_result)):\n",
    "    levels=np.unique(sorted([f(p) for p in list_result[i]]))\n",
    "    ax.contour(X, Y, Z, levels=levels, colors='red', antialiased=True, linewidths=1.0)\n",
    "\n",
    "  for i in range(len(list_result)):\n",
    "    x = list_result[i][:, 0]\n",
    "    y = list_result[i][:, 1]\n",
    "    ax.plot(x, y, marker='.', markersize=10, markerfacecolor='black', label=list_label[i], linewidth = 2)\n",
    "    print(f'{list_label[i]:15} ==> {f(list_result[i][-1]):10f} in [{list_result[i][-1][0]:10f}, {list_result[i][-1][1]:10f}]')\n",
    "    \n",
    "  # Добавление легенды\n",
    "  if len(list_label) > 0:\n",
    "    plt.legend(loc='upper left')\n",
    "\n",
    "  if(filename != ''):\n",
    "    plt.savefig(filename + filename_extension, dpi=dpi, bbox_inches=0, transparent=True)    \n",
    "\n",
    "  plt.show()"
   ]
  },
  {
   "cell_type": "markdown",
   "metadata": {},
   "source": [
    "### 3D визуализация градиента"
   ]
  },
  {
   "cell_type": "code",
   "execution_count": null,
   "metadata": {},
   "outputs": [],
   "source": [
    "def print_full_grad(list_result, list_label, title='Градиентный спуск на графике функции', elev = 30, azim = 80, filename='', filename_extension='.png', dpi=1024, isshow=True):\n",
    "  fig = plt.figure(figsize=(10, 10))\n",
    "  ax = fig.add_subplot(projection='3d')\n",
    "\n",
    "  for i in range(len(list_result)):\n",
    "    x = list_result[i][:, 0]\n",
    "    y = list_result[i][:, 1]\n",
    "    z = np.vectorize(lambda x, y: f(np.array([x, y])))(x, y)\n",
    "    ax.plot(x, y, marker='.', markersize=10, markerfacecolor='black', zs=z, label=list_label[i], linewidth = 2)\n",
    "    print(f'{list_label[i]:15} ==> {f(list_result[i][-1]):10f} in [{list_result[i][-1][0]:10f}, {list_result[i][-1][1]:10f}]')\n",
    "    \n",
    "  ax.plot_surface(X, Y, Z, cmap=cm.coolwarm)\n",
    "  ax.view_init(elev=elev, azim=azim)\n",
    "  \n",
    "  # Установка отступа между графиком и значениями осей\n",
    "  ax.tick_params(pad=10)\n",
    "\n",
    "  # Добавление легенды\n",
    "  if len(list_label) > 0:\n",
    "    ax.legend(loc='upper left')\n",
    "\n",
    "  # Установка размера шрифта для подписей осей\n",
    "  ax.tick_params(axis='x', labelsize=10)\n",
    "  ax.tick_params(axis='y', labelsize=10)\n",
    "  ax.tick_params(axis='z', labelsize=10)\n",
    "\n",
    "  # Добавление заголовка и подписей осей\n",
    "  if title != '':\n",
    "    plt.title(title)\n",
    "  \n",
    "  ax.set_xlabel('Ось X', labelpad=20.0)\n",
    "  ax.set_ylabel('Ось Y', labelpad=20.0)\n",
    "  ax.set_zlabel('Ось f(x, y)', labelpad=20.0)\n",
    "\n",
    "\n",
    "  if(filename != ''):\n",
    "    plt.savefig(filename + filename_extension, dpi=dpi, bbox_inches=0, transparent=True)\n",
    "\n",
    "  plt.show()\n"
   ]
  },
  {
   "cell_type": "markdown",
   "metadata": {},
   "source": [
    "### Для отрисовки пространства"
   ]
  },
  {
   "cell_type": "code",
   "execution_count": null,
   "metadata": {},
   "outputs": [],
   "source": [
    "def init():\n",
    "    global X, Y, Z, f, x0\n",
    "    Z = np.vectorize(lambda x, y: f(np.array([x, y])))(X, Y)"
   ]
  },
  {
   "cell_type": "markdown",
   "metadata": {},
   "source": [
    "### Вывод данных в виде `.csv`"
   ]
  },
  {
   "cell_type": "code",
   "execution_count": null,
   "metadata": {},
   "outputs": [],
   "source": [
    "def save_result_table(result, filename, sp='%g', fields=[], generate_fields=False):\n",
    "    with open(filename, 'w') as csvfile:  \n",
    "        # создание объекта witer csv\n",
    "        csvwriter = csv.writer(csvfile, quoting=csv.QUOTE_NONE)  \n",
    "            \n",
    "        if generate_fields:\n",
    "            if len(result[0]) == 1:\n",
    "                fields = ['X']\n",
    "            elif len(result[0]) == 2:\n",
    "                fields = ['X', 'Y']\n",
    "            else:\n",
    "                fields = [f\"X[{i}]\" for i in range(len(result[0]))]\n",
    "            fields.append('F')\n",
    "\n",
    "        # запись шапки\n",
    "        if len(fields) > 0:\n",
    "            csvwriter.writerow(fields)  \n",
    "            \n",
    "        # запись данных \n",
    "        data = np.insert(result, len(result[0]), [f(x) for x in result], axis=1)\n",
    "        formatted_data = [[sp % x for x in row] for row in data]\n",
    "        csvwriter.writerows(formatted_data)"
   ]
  },
  {
   "cell_type": "code",
   "execution_count": null,
   "metadata": {},
   "outputs": [],
   "source": [
    "def save_result(list_result, list_label, filepath='', sp='%g', fields=[], generate_fields=True):\n",
    "    for i in range(len(list_result)):\n",
    "        save_result_table(list_result[i], filepath + '.csv', sp, fields, generate_fields)"
   ]
  },
  {
   "attachments": {},
   "cell_type": "markdown",
   "metadata": {},
   "source": [
    "## Решение задания"
   ]
  },
  {
   "attachments": {},
   "cell_type": "markdown",
   "metadata": {},
   "source": [
    "### Технические константы"
   ]
  },
  {
   "cell_type": "code",
   "execution_count": null,
   "metadata": {},
   "outputs": [],
   "source": [
    "PATH_IMAGE = 'Image' + os.sep\n",
    "PATH_HQ = 'HQ' + os.sep\n",
    "PATH_DATA = 'Data' + os.sep\n",
    "CNST_DPI_IMAGE = 256\n",
    "CNST_DPI_HQ = 1024\n",
    "TASK_PREFIX = 'T4_'"
   ]
  },
  {
   "attachments": {},
   "cell_type": "markdown",
   "metadata": {},
   "source": [
    "### (a) исследуйте сходимость градиентного спуска с постоянным шагом, сравните полученные результаты для выбранных функций;"
   ]
  },
  {
   "attachments": {},
   "cell_type": "markdown",
   "metadata": {},
   "source": [
    "#### Реализация: "
   ]
  },
  {
   "cell_type": "code",
   "execution_count": null,
   "metadata": {},
   "outputs": [],
   "source": [
    "def gradient_descent_constant_with_end_condition(x0, lr, eps, max_iter, minimum):\n",
    "    x = np.copy(x0)\n",
    "    steps = 0\n",
    "\n",
    "    for i in range(max_iter):      \n",
    "        if abs(f(x) - minimum) < eps:\n",
    "            break\n",
    "\n",
    "        steps += 1\n",
    "        grad_res = grad(f, x)\n",
    "        x = x - lr * grad_res\n",
    "\n",
    "    return steps\n",
    "\n",
    "def constant_research_lr(minimum, lr_step_size=1e-04, max_iter=1000, eps=1e-6, filename='', filename_extension='.png', dpi=CNST_DPI_HQ):\n",
    "    lr_values = np.arange(0, 1, lr_step_size)\n",
    "\n",
    "    result = []\n",
    "\n",
    "    for lr_iter in tqdm(lr_values):\n",
    "        steps = gradient_descent_constant_with_end_condition(x0, lr_iter, eps, max_iter, minimum)\n",
    "        result.append(steps)\n",
    "\n",
    "    min_lr_index = np.argmin(result)\n",
    "    min_steps = result[min_lr_index]\n",
    "    min_lr = lr_values[min_lr_index]\n",
    "\n",
    "    plt.annotate(f'[{min_lr}, {min_steps}]', \n",
    "                xy=(min_lr, min_steps),\n",
    "                xytext=(min_lr-0.1, min_steps+max_iter/10),\n",
    "                bbox=dict(boxstyle=\"round\", fc=\"0.8\"),\n",
    "                arrowprops=dict(arrowstyle='->', lw=2, color='black'))\n",
    "    \n",
    "    plt.xlabel('Learning rate', fontsize=14)\n",
    "    plt.ylabel('Steps', fontsize=14)\n",
    "    plt.plot(lr_values, result)\n",
    "    \n",
    "    if(filename != ''):\n",
    "        plt.savefig(filename + filename_extension, dpi=dpi, bbox_inches=0, transparent=True)\n",
    "\n",
    "    plt.show()"
   ]
  },
  {
   "attachments": {},
   "cell_type": "markdown",
   "metadata": {},
   "source": [
    "#### Пример 1:"
   ]
  },
  {
   "cell_type": "code",
   "execution_count": null,
   "metadata": {},
   "outputs": [],
   "source": [
    "FILE_PREFIX = TASK_PREFIX + 'A_F1_'\n",
    "\n",
    "def f(x):\n",
    "    return x[0] ** 2 + x[1] ** 2\n",
    "\n",
    "x = np.linspace(-50, 50, 120)\n",
    "y = np.linspace(-75, 75, 120)\n",
    "X, Y = np.meshgrid(x, y)\n",
    "x0 = np.array([35, 50], dtype=float)\n",
    "\n",
    "init()\n",
    "constant_research_lr(0, 1e-3, max_iter=1000, filename=PATH_IMAGE + FILE_PREFIX + 'constant_research_lr', dpi=CNST_DPI_IMAGE)\n",
    "# High quality:\n",
    "constant_research_lr(0, 1e-3, max_iter=1000, filename=PATH_HQ + FILE_PREFIX + 'constant_research_lr_HQ', dpi=CNST_DPI_HQ)"
   ]
  },
  {
   "attachments": {},
   "cell_type": "markdown",
   "metadata": {},
   "source": [
    "#### Пример 2:"
   ]
  },
  {
   "cell_type": "code",
   "execution_count": null,
   "metadata": {},
   "outputs": [],
   "source": [
    "FILE_PREFIX = TASK_PREFIX + 'A_F2_'\n",
    "\n",
    "def f(x):\n",
    "\tA = np.array([[0.7464451039232642, 1.0905399322509766], [-0.45261597812262555, 0.5415655721418664]])\n",
    "\treturn (x.dot(A)).dot(x.T)\n",
    "\n",
    "x = np.linspace(-50, 50, 120)\n",
    "y = np.linspace(-75, 75, 120)\n",
    "X, Y = np.meshgrid(x, y)\n",
    "x0 = np.array([50, -75], dtype=float)\n",
    "\n",
    "init()\n",
    "constant_research_lr(0, 1e-3, max_iter=1000, filename=PATH_IMAGE + FILE_PREFIX + 'constant_research_lr', dpi=CNST_DPI_IMAGE)\n",
    "# High quality:\n",
    "constant_research_lr(0, 1e-3, max_iter=1000, filename=PATH_HQ + FILE_PREFIX + 'constant_research_lr_HQ', dpi=CNST_DPI_HQ)"
   ]
  },
  {
   "attachments": {},
   "cell_type": "markdown",
   "metadata": {},
   "source": [
    "### (b) сравните эффективность градиентного спуска с использованием одномерного поиска с точки зрения количества вычислений минимизируемой функции и ее градиентов;"
   ]
  },
  {
   "attachments": {},
   "cell_type": "markdown",
   "metadata": {},
   "source": [
    "#### Реализация:"
   ]
  },
  {
   "cell_type": "code",
   "execution_count": null,
   "metadata": {},
   "outputs": [],
   "source": [
    "def line_search_and_constant_research_step_size(minimum, lr_step_size=1e-04, max_iter=1000, eps=1e-6, filename='', filename_extension='.png', dpi=1024):\n",
    "    step_size_values = np.arange(lr_step_size, 1, lr_step_size)\n",
    "\n",
    "    table = {'constant': [],\n",
    "            'dichotomy': []}\n",
    "    \n",
    "    global counter\n",
    "    for lr_iter in tqdm(step_size_values):\n",
    "        counter = 0\n",
    "        gradient_descent_constant(f, x0, lr=lr_iter, num_iterations=max_iter, minimum=minimum, apply_min=True)\n",
    "        table['constant'].append(counter)\n",
    "\n",
    "        counter = 0\n",
    "        gradient_descent_dichotomy(f, x0, step_size=lr_iter, num_iterations=max_iter, eps=eps, minimum=minimum, apply_min=True)\n",
    "        table['dichotomy'].append(counter)\n",
    "\n",
    "    min_constant_f_count_index = np.argmin(table['constant'])\n",
    "    min_dichotomy_f_count_index = np.argmin(table['dichotomy'])\n",
    "\n",
    "    plt.xlabel('Step size', fontsize=14)\n",
    "    plt.ylabel('F(x) count', fontsize=14)\n",
    "    plt.plot(step_size_values, table['constant'], label='constant: min - ' + str(table['constant'][min_constant_f_count_index]) + ' in ' + '%g' % step_size_values[min_constant_f_count_index])\n",
    "    plt.plot(step_size_values, table['dichotomy'], label='dichotomy: min - ' + str(table['dichotomy'][min_dichotomy_f_count_index]) + ' in ' + '%g' % step_size_values[min_dichotomy_f_count_index])\n",
    "    plt.legend(loc='upper left')\n",
    "\n",
    "    if(filename != ''):\n",
    "        plt.savefig(filename + filename_extension, dpi=dpi, bbox_inches=0, transparent=True)\n",
    "\n",
    "    plt.show()"
   ]
  },
  {
   "attachments": {},
   "cell_type": "markdown",
   "metadata": {},
   "source": [
    "#### Пример 1: "
   ]
  },
  {
   "cell_type": "code",
   "execution_count": null,
   "metadata": {},
   "outputs": [],
   "source": [
    "FILE_PREFIX = TASK_PREFIX + 'B_F1_'\n",
    "\n",
    "counter = 0\n",
    "def f(x):\n",
    "    global counter\n",
    "    counter += 1\n",
    "    return x[0] ** 2 + x[1] ** 2\n",
    "\n",
    "x = np.linspace(-50, 50, 120)\n",
    "y = np.linspace(-75, 75, 120)\n",
    "X, Y = np.meshgrid(x, y)\n",
    "x0 = np.array([35, 50], dtype=float)\n",
    "\n",
    "init()\n",
    "line_search_and_constant_research_step_size(0, 1e-3, max_iter=1000, filename=PATH_IMAGE + FILE_PREFIX + 'line_search_and_constant_research_step_size', dpi=CNST_DPI_IMAGE)\n",
    "# High quality:\n",
    "line_search_and_constant_research_step_size(0, 1e-3, max_iter=1000, filename=PATH_HQ + FILE_PREFIX + 'line_search_and_constant_research_step_size_HQ', dpi=CNST_DPI_HQ)"
   ]
  },
  {
   "attachments": {},
   "cell_type": "markdown",
   "metadata": {},
   "source": [
    "#### Пример 2: "
   ]
  },
  {
   "cell_type": "code",
   "execution_count": null,
   "metadata": {},
   "outputs": [],
   "source": [
    "FILE_PREFIX = TASK_PREFIX + 'B_F2_'\n",
    "\n",
    "counter = 0\n",
    "def f(x):\n",
    "    global counter\n",
    "    counter += 1\n",
    "    A = np.array([[0.7464451039232642, 1.0905399322509766], [-0.45261597812262555, 0.5415655721418664]])\n",
    "    return (x.dot(A)).dot(x.T)\n",
    "\n",
    "x = np.linspace(-50, 50, 120)\n",
    "y = np.linspace(-75, 75, 120)\n",
    "X, Y = np.meshgrid(x, y)\n",
    "x0 = np.array([50, -75], dtype=float)\n",
    "\n",
    "init()\n",
    "line_search_and_constant_research_step_size(0, 1e-3, max_iter=1000, filename=PATH_IMAGE + FILE_PREFIX + 'line_search_and_constant_research_step_size', dpi=CNST_DPI_IMAGE)\n",
    "# High quality:\n",
    "line_search_and_constant_research_step_size(0, 1e-3, max_iter=1000, filename=PATH_HQ + FILE_PREFIX + 'line_search_and_constant_research_step_size_HQ', dpi=CNST_DPI_HQ)"
   ]
  },
  {
   "attachments": {},
   "cell_type": "markdown",
   "metadata": {},
   "source": [
    "### (c) исследуйте работу методов в зависимости от выбора начальной точки;"
   ]
  },
  {
   "attachments": {},
   "cell_type": "markdown",
   "metadata": {},
   "source": [
    "#### Реализация:"
   ]
  },
  {
   "cell_type": "code",
   "execution_count": null,
   "metadata": {},
   "outputs": [],
   "source": [
    "def get_count_step_constant(f, x, y):\n",
    "    x0 = np.array([x, y])\n",
    "    return len(gradient_descent_constant(f, x0, lr=0.05, num_iterations=1000, minimum=0, apply_min=True))\n",
    "\n",
    "def get_count_step_dichotomy(f, x, y):\n",
    "    x0 = np.array([x, y])\n",
    "    return len(gradient_descent_dichotomy(f, x0, step_size=0.5, num_iterations=1000, minimum=0, apply_min=True))"
   ]
  },
  {
   "attachments": {},
   "cell_type": "markdown",
   "metadata": {},
   "source": [
    "#### Пример 1:"
   ]
  },
  {
   "cell_type": "code",
   "execution_count": null,
   "metadata": {},
   "outputs": [],
   "source": [
    "FILE_PREFIX = TASK_PREFIX + 'С_F1_'\n",
    "\n",
    "def f(x):\n",
    "    return x[0] ** 2 + x[1] ** 2\n",
    "\n",
    "x = np.linspace(-75, 75, 120)\n",
    "y = np.linspace(-75, 75, 120)\n",
    "X, Y = np.meshgrid(x, y)\n",
    "\n",
    "Z = np.vectorize(get_count_step_constant)(f, X, Y)\n",
    "print_full_grad([], [], title='', elev=30, azim=-14, filename=PATH_IMAGE + FILE_PREFIX + 'steps_dependens_on_start_point_constant', dpi=CNST_DPI_IMAGE)\n",
    "# High quality:\n",
    "print_full_grad([], [], title='', elev=30, azim=-14, filename=PATH_HQ + FILE_PREFIX + 'steps_dependens_on_start_point_constant', dpi=CNST_DPI_HQ)\n",
    "\n",
    "Z = np.vectorize(get_count_step_dichotomy)(f, X, Y)\n",
    "print_full_grad([], [], title='', elev=30, azim=-14, filename=PATH_IMAGE + FILE_PREFIX + 'steps_dependens_on_start_point_dichotomy', dpi=CNST_DPI_IMAGE)\n",
    "# High quality:\n",
    "print_full_grad([], [], title='', elev=30, azim=-14, filename=PATH_HQ + FILE_PREFIX + 'steps_dependens_on_start_point_dichotomy', dpi=CNST_DPI_HQ)"
   ]
  },
  {
   "attachments": {},
   "cell_type": "markdown",
   "metadata": {},
   "source": [
    "#### Пример 2:"
   ]
  },
  {
   "cell_type": "code",
   "execution_count": null,
   "metadata": {},
   "outputs": [],
   "source": [
    "FILE_PREFIX = TASK_PREFIX + 'С_F2_'\n",
    "\n",
    "def f(x):\n",
    "\tA = np.array([[0.7464451039232642, 1.0905399322509766], [-0.45261597812262555, 0.5415655721418664]])\n",
    "\treturn (x.dot(A)).dot(x.T)\n",
    "\n",
    "x = np.linspace(-50, 50, 20)\n",
    "y = np.linspace(-75, 75, 20)\n",
    "X, Y = np.meshgrid(x, y)\n",
    "\n",
    "Z = np.vectorize(get_count_step_constant)(f, X, Y)\n",
    "print_full_grad([], [], title='', elev=30, azim=-14, filename=PATH_IMAGE + FILE_PREFIX + 'steps_dependens_on_start_point_constant', dpi=CNST_DPI_IMAGE)\n",
    "# High quality:\n",
    "print_full_grad([], [], title='', elev=30, azim=-14, filename=PATH_HQ + FILE_PREFIX + 'steps_dependens_on_start_point_constant', dpi=CNST_DPI_HQ)\n",
    "\n",
    "Z = np.vectorize(get_count_step_dichotomy)(f, X, Y)\n",
    "print_full_grad([], [], title='', elev=30, azim=-14, filename=PATH_IMAGE + FILE_PREFIX + 'steps_dependens_on_start_point_dichotomy', dpi=CNST_DPI_IMAGE)\n",
    "# High quality:\n",
    "print_full_grad([], [], title='', elev=30, azim=-14, filename=PATH_HQ + FILE_PREFIX + 'steps_dependens_on_start_point_dichotomy', dpi=CNST_DPI_HQ)"
   ]
  },
  {
   "attachments": {},
   "cell_type": "markdown",
   "metadata": {},
   "source": [
    "### (d) исследуйте влияние нормализации (scaling) на сходимость на примере масштабирования осей плохо обусловленной функции;"
   ]
  },
  {
   "attachments": {},
   "cell_type": "markdown",
   "metadata": {},
   "source": [
    "#### Реализация:"
   ]
  },
  {
   "cell_type": "code",
   "execution_count": null,
   "metadata": {},
   "outputs": [],
   "source": [
    "def scaling_effect_on_convergence_constant(filename='', filename_extension='.png', dpi=1024):\n",
    "    scaling_range = np.linspace(0.1, 100, 1000)\n",
    "    table = {'steps_x': [],\n",
    "            'steps_y': []}\n",
    "\n",
    "    x0 = 50.\n",
    "    y0 = -50.\n",
    "\n",
    "    for scale in tqdm(scaling_range):\n",
    "        fx = (lambda x: (scale * x[0]) ** 2 + x[1] ** 2)\n",
    "        fy = (lambda x: x[0] ** 2 + (scale * x[1]) ** 2)\n",
    "\n",
    "        sum_x = 0\n",
    "        sum_y = 0\n",
    "        num_research = 100\n",
    "\n",
    "        for _ in range(num_research):\n",
    "            sum_x += get_count_step_constant(fx, x0 * scale, y0)\n",
    "            sum_y += get_count_step_constant(fy, x0, y0 * scale)\n",
    "\n",
    "        table['steps_x'].append(sum_x / num_research)\n",
    "        table['steps_y'].append(sum_y / num_research)\n",
    "\n",
    "    min_steps_scaling_x = np.argmin(table['steps_x'])\n",
    "    min_steps_scaling_y = np.argmin(table['steps_y'])\n",
    "\n",
    "    plt.xlabel('Scaling', fontsize=14)\n",
    "    plt.ylabel('Steps', fontsize=14)\n",
    "    plt.plot(scaling_range, table['steps_x'], label='steps_x: min - ' + str(table['steps_x'][min_steps_scaling_x]) + ' in ' + '%g' % scaling_range[min_steps_scaling_x])\n",
    "    plt.plot(scaling_range, table['steps_y'], label='steps_y: min - ' + str(table['steps_y'][min_steps_scaling_y]) + ' in ' + '%g' % scaling_range[min_steps_scaling_y])\n",
    "    plt.legend(loc='upper left')\n",
    "\n",
    "    if(filename != ''):\n",
    "        plt.savefig(filename + filename_extension, dpi=dpi, bbox_inches=0, transparent=True)\n",
    "\n",
    "    plt.show()\n",
    "\n",
    "\n",
    "def scaling_effect_on_convergence_dichotomy(filename='', filename_extension='.png', dpi=1024):\n",
    "    scaling_range = np.linspace(0.1, 100, 1000)\n",
    "    table = {'steps_x': [],\n",
    "            'steps_y': []}\n",
    "\n",
    "    x0 = 50.\n",
    "    y0 = -50.\n",
    "\n",
    "    for scale in tqdm(scaling_range):\n",
    "        fx = (lambda x: (scale * x[0]) ** 2 + x[1] ** 2)\n",
    "        fy = (lambda x: x[0] ** 2 + (scale * x[1]) ** 2)\n",
    "\n",
    "        sum_x = 0\n",
    "        sum_y = 0\n",
    "        num_research = 100\n",
    "\n",
    "        for _ in range(num_research):\n",
    "            sum_x += get_count_step_dichotomy(fx, x0 * scale, y0)\n",
    "            sum_y += get_count_step_dichotomy(fy, x0, y0 * scale)\n",
    "\n",
    "        table['steps_x'].append(sum_x / num_research)\n",
    "        table['steps_y'].append(sum_y / num_research)\n",
    "\n",
    "    min_steps_scaling_x = np.argmin(table['steps_x'])\n",
    "    min_steps_scaling_y = np.argmin(table['steps_y'])\n",
    "\n",
    "    plt.xlabel('Scaling', fontsize=14)\n",
    "    plt.ylabel('Steps', fontsize=14)\n",
    "    plt.plot(scaling_range, table['steps_x'], label='steps_x: min - ' + str(table['steps_x'][min_steps_scaling_x]) + ' in ' + '%g' % scaling_range[min_steps_scaling_x])\n",
    "    plt.plot(scaling_range, table['steps_y'], label='steps_y: min - ' + str(table['steps_y'][min_steps_scaling_y]) + ' in ' + '%g' % scaling_range[min_steps_scaling_y])\n",
    "    plt.legend(loc='upper left')\n",
    "\n",
    "    if(filename != ''):\n",
    "        plt.savefig(filename + filename_extension, dpi=dpi, bbox_inches=0, transparent=True)\n",
    "\n",
    "    plt.show()\n",
    "\n",
    "        "
   ]
  },
  {
   "attachments": {},
   "cell_type": "markdown",
   "metadata": {},
   "source": [
    "#### Пример 1:"
   ]
  },
  {
   "cell_type": "code",
   "execution_count": null,
   "metadata": {},
   "outputs": [],
   "source": [
    "FILE_PREFIX = TASK_PREFIX + 'D_F1_'\n",
    "\n",
    "scaling_effect_on_convergence_constant(filename=PATH_IMAGE + FILE_PREFIX + 'scaling_effect_constant', dpi=CNST_DPI_IMAGE)\n",
    "scaling_effect_on_convergence_dichotomy(filename=PATH_IMAGE + FILE_PREFIX + 'scaling_effect_dichotomy', dpi=CNST_DPI_IMAGE)\n",
    "# scaling_effect_on_convergence_constant(filename=PATH_HQ + FILE_PREFIX + 'steps_dependens_on_start_point_constant', dpi=CNST_DPI_HQ)"
   ]
  },
  {
   "attachments": {},
   "cell_type": "markdown",
   "metadata": {},
   "source": [
    "#### Пример 2:"
   ]
  },
  {
   "cell_type": "code",
   "execution_count": null,
   "metadata": {},
   "outputs": [],
   "source": [
    "def scaling_effect_on_convergence_constant(filename='', filename_extension='.png', dpi=1024):\n",
    "    scaling_range = np.linspace(0.1, 100, 1000)\n",
    "    table = {'steps_x': [],\n",
    "            'steps_y': []}\n",
    "\n",
    "    x0 = 50.\n",
    "    y0 = -50.\n",
    "\n",
    "    for scale in tqdm(scaling_range):\n",
    "        fx = (lambda x: (scale * x[0]) ** 2 + x[1] ** 2)\n",
    "        fy = (lambda x: x[0] ** 2 + (scale * x[1]) ** 2)\n",
    "\n",
    "        sum_x = 0\n",
    "        sum_y = 0\n",
    "        num_research = 100\n",
    "\n",
    "        for _ in range(num_research):\n",
    "            sum_x += get_count_step_constant(fx, x0 * scale, y0)\n",
    "            sum_y += get_count_step_constant(fy, x0, y0 * scale)\n",
    "\n",
    "        table['steps_x'].append(sum_x / num_research)\n",
    "        table['steps_y'].append(sum_y / num_research)\n",
    "\n",
    "    min_steps_scaling_x = np.argmin(table['steps_x'])\n",
    "    min_steps_scaling_y = np.argmin(table['steps_y'])\n",
    "\n",
    "    plt.xlabel('Scaling', fontsize=14)\n",
    "    plt.ylabel('Steps', fontsize=14)\n",
    "    plt.plot(scaling_range, table['steps_x'], label='steps_x: min - ' + str(table['steps_x'][min_steps_scaling_x]) + ' in ' + '%g' % scaling_range[min_steps_scaling_x])\n",
    "    plt.plot(scaling_range, table['steps_y'], label='steps_y: min - ' + str(table['steps_y'][min_steps_scaling_y]) + ' in ' + '%g' % scaling_range[min_steps_scaling_y])\n",
    "    plt.legend(loc='upper left')\n",
    "\n",
    "    if(filename != ''):\n",
    "        plt.savefig(filename + filename_extension, dpi=dpi, bbox_inches=0, transparent=True)\n",
    "\n",
    "    plt.show()\n",
    "\n",
    "def scaling_effect_on_convergence_dichotomy(filename='', filename_extension='.png', dpi=1024):\n",
    "    scaling_range = np.linspace(0.1, 100, 1000)\n",
    "    table = {'steps_x': [],\n",
    "            'steps_y': []}\n",
    "\n",
    "    x0 = 50.\n",
    "    y0 = -50.\n",
    "\n",
    "    for scale in tqdm(scaling_range):\n",
    "        fx = (lambda x: 0.7464451039232642 * (scale * x[0]) ** 2 + 0.5415655721418664 * x[1] ** 2\n",
    "                        + scale * (1.0905399322509766 * x[0] * x[1] + -0.45261597812262555 * x[1] * x[0]))\n",
    "        fy = (lambda x: 0.7464451039232642 * x[0] ** 2 + 0.5415655721418664 * (scale * x[1]) ** 2\n",
    "                        + scale * (1.0905399322509766 * x[0] * x[1] + -0.45261597812262555 * x[1] * x[0]))\n",
    "\n",
    "        sum_x = 0\n",
    "        sum_y = 0\n",
    "        num_research = 100\n",
    "\n",
    "        for _ in range(num_research):\n",
    "            sum_x += get_count_step_dichotomy(fx, x0 * scale, y0)\n",
    "            sum_y += get_count_step_dichotomy(fy, x0, y0 * scale)\n",
    "\n",
    "        table['steps_x'].append(sum_x / num_research)\n",
    "        table['steps_y'].append(sum_y / num_research)\n",
    "\n",
    "    min_steps_scaling_x = np.argmin(table['steps_x'])\n",
    "    min_steps_scaling_y = np.argmin(table['steps_y'])\n",
    "\n",
    "    plt.xlabel('Scaling', fontsize=14)\n",
    "    plt.ylabel('Steps', fontsize=14)\n",
    "    plt.plot(scaling_range, table['steps_x'], label='steps_x: min - ' + str(table['steps_x'][min_steps_scaling_x]) + ' in ' + '%g' % scaling_range[min_steps_scaling_x])\n",
    "    plt.plot(scaling_range, table['steps_y'], label='steps_y: min - ' + str(table['steps_y'][min_steps_scaling_y]) + ' in ' + '%g' % scaling_range[min_steps_scaling_y])\n",
    "    plt.legend(loc='upper left')\n",
    "\n",
    "    if(filename != ''):\n",
    "        plt.savefig(filename + filename_extension, dpi=dpi, bbox_inches=0, transparent=True)\n",
    "\n",
    "    plt.show()\n",
    "\n",
    "        "
   ]
  },
  {
   "cell_type": "code",
   "execution_count": null,
   "metadata": {},
   "outputs": [],
   "source": [
    "FILE_PREFIX = TASK_PREFIX + 'D_F2_'\n",
    "\n",
    "# scaling_effect_on_convergence_constant(filename=PATH_IMAGE + FILE_PREFIX + 'scaling_effect_constant', dpi=CNST_DPI_IMAGE)\n",
    "scaling_effect_on_convergence_dichotomy(filename=PATH_IMAGE + FILE_PREFIX + 'scaling_effect_dichotomy', dpi=CNST_DPI_IMAGE)\n",
    "# scaling_effect_on_convergence_constant(filename=PATH_HQ + FILE_PREFIX + 'steps_dependens_on_start_point_constant', dpi=CNST_DPI_HQ)"
   ]
  },
  {
   "attachments": {},
   "cell_type": "markdown",
   "metadata": {},
   "source": [
    "### (e) в каждом случае нарисуйте графики с линиями уровня и траекториями методов;"
   ]
  },
  {
   "attachments": {},
   "cell_type": "markdown",
   "metadata": {},
   "source": [
    "#### Пример 1:"
   ]
  },
  {
   "cell_type": "code",
   "execution_count": null,
   "metadata": {},
   "outputs": [],
   "source": [
    "FILE_PREFIX = TASK_PREFIX + 'E_F1_'\n",
    "\n",
    "def f(x):\n",
    "    return x[0] ** 2 + x[1] ** 2\n",
    "\n",
    "x = np.linspace(-75, 75, 120)\n",
    "y = np.linspace(-75, 75, 120)\n",
    "X, Y = np.meshgrid(x, y)\n",
    "x0 = np.array([50, 50], dtype=float)\n",
    "\n",
    "init()\n",
    "num_iter = 60\n",
    "result = [gradient_descent_constant(f, x0, lr=0.8, num_iterations=num_iter),\n",
    "          gradient_descent_dichotomy(f, x0, step_size=1, num_iterations=num_iter)]\n",
    "result_label = ['constant', 'dichotomy']\n",
    "\n",
    "print_lines_grad(result, result_label, title='', filename=PATH_IMAGE + FILE_PREFIX + 'lines_grad_' + '_'.join(result_label), dpi=CNST_DPI_IMAGE)\n",
    "print_full_grad(result, result_label, title='', filename=PATH_IMAGE + FILE_PREFIX + 'full_grad_' + '_'.join(result_label), dpi=CNST_DPI_IMAGE)\n",
    "# High quality:\n",
    "print_lines_grad(result, result_label, title='', filename=PATH_HQ + FILE_PREFIX + 'lines_grad_HQ_' + '_'.join(result_label), dpi=CNST_DPI_HQ)\n",
    "print_full_grad(result, result_label, title='', filename=PATH_HQ + FILE_PREFIX + 'full_grad_HQ_' + '_'.join(result_label), dpi=CNST_DPI_HQ)"
   ]
  },
  {
   "attachments": {},
   "cell_type": "markdown",
   "metadata": {},
   "source": [
    "#### Пример 2:"
   ]
  },
  {
   "cell_type": "code",
   "execution_count": null,
   "metadata": {},
   "outputs": [],
   "source": [
    "FILE_PREFIX = TASK_PREFIX + 'E_F2_'\n",
    "\n",
    "def f(x):\n",
    "\tA = np.array([[0.7464451039232642, 1.0905399322509766], [-0.45261597812262555, 0.5415655721418664]])\n",
    "\treturn (x.dot(A)).dot(x.T)\n",
    "\n",
    "x = np.linspace(-75, 75, 120)\n",
    "y = np.linspace(-75, 75, 120)\n",
    "X, Y = np.meshgrid(x, y)\n",
    "x0 = np.array([50, -75], dtype=float)\n",
    "\n",
    "init()\n",
    "num_iter = 50\n",
    "result = [gradient_descent_constant(f, x0, lr=0.2, num_iterations=num_iter),\n",
    "          gradient_descent_dichotomy(f, x0, step_size=1, num_iterations=num_iter)]\n",
    "result_label = ['constant', 'dichotomy']\n",
    "\n",
    "\n",
    "print_lines_grad(result, result_label, title='', filename=PATH_IMAGE + FILE_PREFIX + 'lines_grad_' + '_'.join(result_label), dpi=CNST_DPI_IMAGE)\n",
    "print_full_grad(result, result_label, title='', azim=90, filename=PATH_IMAGE + FILE_PREFIX + 'full_grad_' + '_'.join(result_label), dpi=CNST_DPI_IMAGE)\n",
    "# High quality:\n",
    "print_lines_grad(result, result_label, title='', filename=PATH_HQ + FILE_PREFIX + 'lines_grad_HQ_' + '_'.join(result_label), dpi=CNST_DPI_HQ)\n",
    "print_full_grad(result, result_label, title='', azim=90, filename=PATH_HQ + FILE_PREFIX + 'full_grad_HQ_' + '_'.join(result_label), dpi=CNST_DPI_HQ)"
   ]
  }
 ],
 "metadata": {
  "kernelspec": {
   "display_name": "Python 3",
   "language": "python",
   "name": "python3"
  },
  "language_info": {
   "codemirror_mode": {
    "name": "ipython",
    "version": 3
   },
   "file_extension": ".py",
   "mimetype": "text/x-python",
   "name": "python",
   "nbconvert_exporter": "python",
   "pygments_lexer": "ipython3",
   "version": "3.9.6"
  },
  "orig_nbformat": 4,
  "vscode": {
   "interpreter": {
    "hash": "0c106e3956619c8654ce5e0562294058212cdd15b4527d78baaf335d52767e29"
   }
  }
 },
 "nbformat": 4,
 "nbformat_minor": 2
}
