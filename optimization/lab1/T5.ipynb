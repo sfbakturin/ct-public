{
 "cells": [
  {
   "attachments": {},
   "cell_type": "markdown",
   "metadata": {},
   "source": [
    "# Задание 5\n",
    "\n",
    "Реализуйте генератор случайных квадратичных функций $n$ переменных с числом обусловленности $k$."
   ]
  },
  {
   "attachments": {},
   "cell_type": "markdown",
   "metadata": {},
   "source": [
    "## Инициализация"
   ]
  },
  {
   "attachments": {},
   "cell_type": "markdown",
   "metadata": {},
   "source": [
    "### Импорт библиотек"
   ]
  },
  {
   "cell_type": "code",
   "execution_count": null,
   "metadata": {},
   "outputs": [],
   "source": [
    "# Для анимаций\n",
    "from matplotlib import rc\n",
    "rc('animation', html='jshtml')\n",
    "from matplotlib.animation import FuncAnimation\n",
    "\n",
    "# Для больших анимаций\n",
    "import matplotlib as mpl\n",
    "mpl.rcParams['animation.embed_limit'] = 1000.0 \n",
    "\n",
    "# Для графиков и прочего\n",
    "import numpy as np\n",
    "import scipy\n",
    "from matplotlib import cm\n",
    "import matplotlib.pyplot as plt\n",
    "import math\n",
    "import pandas as pd\n",
    "\n",
    "# Для корректного отображения \n",
    "%matplotlib inline\n",
    "plt.style.use('fivethirtyeight')\n",
    "\n",
    "# Для таблиц\n",
    "import csv \n",
    "\n",
    "# Для работы с файлами\n",
    "import os\n",
    "\n",
    "import sys\n",
    "\n",
    "# Для progress bar\n",
    "from tqdm import tqdm"
   ]
  },
  {
   "attachments": {},
   "cell_type": "markdown",
   "metadata": {},
   "source": [
    "### Отрисовка пространства"
   ]
  },
  {
   "cell_type": "code",
   "execution_count": null,
   "metadata": {},
   "outputs": [],
   "source": [
    "def init():\n",
    "    global X, Y, Z, f, x0\n",
    "    Z = np.vectorize(lambda x, y: f(np.array([x, y])))(X, Y)"
   ]
  },
  {
   "attachments": {},
   "cell_type": "markdown",
   "metadata": {},
   "source": [
    "### 3D визуализация функции"
   ]
  },
  {
   "cell_type": "code",
   "execution_count": null,
   "metadata": {},
   "outputs": [],
   "source": [
    "def print_f(elev = 30, azim = 60, filename='', filename_extension='.png', dpi=1024):\n",
    "  plt.figure(figsize=(10, 10))\n",
    "  ax = plt.subplot(111, projection='3d')\n",
    "  ax.view_init(elev=35, azim=45)\n",
    "\n",
    "  ax.plot_surface(X, Y, Z)\n",
    "  plt.plot(x0[0], x0[1], f(x0), 'ro', label='Начальная точка')\n",
    "  ax.view_init(elev=elev, azim=azim)\n",
    "  plt.legend(loc='upper left')\n",
    "\n",
    "  if (filename != ''):\n",
    "    plt.savefig(filename + filename_extension, dpi=dpi, bbox_inches=0, transparent=True)\n",
    "\n",
    "  plt.show()"
   ]
  },
  {
   "attachments": {},
   "cell_type": "markdown",
   "metadata": {},
   "source": [
    "### Функция проверки правильности сгенерированной матрицы"
   ]
  },
  {
   "cell_type": "code",
   "execution_count": null,
   "metadata": {},
   "outputs": [],
   "source": [
    "# Функция проверки числа обусловленности у сгенерированных матриц \n",
    "def check_generate_matrix(f_generator, g = 900):\n",
    "    n = 2       # Размерность сгенерированной матрицы\n",
    "    k = 1000    # Необходимое число обусловленности сгенерированной матрицы\n",
    "\n",
    "    #g          # Число испытаний\n",
    "    eps = 1e-3  # Допустимая погрешность в числе обусловленности\n",
    "\n",
    "    x = np.arange(0, g, 1)\n",
    "    y = np.zeros(g)\n",
    "\n",
    "    number_of_wrong = 0\n",
    "    for i in tqdm(range(g)):\n",
    "        y[i] = np.linalg.cond(f_generator(n, k, eps=eps))\n",
    "        if(np.abs(y[i] - k) > eps):\n",
    "            number_of_wrong += 1\n",
    "\n",
    "    print(\"Количество неправильных матриц:\", number_of_wrong)\n",
    "    # print(y)\n",
    "\n",
    "    plt.plot(x, y)\n",
    "    plt.show()"
   ]
  },
  {
   "attachments": {},
   "cell_type": "markdown",
   "metadata": {},
   "source": [
    "## Решение задания"
   ]
  },
  {
   "attachments": {},
   "cell_type": "markdown",
   "metadata": {},
   "source": [
    "### Инициализация констант"
   ]
  },
  {
   "attachments": {},
   "cell_type": "markdown",
   "metadata": {},
   "source": [
    "#### Технические константы"
   ]
  },
  {
   "cell_type": "code",
   "execution_count": null,
   "metadata": {},
   "outputs": [],
   "source": [
    "PATH_IMAGE = 'Image' + os.sep\n",
    "PATH_HQ = 'HQ' + os.sep\n",
    "PATH_DATA = 'Data' + os.sep\n",
    "CNST_DPI_IMAGE = 256\n",
    "CNST_DPI_HQ = 1024"
   ]
  },
  {
   "attachments": {},
   "cell_type": "markdown",
   "metadata": {},
   "source": [
    "#### Константы задания"
   ]
  },
  {
   "cell_type": "code",
   "execution_count": null,
   "metadata": {},
   "outputs": [],
   "source": [
    "FILE_PREFIX = 'T5_'"
   ]
  },
  {
   "attachments": {},
   "cell_type": "markdown",
   "metadata": {},
   "source": [
    "### Первый способ генерации (с сохранением коэффициентов при квадратах)"
   ]
  },
  {
   "attachments": {},
   "cell_type": "markdown",
   "metadata": {},
   "source": [
    "#### Описание метода"
   ]
  },
  {
   "attachments": {},
   "cell_type": "markdown",
   "metadata": {},
   "source": [
    "Простой способ, сохраняет только коэффициенты при $x_i^2$ (на главной диагонали).\n",
    "\n",
    "Этот способ генерирует диагональную матрицу, такую, что частное максимального и минимального элемента равно $k$. Пусть $A$ - матрица и $a^i_j$ - элемент в ячейке $\\langle i, ~ j \\rangle$, тогда\n",
    "\n",
    "$$\n",
    "    \\dfrac{\\max_{\\forall~i}(a^i_i)}{\\min_{\\forall~i}(a^i_i)} = k\n",
    "$$\n",
    "\n",
    "Так как матрица диагональная - собственные числа такой матрицы равны элементам на диагонали, сингулярные числа совпадают с собственными, а отношение максимального сингулярного числа к минимальному - один из способов вычислить число обусловленности матрицы: 2-norm (largest sing. value)."
   ]
  },
  {
   "attachments": {},
   "cell_type": "markdown",
   "metadata": {},
   "source": [
    "#### Генерация диагональной матрицы размера $n$ и числом обусловленности $k$"
   ]
  },
  {
   "cell_type": "code",
   "execution_count": null,
   "metadata": {},
   "outputs": [],
   "source": [
    "def generate_random_matrix_simple(n, k, eps):\n",
    "    # eps -- неиспользуемое значение, необходимо для соответствия другим функциям генераторам\n",
    "    A = np.zeros((n, n))\n",
    "    A[0,0] = np.random.uniform(low=-1, high=1)\n",
    "    A[n-1, n-1] = A[0,0] / k\n",
    "\n",
    "    for i in range(0, n-2):\n",
    "        A[i, i] = np.random.uniform(low=A[0,0], high=A[n-1, n-1])\n",
    "\n",
    "    return A\n",
    "\n",
    "# облегченная версия generate_random_matrix_simple\n",
    "def generate_random_vector_simple(n, k):\n",
    "    global v\n",
    "    v = np.zeros((n))\n",
    "    v[0] = np.random.uniform(low=-1, high=1)\n",
    "    v[n-1] = v[0] / k\n",
    "\n",
    "    for i in range(0, n-2):\n",
    "        v[i] = np.random.uniform(low=v[0], high=v[n-1])\n",
    "\n",
    "    return v"
   ]
  },
  {
   "attachments": {},
   "cell_type": "markdown",
   "metadata": {},
   "source": [
    "#### Генерация квадратичной функции"
   ]
  },
  {
   "cell_type": "code",
   "execution_count": null,
   "metadata": {},
   "outputs": [],
   "source": [
    "def generate_quadratic_function_simple(n, k):\n",
    "    # Генерируем случайную матрицу размера n x n, и числом обусловленности k\n",
    "    v = generate_random_vector_simple(n, k)\n",
    "\n",
    "    # Определяем квадратичную функцию f(x) = x * A * x^T\n",
    "    def f(x):\n",
    "        return sum([v[i]*(x[i]**2) for i in range(len(v))])\n",
    "    \n",
    "    return f"
   ]
  },
  {
   "attachments": {},
   "cell_type": "markdown",
   "metadata": {},
   "source": [
    "#### Вывод квадратичной функции"
   ]
  },
  {
   "cell_type": "code",
   "execution_count": null,
   "metadata": {},
   "outputs": [],
   "source": [
    "def get_str_equation_quadratic_function_simple():\n",
    "    global v\n",
    "    # Создаем список из строк для каждого члена квадратичной функции\n",
    "    return [f'{v[i]}*x[{i}]**2' for i in range(len(v))]\n",
    "\n",
    "def get_code_quadratic_function_simple():\n",
    "    # Создаем список из строк для каждого члена квадратичной функции\n",
    "    members = get_str_equation_quadratic_function_simple()\n",
    "\n",
    "    # Объединяем строки с помощью символа '+'\n",
    "    function_str = ' + '.join(members)\n",
    "\n",
    "    # Создаем строку, содержащую полный код функции\n",
    "    function_code = f'def f(x):\\n\\treturn {function_str}'\n",
    "\n",
    "    return function_code"
   ]
  },
  {
   "attachments": {},
   "cell_type": "markdown",
   "metadata": {},
   "source": [
    "### Второй способ генерации (прогрессивный метод, сохраняет все коэффициенты квадратичного уравнения)"
   ]
  },
  {
   "attachments": {},
   "cell_type": "markdown",
   "metadata": {},
   "source": [
    "#### Функция поиска такого $x$, что $f(x) = m$"
   ]
  },
  {
   "cell_type": "code",
   "execution_count": null,
   "metadata": {},
   "outputs": [],
   "source": [
    "def find_x(f, m, x1 = 0, x2 = 1):\n",
    "    \"\"\"\n",
    "        Функция вычисления неизвестной x, такой, что f(x) = m\n",
    "\n",
    "        Аргументы:\n",
    "        f -- функция\n",
    "        m -- необходимое значение\n",
    "        x1, x2 -- точки, с которых начинаем поиск\n",
    "\n",
    "        Возвращает:\n",
    "        x -- неизвестная\n",
    "    \"\"\"\n",
    "    # Используем метод бисекции для нахождения x\n",
    "    eps = 1e-6\n",
    "    while f(x2) < m:\n",
    "        x1, x2 = x2, x2 * 2\n",
    "    # Применяем метод бисекции\n",
    "    while abs(x2 - x1) > eps:\n",
    "        mid = (x1 + x2) / 2\n",
    "        if f(mid) < m:\n",
    "            x1 = mid\n",
    "        else:\n",
    "            x2 = mid\n",
    "    return x2"
   ]
  },
  {
   "attachments": {},
   "cell_type": "markdown",
   "metadata": {},
   "source": [
    "#### Генерация случайной матрицы размера $n$ и числом обусловленности $k$"
   ]
  },
  {
   "cell_type": "code",
   "execution_count": null,
   "metadata": {},
   "outputs": [],
   "source": [
    "# def generate_random_matrix_progressive(n, k, eps=1e-3):\n",
    "#     # генерируем случайную матрицу размера n, и значениями в отрезке [-1, 1]\n",
    "#     A = np.random.uniform(low=-1, high=1, size=(n, n))\n",
    "\n",
    "#     for i in range(n):\n",
    "#         for j in range(n):\n",
    "#             # задаем позицию рассматриваемого элемента матрицы\n",
    "#             pos = i, j\n",
    "\n",
    "#             # задаем функцию возвращающую число обусловленности матрицы в зависимости от элемента матрицы\n",
    "#             def f(x):\n",
    "#                 A[pos] = x\n",
    "#                 return np.linalg.cond(A)\n",
    "\n",
    "#             buf = A[pos]\n",
    "#             # ищем подходящий первый элемент матрицы\n",
    "#             A[pos] = find_x(f, k)\n",
    "\n",
    "#             # если не нашли, пробуем значения меньше нуля \n",
    "#             if np.abs(np.linalg.cond(A) - k) > eps:\n",
    "#                 A[pos] = find_x(f, k, x2=-1)\n",
    "#             else:\n",
    "#                 return A\n",
    "            \n",
    "#             A[pos] = buf\n",
    "\n",
    "\n",
    "#     # если и так не нашли, генерируем новую матрицу \n",
    "#     if(np.abs(np.linalg.cond(A) - k) > 1e-3):\n",
    "#         return generate_random_matrix_progressive(n, k)\n",
    "\n",
    "#     return A"
   ]
  },
  {
   "attachments": {},
   "cell_type": "markdown",
   "metadata": {},
   "source": [
    "#### Генерация квадратичной функции"
   ]
  },
  {
   "cell_type": "code",
   "execution_count": null,
   "metadata": {},
   "outputs": [],
   "source": [
    "# def generate_quadratic_function_progressive(n, k):\n",
    "#     # Генерируем случайную матрицу размера n x n, и числом обусловленности k\n",
    "    \n",
    "#     global A\n",
    "#     A = generate_random_matrix_progressive(n, k)\n",
    "\n",
    "#     # Определяем квадратичную функцию f(x) = x * A * x^T\n",
    "#     def f(x):\n",
    "#         return (x.dot(A)).dot(x.T) \n",
    "    \n",
    "#     return f"
   ]
  },
  {
   "attachments": {},
   "cell_type": "markdown",
   "metadata": {},
   "source": [
    "#### Вывод квадратичной функции"
   ]
  },
  {
   "cell_type": "code",
   "execution_count": null,
   "metadata": {},
   "outputs": [],
   "source": [
    "# def get_str_equation_quadratic_function_progressive():\n",
    "#     global A\n",
    "#     # Формируем строку, соответствующую уравнению квадратичной функции\n",
    "#     x_str = ['x[' + str(i) + ']' for i in range(A.shape[0])]\n",
    "#     terms = []\n",
    "#     for i in range(A.shape[0]):\n",
    "#         for j in range(A.shape[1]):\n",
    "#             term = str(A[i][j]) + '*' + x_str[i] + '*' + x_str[j]\n",
    "#             terms.append(term)\n",
    "#     return ' + '.join(terms)      \n",
    "\n",
    "# def get_code_line_wiev_quadratic_function_progressive():\n",
    "#     return 'def f(x):\\n\\treturn ' + get_str_equation_quadratic_function_progressive()\n",
    "\n",
    "# def get_code_quadratic_function_progressive():\n",
    "#     global A\n",
    "#     # Преобразуем матрицу в список строк и добавляем символ переноса строки после каждой строки\n",
    "#     # A_str = '[' + ',\\n '.join(['[' + ', '.join([str(e) for e in row]) + ']' for row in A]) + ']'\n",
    "#     A_str = str(A.tolist())\n",
    "#     function_code = 'def quadratic_function(x):\\n'\n",
    "#     function_code += f'\\tA = np.array({A_str})\\n'\n",
    "#     function_code += '\\treturn (x.dot(A)).dot(x.T)'\n",
    "#     return function_code"
   ]
  },
  {
   "cell_type": "code",
   "execution_count": null,
   "metadata": {},
   "outputs": [],
   "source": [
    "def gradient_descent_constant_with_end_condition(x0, lr, eps, max_iter, minimum):\n",
    "    x = np.copy(x0)\n",
    "    steps = 0\n",
    "\n",
    "    for i in range(max_iter):      \n",
    "        if abs(f(x) - minimum) < eps:\n",
    "            break\n",
    "\n",
    "        steps += 1\n",
    "        grad_res = grad(f, x)\n",
    "        x = x - lr * grad_res\n",
    "\n",
    "    return steps\n",
    "\n",
    "delta = 1e-9\n",
    "def grad(f, x):\n",
    "    \"\"\"\n",
    "    Функция вычисления градиента в заданной точке с константной точностью\n",
    "\n",
    "    Аргументы:\n",
    "    f -- функция\n",
    "    x -- точка\n",
    "\n",
    "    Возвращает:\n",
    "    ans -- градиент функции в точке x\n",
    "    \"\"\"\n",
    "\n",
    "    n = len(x)\n",
    "    xd = np.copy(x)\n",
    "    ans = np.zeros(n)\n",
    "\n",
    "    for i in range(n):\n",
    "        xd[i] += delta\n",
    "        ans[i] = np.divide(f(xd) - f(x), delta)\n",
    "        xd[i] -= delta\n",
    "\n",
    "    return ans"
   ]
  },
  {
   "cell_type": "code",
   "execution_count": null,
   "metadata": {},
   "outputs": [],
   "source": [
    "FILE_PREFIX = 'T6_'"
   ]
  },
  {
   "cell_type": "code",
   "execution_count": null,
   "metadata": {},
   "outputs": [],
   "source": [
    "num_iterations = 100\n",
    "\n",
    "def T(n, k):\n",
    "    f = generate_quadratic_function_simple(int(n), int(k))\n",
    "    x0 = np.random.uniform(size=(int(n)))\n",
    "\n",
    "    sum = 0\n",
    "    for i in range(10):\n",
    "        sum += gradient_descent_constant_with_end_condition(x0, 0.5, 1e-3, max_iter=num_iterations, minimum=0)\n",
    "\n",
    "    return sum/10\n",
    "\n",
    "x = np.linspace(2, 1000, 10)\n",
    "y = np.linspace(1, 1000, 10)\n",
    "X, Y = np.meshgrid(x, y)\n",
    "\n",
    "Z = np.vectorize(T)(X, Y)\n",
    "print_full_grad([], [], title='', elev=30, azim=-14)"
   ]
  },
  {
   "cell_type": "code",
   "execution_count": null,
   "metadata": {},
   "outputs": [],
   "source": [
    "def T(n, k, num_research=10, eps=1e-3):\n",
    "    sum = 0\n",
    "    num_iterations = 1000\n",
    "    for i in range(num_research):\n",
    "        f = generate_quadratic_function_simple(int(n), int(k))\n",
    "        x0 = np.random.uniform(low=-sys.maxsize/2**48, high=sys.maxsize/2**48, size=(int(n)))\n",
    "        sum += gradient_descent_constant_with_end_condition(x0, 0.5, eps, max_iter=num_iterations, minimum=0)\n",
    "\n",
    "    return sum/num_research\n",
    "\n",
    "def constant_research_custom_function_k (eps=1e-3, filename='', filename_extension='.png', dpi=1024):\n",
    "    k_values = np.arange(1, 1001, 1)\n",
    "\n",
    "    table = {'constant': []}\n",
    "    \n",
    "    for cur_k in tqdm(k_values):\n",
    "        table['constant'].append(T(2, cur_k, eps=eps))\n",
    "\n",
    "\n",
    "    min_constant_f_count_index = np.argmin(table['constant'])\n",
    "\n",
    "    plt.xlabel('k', fontsize=14)\n",
    "    plt.ylabel('step count', fontsize=14)\n",
    "    plt.plot(k_values, table['constant'], label='constant: min - ' + str(table['constant'][min_constant_f_count_index]) + ' in ' + '%g' % k_values[min_constant_f_count_index], linewidth=0.9)\n",
    "    plt.legend(loc='upper left')\n",
    "\n",
    "    if(filename != ''):\n",
    "        plt.savefig(filename + filename_extension, dpi=dpi, bbox_inches=0, transparent=True)\n",
    "\n",
    "    plt.show()\n",
    "\n",
    "constant_research_custom_function_k (filename=filepath+'constant_research_custom_function_k')  "
   ]
  },
  {
   "cell_type": "code",
   "execution_count": null,
   "metadata": {},
   "outputs": [],
   "source": [
    "def gradient_descent_dichotomy_with_end_condition(f, x0, max_iter, minimum, step_size=0.01, eps=1e-6):\n",
    "    x = np.copy(x0)\n",
    "    steps = 0\n",
    "\n",
    "    def line_search(x, d):\n",
    "        fd = lambda alpha: f(x - alpha*d)\n",
    "        alpha = dichotomy_search(fd, 0, 1, eps)\n",
    "        return alpha\n",
    "\n",
    "    for i in range(max_iter):      \n",
    "        if abs(f(x) - minimum) < eps:\n",
    "            break\n",
    "    \n",
    "        grad_x = grad(f, x);\n",
    "        x = x - grad_x * line_search(x, grad_x) * step_size\n",
    "        steps += 1\n",
    "\n",
    "    return steps\n",
    "\n",
    "\n",
    "def T(n, k, num_research=10, eps=1e-4):\n",
    "    sum = 0\n",
    "    num_iterations = 10000\n",
    "    for i in range(num_research):\n",
    "        f = generate_quadratic_function_simple(int(n), int(k))\n",
    "        x0 = np.random.uniform(low=-sys.maxsize/2**48, high=sys.maxsize/2**48, size=(int(n)))\n",
    "        sum += gradient_descent_dichotomy_with_end_condition(f, x0, num_iterations, 0, step_size=1, eps=eps)\n",
    "\n",
    "    return sum/num_research\n",
    "\n",
    "def dichotomy_research_custom_function_k (eps=1e-3, filename='', filename_extension='.png', dpi=1024):\n",
    "    k_values = np.arange(1, 1001, 100)\n",
    "\n",
    "    table = {'dichotomy': []}\n",
    "    \n",
    "    for cur_k in tqdm(k_values):\n",
    "        table['dichotomy'].append(T(2, cur_k, eps=eps))\n",
    "\n",
    "\n",
    "    min_constant_f_count_index = np.argmin(table['dichotomy'])\n",
    "\n",
    "    plt.xlabel('k', fontsize=14)\n",
    "    plt.ylabel('step count', fontsize=14)\n",
    "    plt.plot(k_values, table['dichotomy'], label='dichotomy: min - ' + str(table['dichotomy'][min_constant_f_count_index]) + ' in ' + '%g' % k_values[min_constant_f_count_index])\n",
    "    plt.legend(loc='upper left')\n",
    "\n",
    "    if(filename != ''):\n",
    "        plt.savefig(filename + filename_extension, dpi=dpi, bbox_inches=0, transparent=True)\n",
    "\n",
    "    plt.show()\n",
    "\n",
    "dichotomy_research_custom_function_k(filename=FILE_PREFIX + 'dichotomy_research_custom_function_k')  "
   ]
  },
  {
   "cell_type": "code",
   "execution_count": null,
   "metadata": {},
   "outputs": [],
   "source": [
    "x = np.linspace(-30000, 30000, 120)\n",
    "y = np.linspace(-30000, 30000, 120)\n",
    "X, Y = np.meshgrid(x, y)\n",
    "init()\n",
    "\n",
    "num_iter = 10000\n",
    "result = [gradient_descent_constant(f, x0, lr=.5, num_iterations=num_iter),\n",
    "          gradient_descent_dichotomy(f, x0, step_size=1, num_iterations=num_iter)]\n",
    "result_label = ['constant', 'dichotomy']\n",
    "\n",
    "save_result(result, result_label, filepath + fileprefix)\n",
    "print_full_grad(result, result_label, title='', elev=25, azim=100)"
   ]
  }
 ],
 "metadata": {
  "kernelspec": {
   "display_name": "Python 3",
   "language": "python",
   "name": "python3"
  },
  "language_info": {
   "codemirror_mode": {
    "name": "ipython",
    "version": 3
   },
   "file_extension": ".py",
   "mimetype": "text/x-python",
   "name": "python",
   "nbconvert_exporter": "python",
   "pygments_lexer": "ipython3",
   "version": "3.11.1"
  },
  "orig_nbformat": 4,
  "vscode": {
   "interpreter": {
    "hash": "0c106e3956619c8654ce5e0562294058212cdd15b4527d78baaf335d52767e29"
   }
  }
 },
 "nbformat": 4,
 "nbformat_minor": 2
}
