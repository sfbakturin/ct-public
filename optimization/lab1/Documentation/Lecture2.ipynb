{
  "cells": [
    {
      "cell_type": "code",
      "execution_count": null,
      "metadata": {
        "id": "lHwC9gWy286z"
      },
      "outputs": [],
      "source": [
        "import numpy as np\n",
        "import matplotlib.pyplot as plt\n",
        "plt.rcParams[\"figure.figsize\"] = (10,10)"
      ]
    },
    {
      "cell_type": "code",
      "execution_count": null,
      "metadata": {
        "colab": {
          "base_uri": "https://localhost:8080/"
        },
        "id": "BZ8UJh_y4Dgb",
        "outputId": "76b475f5-5587-4593-a8b5-312a05a65038"
      },
      "outputs": [],
      "source": [
        "a = list(range(10))\n",
        "a"
      ]
    },
    {
      "cell_type": "code",
      "execution_count": null,
      "metadata": {
        "colab": {
          "base_uri": "https://localhost:8080/"
        },
        "id": "RsPuR4594DtL",
        "outputId": "1604d149-cadf-4219-e606-74b033ada45c"
      },
      "outputs": [],
      "source": [
        "b = np.arange(100)\n",
        "b"
      ]
    },
    {
      "cell_type": "code",
      "execution_count": null,
      "metadata": {
        "colab": {
          "base_uri": "https://localhost:8080/"
        },
        "id": "As9RAMG94DzS",
        "outputId": "bad81341-39dc-42a2-bc00-1d99c592c1cc"
      },
      "outputs": [],
      "source": [
        "c = b.reshape(10, -1)\n",
        "c"
      ]
    },
    {
      "cell_type": "code",
      "execution_count": null,
      "metadata": {
        "colab": {
          "base_uri": "https://localhost:8080/"
        },
        "id": "Jjx6kNLJ4D19",
        "outputId": "c411b084-a5ef-42ca-d2e7-b8d393b67216"
      },
      "outputs": [],
      "source": [
        "c[:5, :5] + [1, 2, 3, 4, 5]"
      ]
    },
    {
      "cell_type": "markdown",
      "metadata": {
        "id": "ECEErx9R4U6f"
      },
      "source": [
        "# Gradient descent $f(x, y) = \\alpha (x - 5)^2 + (y - 7)^2$\n"
      ]
    },
    {
      "cell_type": "code",
      "execution_count": null,
      "metadata": {
        "colab": {
          "base_uri": "https://localhost:8080/",
          "height": 592
        },
        "id": "8rn14CtS4ax5",
        "outputId": "e7f43d0e-3d91-47c6-a23a-067c3fe5ac68"
      },
      "outputs": [],
      "source": [
        "alpha = 5\n",
        "def f(x, y):\n",
        "    return alpha * (x - 5) ** 2 + (y - 7) ** 2\n",
        "\n",
        "def grad(x, y):\n",
        "    return [2 * alpha * (x  - 5), 2 * (y - 7)]\n",
        "\n",
        "t = np.linspace(-30, 30, 1000)\n",
        "X, Y = np.meshgrid(t, t)\n",
        "ax = plt.figure().add_subplot(projection='3d')\n",
        "ax.plot_surface(X, Y, f(X, Y))"
      ]
    },
    {
      "cell_type": "code",
      "execution_count": null,
      "metadata": {
        "colab": {
          "base_uri": "https://localhost:8080/",
          "height": 960
        },
        "id": "VVXhZSg84hA0",
        "outputId": "5aa46dff-970d-4996-9602-effd6791275a"
      },
      "outputs": [],
      "source": [
        "lr = 0.09\n",
        "epoch = 20\n",
        "x = [-20, -20]\n",
        "\n",
        "points = np.zeros((epoch, 2))\n",
        "points[0] = x\n",
        "for i in range(1, epoch):\n",
        "    x = x - lr * np.array(grad(x[0], x[1]))\n",
        "    points[i] = x\n",
        "\n",
        "print(points)\n",
        "plt.plot(points[:, 0], points[:, 1], 'o-')\n",
        "plt.contour(X, Y, f(X, Y), levels=sorted([f(p[0], p[1]) for p in points]))"
      ]
    },
    {
      "cell_type": "markdown",
      "metadata": {
        "id": "H5miP4kA43Gh"
      },
      "source": [
        "# Gradient descent $f(x, y) = \\sin(0.5 x^2 - 0.25 y^2 + 3)cos(2x+1-\\exp(y))$\n"
      ]
    },
    {
      "cell_type": "code",
      "execution_count": null,
      "metadata": {
        "colab": {
          "base_uri": "https://localhost:8080/",
          "height": 592
        },
        "id": "7MC_tp_A5Jl0",
        "outputId": "617dd833-2a84-4adc-eb29-857330e33a8a"
      },
      "outputs": [],
      "source": [
        "def f(x):\n",
        "    return np.sin(0.5 * x[0]**2 - 0.25 * x[1]**2 + 3)*np.cos(2*x[0]+1-np.exp(x[1]))\n",
        "\n",
        "def grad(x):\n",
        "    h = 1e-5\n",
        "    return (f(x[:, np.newaxis] + h * np.eye(2)) - f(x[:, np.newaxis] - h * np.eye(2)))/(2*h)\n",
        "\n",
        "t = np.linspace(-1.5, 1.5, 100)\n",
        "X, Y = np.meshgrid(t, t)\n",
        "ax = plt.figure().add_subplot(projection='3d')\n",
        "ax.plot_surface(X, Y, f(np.stack((X, Y))))"
      ]
    },
    {
      "cell_type": "code",
      "execution_count": null,
      "metadata": {
        "colab": {
          "base_uri": "https://localhost:8080/",
          "height": 612
        },
        "id": "kV0asWbb5Oig",
        "outputId": "686792ce-fc87-41ca-e941-9c16c81dfd42"
      },
      "outputs": [],
      "source": [
        "lr = 0.2\n",
        "epoch = 30\n",
        "x = np.array([-0.1, -0.4])\n",
        "\n",
        "points = np.zeros((epoch, 2))\n",
        "points[0] = x\n",
        "for i in range(1, epoch):\n",
        "    x = x - lr * grad(x)\n",
        "    points[i] = x\n",
        "\n",
        "fig, (ax1, ax2) = plt.subplots(1, 2)\n",
        "ax1.plot(f(points.T))\n",
        "ax1.grid()\n",
        "ax2.plot(points[:, 0], points[:, 1], 'o-')\n",
        "ax2.contour(X, Y, f(np.stack((X, Y))), levels=np.sort(np.concatenate((f(points.T), np.linspace(-1, 1, 100)))))\n",
        "print(points[-1], f(points[-1]))"
      ]
    },
    {
      "cell_type": "markdown",
      "metadata": {
        "id": "-pl4Hvap7riS"
      },
      "source": [
        "# Gradient descent for Rosenbrock function $f(x,y) = 100(y - x^2)^2 + (1 - x)^2$"
      ]
    },
    {
      "cell_type": "code",
      "execution_count": null,
      "metadata": {
        "colab": {
          "base_uri": "https://localhost:8080/",
          "height": 575
        },
        "id": "ANxvYt617uPz",
        "outputId": "abb82bc6-3b76-49a2-d745-a429f2803b9a"
      },
      "outputs": [],
      "source": [
        "from scipy.optimize import rosen, rosen_der\n",
        "\n",
        "x = np.linspace(-2, 2, 100)\n",
        "X, Y = np.meshgrid(x, x)\n",
        "ax = plt.subplot(111, projection='3d')\n",
        "ax.plot_surface(X, Y, rosen(np.stack((X, Y))))\n",
        "plt.show()"
      ]
    },
    {
      "cell_type": "code",
      "execution_count": null,
      "metadata": {
        "colab": {
          "base_uri": "https://localhost:8080/",
          "height": 613
        },
        "id": "qMXJ6eGW9R-f",
        "outputId": "cebc78b2-5efa-482f-9c35-7fe03ccf6aca"
      },
      "outputs": [],
      "source": [
        "lr = 0.003\n",
        "epoch = 100\n",
        "x = np.array([0.5, -0.5])\n",
        "\n",
        "points = np.zeros((epoch, 2))\n",
        "points[0] = x\n",
        "for i in range(1, epoch):\n",
        "    x = x - lr * rosen_der(x)\n",
        "    points[i] = x\n",
        "\n",
        "fig, (ax1, ax2) = plt.subplots(1, 2)\n",
        "ax1.plot(rosen(points.T))\n",
        "ax1.grid()\n",
        "ax2.plot(points[:, 0], points[:, 1], 'o-')\n",
        "ax2.contour(X, Y, rosen(np.stack((X, Y))), levels=np.sort(np.concatenate((rosen(points.T), np.linspace(-100, 200, 30)))))\n",
        "print(points[-1], f(points[-1]))"
      ]
    }
  ],
  "metadata": {
    "colab": {
      "collapsed_sections": [
        "ECEErx9R4U6f",
        "H5miP4kA43Gh",
        "-pl4Hvap7riS"
      ],
      "provenance": []
    },
    "kernelspec": {
      "display_name": "Python 3",
      "language": "python",
      "name": "python3"
    },
    "language_info": {
      "codemirror_mode": {
        "name": "ipython",
        "version": 3
      },
      "file_extension": ".py",
      "mimetype": "text/x-python",
      "name": "python",
      "nbconvert_exporter": "python",
      "pygments_lexer": "ipython3",
      "version": "3.11.1"
    },
    "vscode": {
      "interpreter": {
        "hash": "0c106e3956619c8654ce5e0562294058212cdd15b4527d78baaf335d52767e29"
      }
    }
  },
  "nbformat": 4,
  "nbformat_minor": 0
}
